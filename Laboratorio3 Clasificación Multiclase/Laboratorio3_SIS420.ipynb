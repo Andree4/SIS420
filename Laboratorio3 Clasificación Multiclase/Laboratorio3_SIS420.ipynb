{
  "nbformat": 4,
  "nbformat_minor": 0,
  "metadata": {
    "colab": {
      "provenance": []
    },
    "kernelspec": {
      "name": "python3",
      "display_name": "Python 3"
    },
    "language_info": {
      "name": "python"
    }
  },
  "cells": [
    {
      "cell_type": "markdown",
      "source": [
        "**LABORATORIO 3 SIS420**\n",
        "\n",
        "Arancibia Aguilar Daniel Andree\n",
        "\n",
        "**CLASIFICACIÓN MULTICLASE**\n",
        "\n",
        "La clasificación multiclase es un tipo de problema en el aprendizaje automático donde tenemos que asignar una instancia como una imagen o texto a una de varias clases diferentes. En lugar de tener solo dos opciones como en la clasificación binaria, en la clasificación multiclase tenemos más opciones entre las cuales elegir.\n",
        "\n",
        "Usare un dataset de reconocimiento de letras con 26 clases en las que cada letra equivale a una clase\n",
        "\n",
        "https://www.kaggle.com/datasets/nishan192/letterrecognition-using-svm\n",
        "\n",
        "El dataset cuenta con 17 columnas y 20000 filas, se cumple el requisito para el laboratorio n>10 y m>=20000\n",
        "\n",
        "Valores de entrada:\n",
        "xbox\n",
        "\n",
        "ybox\n",
        "\n",
        "width\n",
        "\n",
        "height\n",
        "\n",
        "onpix\n",
        "\n",
        "xbar\n",
        "\n",
        "ybar\n",
        "\n",
        "x2bar\n",
        "\n",
        "xybar\n",
        "\n",
        "x2ybar\n",
        "\n",
        "xy2bar\n",
        "\n",
        "xedge\n",
        "\n",
        "xedgey\n",
        "\n",
        "yedgex\n",
        "\n",
        "Valor de salida:\n",
        "letter\n"
      ],
      "metadata": {
        "id": "eXWIJjTO3mhU"
      }
    },
    {
      "cell_type": "markdown",
      "source": [
        "**Importamos el drive**"
      ],
      "metadata": {
        "id": "Whvd9r4cm-X5"
      }
    },
    {
      "cell_type": "code",
      "source": [
        "from google.colab import drive\n",
        "drive.mount('/content/gdrive')"
      ],
      "metadata": {
        "colab": {
          "base_uri": "https://localhost:8080/"
        },
        "id": "zv8sRiIb8IFY",
        "outputId": "6119968c-13df-47a5-8c4b-c5840838869f"
      },
      "execution_count": 190,
      "outputs": [
        {
          "output_type": "stream",
          "name": "stdout",
          "text": [
            "Drive already mounted at /content/gdrive; to attempt to forcibly remount, call drive.mount(\"/content/gdrive\", force_remount=True).\n"
          ]
        }
      ]
    },
    {
      "cell_type": "markdown",
      "source": [
        "**Importamos todas las librerias que usaremos en nuestro cuadernillo**"
      ],
      "metadata": {
        "id": "1ovRMkUSnCQI"
      }
    },
    {
      "cell_type": "code",
      "execution_count": 189,
      "metadata": {
        "id": "7F2kT36N3i7f"
      },
      "outputs": [],
      "source": [
        "import os\n",
        "import numpy as np\n",
        "import pandas as pd\n",
        "import sklearn as skl\n",
        "from sklearn.svm import SVC\n",
        "from matplotlib import pyplot\n",
        "from scipy import optimize\n",
        "from scipy.io import loadmat\n",
        "from sklearn.model_selection import train_test_split\n",
        "%matplotlib inline"
      ]
    },
    {
      "cell_type": "markdown",
      "source": [
        "**Empiezo cargando el dataset en PANDAS esto para hacerle un análisis y modificación que hara que funcione correctamente para la Clasificación Multiclase**"
      ],
      "metadata": {
        "id": "kda-hPHmnMQv"
      }
    },
    {
      "cell_type": "code",
      "source": [
        "url = \"/content/gdrive/MyDrive/SIS420/Lab3/letter-recognition.csv\"\n",
        "dataframe = pd.read_csv(url)\n",
        "print(dataframe)"
      ],
      "metadata": {
        "colab": {
          "base_uri": "https://localhost:8080/"
        },
        "id": "nVn70LdYdLv2",
        "outputId": "4ffd5a1c-3b58-4ce9-eaeb-ea4f992a4bad"
      },
      "execution_count": 191,
      "outputs": [
        {
          "output_type": "stream",
          "name": "stdout",
          "text": [
            "      letter  xbox   ybox   width   height  onpix   xbar   ybar   x2bar  \\\n",
            "0          T      2      8       3       5       1      8     13      0   \n",
            "1          I      5     12       3       7       2     10      5      5   \n",
            "2          D      4     11       6       8       6     10      6      2   \n",
            "3          N      7     11       6       6       3      5      9      4   \n",
            "4          G      2      1       3       1       1      8      6      6   \n",
            "...      ...    ...    ...     ...     ...     ...    ...    ...    ...   \n",
            "19995      D      2      2       3       3       2      7      7      7   \n",
            "19996      C      7     10       8       8       4      4      8      6   \n",
            "19997      T      6      9       6       7       5      6     11      3   \n",
            "19998      S      2      3       4       2       1      8      7      2   \n",
            "19999      A      4      9       6       6       2      9      5      3   \n",
            "\n",
            "       y2bar   xybar   x2ybar  xy2bar  xedge   xedgey  yedge   yedgex  \n",
            "0           6       6      10       8       0       8       0       8  \n",
            "1           4      13       3       9       2       8       4      10  \n",
            "2           6      10       3       7       3       7       3       9  \n",
            "3           6       4       4      10       6      10       2       8  \n",
            "4           6       6       5       9       1       7       5      10  \n",
            "...       ...     ...     ...     ...     ...     ...     ...     ...  \n",
            "19995       6       6       6       4       2       8       3       7  \n",
            "19996       9      12       9      13       2       9       3       7  \n",
            "19997       7      11       9       5       2      12       2       4  \n",
            "19998       6      10       6       8       1       9       5       8  \n",
            "19999       1       8       1       8       2       7       2       8  \n",
            "\n",
            "[20000 rows x 17 columns]\n"
          ]
        }
      ]
    },
    {
      "cell_type": "markdown",
      "source": [
        "**Análisis del dataframe para verificar si existen valores nulos y poder ver el tamaño del dataframe**\n",
        "\n",
        "En el caso de mi dataframe no se encontró valores nulos que afecten al laboratorio"
      ],
      "metadata": {
        "id": "LSb9FdrMnl0M"
      }
    },
    {
      "cell_type": "code",
      "source": [
        "print(dataframe.describe())"
      ],
      "metadata": {
        "colab": {
          "base_uri": "https://localhost:8080/"
        },
        "id": "pFQU_bTndja3",
        "outputId": "96891268-99fb-4386-a123-57a91873ef6b"
      },
      "execution_count": 192,
      "outputs": [
        {
          "output_type": "stream",
          "name": "stdout",
          "text": [
            "              xbox          ybox         width        height        onpix   \\\n",
            "count  20000.000000  20000.000000  20000.000000  20000.00000  20000.000000   \n",
            "mean       4.023550      7.035500      5.121850      5.37245      3.505850   \n",
            "std        1.913212      3.304555      2.014573      2.26139      2.190458   \n",
            "min        0.000000      0.000000      0.000000      0.00000      0.000000   \n",
            "25%        3.000000      5.000000      4.000000      4.00000      2.000000   \n",
            "50%        4.000000      7.000000      5.000000      6.00000      3.000000   \n",
            "75%        5.000000      9.000000      6.000000      7.00000      5.000000   \n",
            "max       15.000000     15.000000     15.000000     15.00000     15.000000   \n",
            "\n",
            "              xbar          ybar          x2bar        y2bar         xybar   \\\n",
            "count  20000.000000  20000.000000  20000.000000  20000.000000  20000.000000   \n",
            "mean       6.897600      7.500450      4.628600      5.178650      8.282050   \n",
            "std        2.026035      2.325354      2.699968      2.380823      2.488475   \n",
            "min        0.000000      0.000000      0.000000      0.000000      0.000000   \n",
            "25%        6.000000      6.000000      3.000000      4.000000      7.000000   \n",
            "50%        7.000000      7.000000      4.000000      5.000000      8.000000   \n",
            "75%        8.000000      9.000000      6.000000      7.000000     10.000000   \n",
            "max       15.000000     15.000000     15.000000     15.000000     15.000000   \n",
            "\n",
            "            x2ybar        xy2bar        xedge         xedgey        yedge   \\\n",
            "count  20000.00000  20000.000000  20000.000000  20000.000000  20000.000000   \n",
            "mean       6.45400      7.929000      3.046100      8.338850      3.691750   \n",
            "std        2.63107      2.080619      2.332541      1.546722      2.567073   \n",
            "min        0.00000      0.000000      0.000000      0.000000      0.000000   \n",
            "25%        5.00000      7.000000      1.000000      8.000000      2.000000   \n",
            "50%        6.00000      8.000000      3.000000      8.000000      3.000000   \n",
            "75%        8.00000      9.000000      4.000000      9.000000      5.000000   \n",
            "max       15.00000     15.000000     15.000000     15.000000     15.000000   \n",
            "\n",
            "            yedgex  \n",
            "count  20000.00000  \n",
            "mean       7.80120  \n",
            "std        1.61747  \n",
            "min        0.00000  \n",
            "25%        7.00000  \n",
            "50%        8.00000  \n",
            "75%        9.00000  \n",
            "max       15.00000  \n"
          ]
        }
      ]
    },
    {
      "cell_type": "markdown",
      "source": [
        "**Modificación de valores**\n",
        "\n",
        "En mi dataset la primera columna \"letter\" tenia valores de texto desde la A - Z que no son compatibles con el modelo\n",
        "\n",
        "Modifico todas las letras cambiandolas por un valor numérico del 1 al 26 que representa el numero de clase"
      ],
      "metadata": {
        "id": "0lWc3sGPoPNT"
      }
    },
    {
      "cell_type": "code",
      "source": [
        "mapeo_letras = {'A': 1, 'B': 2, 'C': 3, 'D': 4, 'E': 5, 'F': 6, 'G': 7, 'H': 8, 'I': 9, 'J': 10,\n",
        "                'K': 11, 'L': 12, 'M': 13, 'N': 14, 'O': 15, 'P': 16, 'Q': 17, 'R': 18, 'S': 19,\n",
        "                'T': 20, 'U': 21, 'V': 22, 'W': 23, 'X': 24, 'Y': 25, 'Z': 26}\n",
        "dataframe['letter'] = dataframe['letter'].map(mapeo_letras)\n",
        "\n",
        "# Imprimo el DataFrame resultante con la columna 'letter' modificada\n",
        "print(dataframe)"
      ],
      "metadata": {
        "colab": {
          "base_uri": "https://localhost:8080/"
        },
        "id": "Br5y3KNxgPFq",
        "outputId": "08f14212-1ce9-4ad9-e53b-f6e49e041433"
      },
      "execution_count": 193,
      "outputs": [
        {
          "output_type": "stream",
          "name": "stdout",
          "text": [
            "       letter  xbox   ybox   width   height  onpix   xbar   ybar   x2bar  \\\n",
            "0          20      2      8       3       5       1      8     13      0   \n",
            "1           9      5     12       3       7       2     10      5      5   \n",
            "2           4      4     11       6       8       6     10      6      2   \n",
            "3          14      7     11       6       6       3      5      9      4   \n",
            "4           7      2      1       3       1       1      8      6      6   \n",
            "...       ...    ...    ...     ...     ...     ...    ...    ...    ...   \n",
            "19995       4      2      2       3       3       2      7      7      7   \n",
            "19996       3      7     10       8       8       4      4      8      6   \n",
            "19997      20      6      9       6       7       5      6     11      3   \n",
            "19998      19      2      3       4       2       1      8      7      2   \n",
            "19999       1      4      9       6       6       2      9      5      3   \n",
            "\n",
            "       y2bar   xybar   x2ybar  xy2bar  xedge   xedgey  yedge   yedgex  \n",
            "0           6       6      10       8       0       8       0       8  \n",
            "1           4      13       3       9       2       8       4      10  \n",
            "2           6      10       3       7       3       7       3       9  \n",
            "3           6       4       4      10       6      10       2       8  \n",
            "4           6       6       5       9       1       7       5      10  \n",
            "...       ...     ...     ...     ...     ...     ...     ...     ...  \n",
            "19995       6       6       6       4       2       8       3       7  \n",
            "19996       9      12       9      13       2       9       3       7  \n",
            "19997       7      11       9       5       2      12       2       4  \n",
            "19998       6      10       6       8       1       9       5       8  \n",
            "19999       1       8       1       8       2       7       2       8  \n",
            "\n",
            "[20000 rows x 17 columns]\n"
          ]
        }
      ]
    },
    {
      "cell_type": "markdown",
      "source": [
        "**Convertir el dataset modificado en PANDAS**\n",
        "\n",
        "Usare la variable data para convertir el dataset a un array compatible con numpy que guarde solo los valores"
      ],
      "metadata": {
        "id": "UK8Gft4UpLZ7"
      }
    },
    {
      "cell_type": "code",
      "source": [
        "data = dataframe.values\n",
        "X, y = data[:, 1:], data[:, 0]\n",
        "#Imprimo el tamaño de las caracteristicas y del label que usare\n",
        "print(X.shape)\n",
        "print(y.shape)"
      ],
      "metadata": {
        "colab": {
          "base_uri": "https://localhost:8080/"
        },
        "id": "bJbePoS3R1WT",
        "outputId": "2cdba223-1aaf-4756-b666-a2e44d61711f"
      },
      "execution_count": 157,
      "outputs": [
        {
          "output_type": "stream",
          "name": "stdout",
          "text": [
            "(20000, 16)\n",
            "(20000,)\n"
          ]
        }
      ]
    },
    {
      "cell_type": "code",
      "source": [
        "#Imprimo y para ver el array\n",
        "y"
      ],
      "metadata": {
        "colab": {
          "base_uri": "https://localhost:8080/"
        },
        "id": "5M_uCaMZR70v",
        "outputId": "346299cc-4a27-4de1-b4e6-bb98f9707ba5"
      },
      "execution_count": 158,
      "outputs": [
        {
          "output_type": "execute_result",
          "data": {
            "text/plain": [
              "array([20,  9,  4, ..., 20, 19,  1])"
            ]
          },
          "metadata": {},
          "execution_count": 158
        }
      ]
    },
    {
      "cell_type": "markdown",
      "source": [
        "**Defino variables que coincidan con mi dataset para usarlas en las funciones**"
      ],
      "metadata": {
        "id": "kIVJmr7nqaJn"
      }
    },
    {
      "cell_type": "code",
      "source": [
        "input_layer_size  = 17\n",
        "num_labels = 26\n",
        "m = y.size"
      ],
      "metadata": {
        "id": "Upfw2XF4R-Zc"
      },
      "execution_count": 159,
      "outputs": []
    },
    {
      "cell_type": "markdown",
      "source": [
        "**Defino la funcion para calcular la sigmoide **\n",
        "\n",
        "Esta funcion nos servira para hacer las predicciones"
      ],
      "metadata": {
        "id": "HODXYsZkqgAh"
      }
    },
    {
      "cell_type": "code",
      "source": [
        "def calcularSigmoide(z):\n",
        "    return 1.0 / (1.0 + np.exp(-z))"
      ],
      "metadata": {
        "id": "HbVN7OZMR_sS"
      },
      "execution_count": 160,
      "outputs": []
    },
    {
      "cell_type": "markdown",
      "source": [
        "**Defino la funcion calcularCosto**\n",
        "\n",
        "La usar para evaluar y mejorar la precisión del modelo al manejar múltiples clases"
      ],
      "metadata": {
        "id": "HxlKYmRhrOTs"
      }
    },
    {
      "cell_type": "code",
      "source": [
        "def calcularCosto(theta, X, y, lambda_):\n",
        "    # Inicializa algunos valores utiles\n",
        "    m = y.size\n",
        "\n",
        "    # convierte las etiquetas a valores enteros si son boleanos\n",
        "    if y.dtype == bool:\n",
        "        y = y.astype(int)\n",
        "\n",
        "    J = 0\n",
        "    grad = np.zeros(theta.shape)\n",
        "\n",
        "    h = calcularSigmoide(X.dot(theta.T))\n",
        "\n",
        "    temp = theta\n",
        "    temp[0] = 0\n",
        "\n",
        "    J = (1 / m) * np.sum(-y.dot(np.log(h)) - (1 - y).dot(np.log(1 - h))) + (lambda_ / (2 * m)) * np.sum(np.square(temp))\n",
        "\n",
        "    grad = (1 / m) * (h - y).dot(X)\n",
        "    # Se aplica regularizacion en la siguiente linea\n",
        "    grad = grad + (lambda_ / m) * temp\n",
        "\n",
        "    return J, grad"
      ],
      "metadata": {
        "id": "1Yo9LqrJSBM6"
      },
      "execution_count": 161,
      "outputs": []
    },
    {
      "cell_type": "markdown",
      "source": [
        "Defino valores de prueba para la funcion de calcularCosto"
      ],
      "metadata": {
        "id": "UX0YH9P1s3Hs"
      }
    },
    {
      "cell_type": "code",
      "source": [
        "#Valor de prueba para theta\n",
        "theta_t = np.array([0.5, 0.2, 0.8, 0.3, 0.1,0.4, 0.7, 0.1, 0.2, 0.5, 0.6, 0.6, 0.3, 0.7, 0.4, 0.8,0.9], dtype=float)\n",
        "\n",
        "# Valores de prueba para las características\n",
        "# Concateno una columna de unos\n",
        "X_t = np.concatenate((np.ones((15, 17)), np.arange(1, 16).reshape(15, 1, order='F')/10.0), axis=1)\n",
        "\n",
        "# Valores de prueba para las entradas X\n",
        "X_t = np.concatenate((np.ones((20000, 1)), np.random.rand(20000, 16)), axis=1)\n",
        "print(X_t)\n",
        "\n",
        "# Valores de prueba para las clases\n",
        "y_t = np.random.randint(0, 26, 20000)\n",
        "\n",
        "# Valor de prueba para la regularización\n",
        "lambda_t = 0.2"
      ],
      "metadata": {
        "colab": {
          "base_uri": "https://localhost:8080/"
        },
        "id": "Ujfv3PWZSDdU",
        "outputId": "80fc397e-3e10-473d-dd3f-dc1229baf473"
      },
      "execution_count": 194,
      "outputs": [
        {
          "output_type": "stream",
          "name": "stdout",
          "text": [
            "[[1.         0.74291169 0.78348988 ... 0.13398965 0.9866334  0.59014541]\n",
            " [1.         0.37137195 0.30951346 ... 0.63205062 0.73145424 0.00909578]\n",
            " [1.         0.3137744  0.98988815 ... 0.06421577 0.34199219 0.17276181]\n",
            " ...\n",
            " [1.         0.34131595 0.48785605 ... 0.16259161 0.05801449 0.41830987]\n",
            " [1.         0.66898618 0.89812529 ... 0.14212825 0.13568148 0.62632146]\n",
            " [1.         0.41592231 0.77475351 ... 0.93437375 0.58467432 0.51645016]]\n"
          ]
        }
      ]
    },
    {
      "cell_type": "markdown",
      "source": [
        "**Prueba de la funcion calcularCosto**"
      ],
      "metadata": {
        "id": "zErTHiCutQev"
      }
    },
    {
      "cell_type": "code",
      "source": [
        "J, grad = calcularCosto(theta_t, X_t, y_t, lambda_t)\n",
        "\n",
        "print('Costo         : {:.6f}'.format(J))\n",
        "print('Costo esperadot: 2.534819')\n",
        "print('-----------------------')\n",
        "print('Gradientes:')\n",
        "print(' [{:.6f}, {:.6f}, {:.6f}, {:.6f}]'.format(*grad))\n",
        "print('Gradientes esperados:')\n",
        "print(' [0.146561, -0.548558, 0.724722, 1.398003]');"
      ],
      "metadata": {
        "colab": {
          "base_uri": "https://localhost:8080/"
        },
        "id": "e2FxARoSTBcl",
        "outputId": "6ce7f490-a03f-4af9-ccbe-bc439dc8b909"
      },
      "execution_count": 195,
      "outputs": [
        {
          "output_type": "stream",
          "name": "stdout",
          "text": [
            "Costo         : -49.266894\n",
            "Costo esperadot: 2.534819\n",
            "-----------------------\n",
            "Gradientes:\n",
            " [-11.505162, -5.783847, -5.692062, -5.704354]\n",
            "Gradientes esperados:\n",
            " [0.146561, -0.548558, 0.724722, 1.398003]\n"
          ]
        }
      ]
    },
    {
      "cell_type": "markdown",
      "source": [
        "**Defino la funcion oneVsAll**\n",
        "\n",
        "La función OnevsAll permite entrenar múltiples clasificadores binarios para resolver problemas de clasificación multiclase y combinar sus predicciones para obtener una clasificación final\n",
        "\n",
        "Esta funcion hace que se cree una clasificación binaria para cada clase que tengamos en el dataset en el que se trata la clase como una positiva y a las demas como negativas"
      ],
      "metadata": {
        "id": "hXOZsP8ntYvr"
      }
    },
    {
      "cell_type": "code",
      "source": [
        "def oneVsAll(X, y, num_labels, lambda_):\n",
        "\n",
        "    m, n = X.shape\n",
        "    all_theta = np.zeros((num_labels, n + 1))\n",
        "    X = np.concatenate([np.ones((m, 1)), X], axis=1)\n",
        "\n",
        "    for c in np.arange(num_labels):\n",
        "        initial_theta = np.zeros(n + 1)\n",
        "        options = {'maxiter': 5000}\n",
        "        res = optimize.minimize(calcularCosto,\n",
        "                                initial_theta,\n",
        "                                (X, (y == (c + 1)), lambda_),\n",
        "                                jac=True,\n",
        "                                method='BFGS',\n",
        "                                options=options)\n",
        "        all_theta[c] = res.x\n",
        "    return all_theta\n"
      ],
      "metadata": {
        "id": "shw7oprFTDXP"
      },
      "execution_count": 164,
      "outputs": []
    },
    {
      "cell_type": "markdown",
      "source": [
        "**Establezco la variable de regularización (lambda) y usamos la funcion onevsall para obtener las thetas**"
      ],
      "metadata": {
        "id": "sC5AOkscumsC"
      }
    },
    {
      "cell_type": "code",
      "source": [
        "lambda_ = 0.2\n",
        "all_theta = oneVsAll(X, y, num_labels, lambda_)"
      ],
      "metadata": {
        "id": "lOUXa43tTFBS"
      },
      "execution_count": 165,
      "outputs": []
    },
    {
      "cell_type": "code",
      "source": [
        "#Imprimo las thetas\n",
        "print(all_theta)"
      ],
      "metadata": {
        "colab": {
          "base_uri": "https://localhost:8080/"
        },
        "id": "1PXgRBKeTG-x",
        "outputId": "ca105683-8912-4523-ef90-ede0332b262d"
      },
      "execution_count": 196,
      "outputs": [
        {
          "output_type": "stream",
          "name": "stdout",
          "text": [
            "[[ 6.33431855e+00 -7.93078727e-01  1.71746765e-01  9.48671497e-01\n",
            "   2.73110090e-02 -5.20882996e-01  5.72807754e-01 -3.50921822e-01\n",
            "  -4.97150153e-01 -1.02436910e+00 -6.27195244e-01 -3.86999257e-01\n",
            "   6.17320260e-01 -1.75930324e-01 -1.80721798e-01  2.32460166e-01\n",
            "  -6.96378818e-01]\n",
            " [-2.27905635e+00  5.36612851e-02  5.65606807e-02 -6.00894455e-01\n",
            "  -7.47765277e-01  8.76621210e-01  6.54983139e-02 -3.82160826e-01\n",
            "   2.82399988e-01  2.09455492e-01  3.21706230e-01  1.38264434e-01\n",
            "  -9.18969381e-01 -1.12420624e-01 -3.58197684e-01  5.63471650e-01\n",
            "   5.74714769e-01]\n",
            " [-3.56443609e+01  1.86346775e-01  1.78634655e-01 -3.38025155e-01\n",
            "  -4.36337319e-01  1.43722402e-01  9.98926611e-02  4.72703137e-01\n",
            "   3.42332191e-01  4.31513312e-01  4.38784847e-01  2.29627189e-01\n",
            "   1.04794835e+00  3.29056725e-01  4.40080339e-01 -3.65121062e-02\n",
            "   6.02534454e-01]\n",
            " [ 2.95191054e+00 -5.26692953e-02  2.13608540e-01 -9.15572005e-01\n",
            "  -9.73321395e-01  1.25957676e+00  2.21597589e-03 -6.26345806e-01\n",
            "   8.14006940e-01  1.03793522e+00  7.24160838e-01 -3.51849613e-01\n",
            "  -1.31157380e+00  3.55575374e-01 -3.96254457e-01 -9.21704233e-02\n",
            "  -2.02932765e-01]\n",
            " [-1.74274577e+01 -2.35479487e-01  1.98841572e-01 -4.20914973e-01\n",
            "  -5.77593255e-01  7.15510712e-01 -3.19081330e-01  3.69189965e-01\n",
            "  -2.92567387e-01  3.97116704e-01  4.28365115e-01 -1.70494288e-01\n",
            "   5.87015202e-01  4.03754428e-02  6.43090017e-02  4.82357013e-01\n",
            "   3.97493066e-01]\n",
            " [-8.81670595e+00 -5.99379079e-01  8.37295185e-02 -1.50645778e-01\n",
            "  -2.17308780e-01  6.50806356e-01 -4.65095912e-01  3.26057630e-01\n",
            "  -3.07471017e-01 -3.93933160e-02  7.99728407e-01  1.92379105e-01\n",
            "  -3.65915059e-01  5.37813269e-02 -1.25843796e-01  3.80347442e-01\n",
            "   1.32025990e-01]\n",
            " [-1.03005110e+01  8.87129988e-03  1.00714730e-01  3.50371016e-01\n",
            "  -4.18594767e-01 -5.77758322e-02 -2.13782877e-02 -2.67430142e-01\n",
            "   2.20557596e-01 -1.25636672e-01 -1.44187084e-01  2.86638407e-02\n",
            "   3.26519607e-01 -1.90752581e-01  2.72786452e-01  2.77931622e-01\n",
            "   4.25095925e-01]\n",
            " [-6.68297660e+00 -1.88015438e-01  9.03337948e-03  6.66228666e-01\n",
            "  -6.82861199e-01  4.97741694e-01  1.06856702e-01  1.48453594e-01\n",
            "   4.21395365e-01 -1.47973198e-02  6.15475194e-02 -1.81438262e-01\n",
            "   9.98986508e-02 -2.36568112e-01 -4.15913294e-02 -2.08145934e-01\n",
            "  -3.37841545e-02]\n",
            " [ 3.08919069e+00  2.20248521e-01  3.30477942e-01 -1.82236604e+00\n",
            "   1.51978006e-02  7.97624044e-01  1.96678017e-02 -5.43452586e-01\n",
            "  -7.53437241e-01  3.14142208e-02  1.76414033e-01  4.28812634e-01\n",
            "  -5.02396039e-01 -7.24845437e-01 -4.32573370e-02 -1.24351069e-03\n",
            "   3.56740791e-01]\n",
            " [-1.12664412e+01 -4.43783377e-02 -3.53491940e-01 -4.63888000e-01\n",
            "   6.01156137e-01  2.44304607e-01  9.52336860e-01  4.60835770e-01\n",
            "   1.52101794e-01  1.65319372e-03  7.99958924e-01 -2.12968474e-02\n",
            "   1.53102344e-01 -4.15408850e-01 -7.82938509e-01  4.32704602e-02\n",
            "  -6.77513102e-01]\n",
            " [-6.91130490e+00 -2.96452467e-01  3.46108419e-03  7.28285175e-01\n",
            "  -2.26189461e-01 -3.59506382e-01 -7.77056686e-01  6.34511951e-02\n",
            "  -5.94162129e-01 -6.10079228e-02  4.14116756e-02 -1.64955021e-01\n",
            "   4.72663024e-01  2.95784187e-01 -2.42857438e-01  1.96875110e-01\n",
            "   8.47185411e-01]\n",
            " [ 3.21113267e+00 -1.09264213e-01  3.74799206e-01 -3.75748969e-01\n",
            "  -5.09784516e-01  7.11006640e-01 -4.42593427e-01 -1.26174742e+00\n",
            "  -4.31619065e-01  5.16705260e-01 -2.91448108e-01 -1.67707631e-01\n",
            "   1.68862013e-01 -1.15929653e-01  4.29274631e-01 -1.35456200e-01\n",
            "   1.29405594e-01]\n",
            " [-4.38362342e+00 -2.10699996e-01  2.96967116e-02  5.90081426e-01\n",
            "  -1.10420717e+00  4.77809877e-01  2.29766114e-01  1.98418658e-01\n",
            "   2.87027154e-01  3.99066598e-01 -1.40396227e-01  3.82228323e-02\n",
            "   4.26171386e-01  1.14912172e+00 -1.30951129e+00 -8.33230243e-01\n",
            "  -1.88790000e-01]\n",
            " [-2.10869008e+00 -6.16384392e-01  1.34955146e-01  5.99015076e-01\n",
            "  -1.89002798e-01 -3.11339082e-01 -1.57839911e-02  5.26545542e-01\n",
            "   3.08552594e-01  2.33038355e-01  1.97719426e-03 -5.98721154e-01\n",
            "   4.10708435e-02  5.89610885e-01  1.87379532e-02 -7.05907830e-01\n",
            "  -6.59023501e-01]\n",
            " [-5.38764594e+00  2.40863156e-01  6.69255934e-02 -3.00578127e-01\n",
            "  -3.04384890e-01  2.40679994e-01  1.16957362e-01 -4.93109503e-03\n",
            "   3.90878713e-01  1.06430074e-01  8.39433748e-02 -2.06522817e-01\n",
            "   4.47213807e-02  1.65495984e-02  7.72131946e-02  2.63618127e-02\n",
            "  -1.51470464e-01]\n",
            " [-2.65781887e+00  8.54190701e-03 -1.64352562e-01 -9.71329148e-02\n",
            "  -1.63440599e-01  6.40147839e-01 -1.64359439e-01 -4.45401851e-01\n",
            "   4.16274155e-01 -8.43621847e-01  5.66340441e-01 -1.71192563e-01\n",
            "  -1.51480114e+00 -3.87458266e-01  9.76536168e-01  2.12058852e-01\n",
            "   2.89183010e-01]\n",
            " [-9.55568036e+00  5.14623525e-01 -2.94772746e-01 -4.51088191e-01\n",
            "   3.32724226e-01  6.43289724e-02  6.51502493e-01 -1.64009122e-01\n",
            "   1.43047463e-01 -3.34860293e-01 -5.41039807e-01  6.51149997e-02\n",
            "   4.39873651e-01 -2.52626215e-01 -6.63289404e-03  3.22699920e-01\n",
            "   2.82546181e-01]\n",
            " [-1.30679781e+00 -1.26325093e-01  1.35500625e-01 -2.35192955e-01\n",
            "  -5.18059386e-01  4.36833435e-01 -3.09433729e-02  8.89232888e-01\n",
            "   2.94879800e-02  4.38020147e-02 -2.19226315e-01 -8.85888713e-01\n",
            "  -1.00192477e-01  1.12975736e-01 -7.87322280e-01  1.34807390e-01\n",
            "   5.96751897e-01]\n",
            " [-6.92843442e+00 -1.44722879e-01  1.79034294e-01  6.72040336e-01\n",
            "  -3.87838857e-01 -5.45673329e-01  3.78754184e-01 -1.13240059e-01\n",
            "   7.12641842e-02 -1.79577462e-01  5.20596651e-02  4.25722283e-03\n",
            "  -9.29870628e-02 -7.05113900e-01  1.18066519e-01  8.17788416e-01\n",
            "  -1.45641517e-01]\n",
            " [-2.45226036e+01  5.22881746e-01  2.78826002e-01 -1.18280327e+00\n",
            "  -6.62324256e-01  1.16972351e+00  7.04190424e-01  1.45132253e+00\n",
            "  -1.33907158e-02  9.72612758e-01  1.06463461e-01  1.88366435e-01\n",
            "   1.87187795e-01 -8.31243399e-02 -7.17492682e-03 -2.91579159e-01\n",
            "  -5.71076031e-01]\n",
            " [-6.36475551e+00  6.16731744e-01  2.07445492e-01 -7.84301348e-01\n",
            "  -9.55211746e-01  1.04160339e+00  4.27826124e-02 -5.64128737e-01\n",
            "   3.94540071e-01  1.05201493e+00 -3.60638153e-01  8.24578609e-01\n",
            "   3.02522119e-01  1.89680707e-01  1.29387814e-01 -9.37966298e-01\n",
            "  -7.21905443e-01]\n",
            " [-1.39215533e+01  1.01332473e-01  3.06805108e-01 -1.10025399e-01\n",
            "  -4.59610070e-01  1.84262205e-01 -1.41049039e-01  2.94061032e-01\n",
            "  -1.04085428e-01 -5.76018139e-01 -1.88761930e-01  1.09419779e+00\n",
            "  -3.81315134e-01  8.82874389e-02  1.39666737e-01  3.09854443e-01\n",
            "   4.41581897e-01]\n",
            " [-4.11151844e+00 -7.01851102e-02 -9.72347199e-03 -6.39793342e-02\n",
            "  -3.02108606e-01  2.49640774e-01 -3.69500688e-01 -2.44966400e-02\n",
            "  -3.03103017e-01 -7.25417028e-01 -1.65413330e-01  2.33990267e-01\n",
            "  -3.64836854e-01  1.03605121e+00  7.34955833e-01 -5.67717267e-01\n",
            "  -8.19729167e-02]\n",
            " [-1.27607434e+00 -4.85345125e-01  8.27090644e-02  1.02361778e+00\n",
            "  -1.28776018e-02 -1.32921394e+00  7.40266490e-03 -8.62241808e-02\n",
            "  -9.11729366e-01  1.73314271e-01 -3.40069157e-01  5.54924852e-02\n",
            "  -6.69034421e-02  4.82050262e-01 -3.55917024e-02  6.66152809e-01\n",
            "  -3.70184646e-03]\n",
            " [-5.50677014e+00  3.18057271e-01 -2.97192477e-01 -9.57838384e-02\n",
            "   2.95300619e-01 -3.34601957e-02 -5.24054877e-04 -6.11320450e-01\n",
            "  -6.25297896e-01 -2.70717468e-01 -3.83200387e-01  9.84951736e-01\n",
            "  -1.05568070e-01 -7.56357593e-01  1.31425363e+00  4.28067094e-01\n",
            "  -9.23175502e-01]\n",
            " [-2.57336783e+01 -1.97659815e-01 -4.25755153e-01 -4.28964383e-01\n",
            "   1.78134187e-01  3.40947257e-01  9.83742354e-01 -4.95286686e-02\n",
            "  -3.35714620e-01  1.14352855e+00  8.75825130e-01  5.15899088e-02\n",
            "   8.30474935e-02 -3.30816810e-01  2.56978890e-02  1.34508725e+00\n",
            "  -5.10209082e-01]]\n"
          ]
        }
      ]
    },
    {
      "cell_type": "markdown",
      "source": [
        "**Defino la funcion predictOneVsAll**\n",
        "\n",
        "Esta funcion se encargará de hacer las predicciones haciendo uso de las thetas y las caracteristicas X"
      ],
      "metadata": {
        "id": "FV4Y2bsou2yx"
      }
    },
    {
      "cell_type": "code",
      "source": [
        "def predictOneVsAll(all_theta, X):\n",
        "    m = X.shape[0];\n",
        "    num_labels = all_theta.shape[0]\n",
        "\n",
        "    p = np.zeros(m)\n",
        "\n",
        "    # Add ones to the X data matrix\n",
        "    X = np.concatenate([np.ones((m, 1)), X], axis=1)\n",
        "    p = np.argmax(calcularSigmoide(X.dot(all_theta.T)), axis = 1)\n",
        "\n",
        "    return p + 1"
      ],
      "metadata": {
        "id": "AyC2Hlf2TKEB"
      },
      "execution_count": 167,
      "outputs": []
    },
    {
      "cell_type": "markdown",
      "source": [
        "**Separo las características del dataset para el entrenamiento (80%) y el test(20%)**\n",
        "\n",
        "Esto usando train_test_split"
      ],
      "metadata": {
        "id": "wYC-jvtqvBt8"
      }
    },
    {
      "cell_type": "code",
      "source": [
        "X_train, X_test, y_train, y_test = train_test_split(X, y, test_size=0.2, random_state=50)\n",
        "#Imprimo el tamaño de los datos de entrenamiento y test\n",
        "print(X_train.shape)\n",
        "print(X_test.shape)"
      ],
      "metadata": {
        "colab": {
          "base_uri": "https://localhost:8080/"
        },
        "id": "yIJgI5AjcrX9",
        "outputId": "704e3be6-6e47-487a-e699-4a618ba1dd11"
      },
      "execution_count": 187,
      "outputs": [
        {
          "output_type": "stream",
          "name": "stdout",
          "text": [
            "(16000, 16)\n",
            "(4000, 16)\n"
          ]
        }
      ]
    },
    {
      "cell_type": "markdown",
      "source": [
        "**Probamos la precisión del dataset completo usando classifier visto en PANDAS**"
      ],
      "metadata": {
        "id": "M5kKIabKvaBQ"
      }
    },
    {
      "cell_type": "code",
      "source": [
        "\n",
        "classifier =  SVC()\n",
        "\n",
        "classifier.fit(X_train, y_train)\n",
        "\n",
        "score = classifier.score(X_test, y_test)*100\n",
        "print('Precisión del conjunto: {:.2f}%'.format(score))"
      ],
      "metadata": {
        "colab": {
          "base_uri": "https://localhost:8080/"
        },
        "id": "uyiueGRPkaQW",
        "outputId": "194bd77b-2180-4a3a-9740-ffce128d45e5"
      },
      "execution_count": 182,
      "outputs": [
        {
          "output_type": "stream",
          "name": "stdout",
          "text": [
            "Precisión del conjunto: 92.20%\n"
          ]
        }
      ]
    },
    {
      "cell_type": "markdown",
      "source": [
        "**Hacemos las pruebas de precisión y predicciones**\n",
        "\n",
        "Se calcula la precision del entrenamiento (X_test) usando mean de numpy en que la que obtuvimos una precisión de 73.12%\n",
        "\n",
        "Hacemos las predicciones con los datos de X_test y usando la funcion argmax"
      ],
      "metadata": {
        "id": "PU8jyb_pvz6l"
      }
    },
    {
      "cell_type": "code",
      "source": [
        "pred_train = predictOneVsAll(all_theta, X_train)\n",
        "#calculamos la precisión del entrenamiento (80%)\n",
        "precision_entrenamiento = np.mean(pred_train == y_train) * 100\n",
        "print('Precisión del conjunto de entrenamiento: {:.2f}%'.format(precision_entrenamiento))\n",
        "\n",
        "XPrueba = X_test[:100].copy()\n",
        "yPrueba = y_test.copy()\n",
        "#concatenamos la columna de unos a XPrueba\n",
        "XPrueba = np.concatenate((np.ones((100, 1)), XPrueba), axis=1)\n",
        "print(XPrueba)\n",
        "#Hacemos las predicciones del test (20%)\n",
        "pred_prueba = np.argmax(calcularSigmoide(XPrueba.dot(all_theta.T)), axis=1)\n",
        "\n",
        "print('Predicciones en el conjunto de prueba:')\n",
        "print(pred_prueba + 1)\n"
      ],
      "metadata": {
        "colab": {
          "base_uri": "https://localhost:8080/"
        },
        "id": "n7ItLQJtXsPS",
        "outputId": "cfa6eac8-506a-4b9e-897c-ae672f01264d"
      },
      "execution_count": 208,
      "outputs": [
        {
          "output_type": "stream",
          "name": "stdout",
          "text": [
            "Precisión del conjunto de entrenamiento: 73.12%\n",
            "[[ 1.  3.  8. ...  8.  7.  7.]\n",
            " [ 1.  2.  7. ...  6.  0.  8.]\n",
            " [ 1.  2.  4. ... 10.  2.  5.]\n",
            " ...\n",
            " [ 1.  1.  3. ...  8.  1.  8.]\n",
            " [ 1.  2.  0. ...  8.  0.  8.]\n",
            " [ 1.  3.  6. ...  7.  7.  8.]]\n",
            "Predicciones en el conjunto de prueba:\n",
            "[ 5 10 20 22 12 15 14  6  7 10  4 11  2 19  3 23 21  9  7 14  5 22 24  7\n",
            " 25 21 12  8 16 13 13  6 11  8 17 14 19  1 20  3 16  3  2 25  7  9 17  2\n",
            "  3  3 20  7 20  3 26 21 11 18 13 20  3 17  8 24  4 13 21  8  3 11  9 18\n",
            " 15 11 26  1  3 21  9 20  4  3  1 10 12 23 22  3 25 25 17 13 26 23 21 23\n",
            " 11  9 12 18]\n"
          ]
        }
      ]
    },
    {
      "cell_type": "markdown",
      "source": [
        "**Hice una prueba con datos de una fila del dataset y se pudo ver que coincide con la letra del dataset**"
      ],
      "metadata": {
        "id": "2iOShQe9xQxw"
      }
    },
    {
      "cell_type": "code",
      "source": [
        "# Datos para prueba (fila 28)\n",
        "datos = [ [12,\t14,\t12,\t8,\t5,\t9,\t10,\t4,\t3,\t5,\t10,\t7,\t10,\t12\t,2,\t6]]\n",
        "XX = np.array(datos)\n",
        "\n",
        "XPrueba = XX.copy()\n",
        "yPrueba = y_test.copy()\n",
        "#concatenamos la columna de unos a XPrueba\n",
        "XPrueba = np.concatenate((np.ones((1, 1)), XPrueba), axis=1)\n",
        "print(XPrueba)\n",
        "#Hacemos las predicciones del test (20%)\n",
        "pred_prueba = np.argmax(calcularSigmoide(XPrueba.dot(all_theta.T)), axis=1)\n",
        "\n",
        "print('Prediccion en la prueba:', pred_prueba + 1)\n",
        "print('Prediccion esperada: 23')"
      ],
      "metadata": {
        "colab": {
          "base_uri": "https://localhost:8080/"
        },
        "id": "MzRh2lsPxETG",
        "outputId": "649caeae-8824-4429-9cd2-c7204f951059"
      },
      "execution_count": 207,
      "outputs": [
        {
          "output_type": "stream",
          "name": "stdout",
          "text": [
            "[[ 1. 12. 14. 12.  8.  5.  9. 10.  4.  3.  5. 10.  7. 10. 12.  2.  6.]]\n",
            "Prediccion en la prueba: [23]\n",
            "Prediccion esperada: 23\n"
          ]
        }
      ]
    },
    {
      "cell_type": "markdown",
      "source": [
        "**CONCLUSIONES**\n",
        "\n",
        "Con el dataset que use pude hacer las modificaciones necesarias en PANDAS para ser usado en la Clasificación Multiclase que separa cada clase de las demás para convertilas en una clasificación binaria\n",
        "\n",
        "Haciendo uso de las funciones vistas en clase pude obtener una precisión de 92.20% con los datos completos del dataset y un 73.12% de precision con el 80% de datos usados para el entrenamiento\n",
        "\n",
        "Hice 100 predicciones de test con el 20% de los datos y una extra donde pude comprobar que se predecia la letra correcta usando los mismos valores"
      ],
      "metadata": {
        "id": "MBJSS0_KyXOj"
      }
    }
  ]
}