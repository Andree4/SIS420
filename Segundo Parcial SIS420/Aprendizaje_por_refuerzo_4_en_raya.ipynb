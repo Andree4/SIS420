{
  "cells": [
    {
      "cell_type": "markdown",
      "metadata": {
        "id": "VWQ1LcMvYrbP"
      },
      "source": [
        "[![Open In Colab](https://colab.research.google.com/assets/colab-badge.svg)](https://colab.research.google.com/github/juansensio/axr/blob/master/axr/00_intro.ipynb)"
      ]
    },
    {
      "cell_type": "markdown",
      "source": [
        "# **Segundo Parcial SIS420**\n",
        "Arancibia Aguilar Daniel Andree\n",
        "\n",
        "Ingeniería en Ciencias de la Computación"
      ],
      "metadata": {
        "id": "tUNWJooUmkhH"
      }
    },
    {
      "cell_type": "code",
      "execution_count": 1,
      "metadata": {
        "id": "PVTvepgIYrbS"
      },
      "outputs": [],
      "source": [
        "import numpy as np\n",
        "\n",
        "class Board():\n",
        "    def __init__(self):\n",
        "        # Cambiamos el tamaño del tablero de 3x3 a 4x4\n",
        "        self.state = np.zeros((4,4))\n",
        "\n",
        "    def valid_moves(self):\n",
        "        # Ajustamos el rango para reflejar el nuevo tamaño del tablero (4x4)\n",
        "        return [(i, j) for j in range(4) for i in range(4) if self.state[i, j] == 0]\n",
        "\n",
        "    def update(self, symbol, row, col):\n",
        "        if self.state[row, col] == 0:\n",
        "            self.state[row, col] = symbol\n",
        "        else:\n",
        "            raise ValueError(\"Movimiento ilegal!\")\n",
        "\n",
        "    def is_game_over(self):\n",
        "        # Cambiamos la condición de victoria de 3 a 4 para filas y columnas\n",
        "        if (self.state.sum(axis=0) == 4).sum() >= 1 or (self.state.sum(axis=1) == 4).sum() >= 1:\n",
        "            return 1\n",
        "        if (self.state.sum(axis=0) == -4).sum() >= 1 or (self.state.sum(axis=1) == -4).sum() >= 1:\n",
        "            return -1\n",
        "        # Cambiamos la condición de victoria de 3 a 4 para diagonales\n",
        "        diag_sums = [\n",
        "            sum([self.state[i, i] for i in range(4)]),\n",
        "            sum([self.state[i, 4 - i - 1] for i in range(4)]),\n",
        "        ]\n",
        "        if diag_sums[0] == 4 or diag_sums[1] == 4:\n",
        "            return 1\n",
        "        if diag_sums[0] == -4 or diag_sums[1] == -4:\n",
        "            return -1\n",
        "        # empate\n",
        "        if len(self.valid_moves()) == 0:\n",
        "            return 0\n",
        "        # seguir jugando\n",
        "        return None\n",
        "\n",
        "    def reset(self):\n",
        "        # Reiniciamos el tablero de 4x4\n",
        "        self.state = np.zeros((4,4))"
      ]
    },
    {
      "cell_type": "code",
      "execution_count": 2,
      "metadata": {
        "id": "0pgDOf71YrbS"
      },
      "outputs": [],
      "source": [
        "from tqdm import tqdm\n",
        "\n",
        "class Game():\n",
        "    def __init__(self, player1, player2):\n",
        "        player1.symbol = 1\n",
        "        player2.symbol = -1\n",
        "        self.players = [player1, player2]\n",
        "        self.board = Board()\n",
        "\n",
        "    def selfplay(self, rounds=100):\n",
        "        wins = [0, 0]\n",
        "        for i in tqdm(range(1, rounds + 1)):\n",
        "            self.board.reset()\n",
        "            for player in self.players:\n",
        "                player.reset()\n",
        "            game_over = False\n",
        "            while not game_over:\n",
        "                for player in self.players:\n",
        "                    action = player.move(self.board)\n",
        "                    self.board.update(player.symbol, action[0], action[1])\n",
        "                    for player in self.players:\n",
        "                        player.update(self.board)\n",
        "                    if self.board.is_game_over() is not None:\n",
        "                        game_over = True\n",
        "                        break\n",
        "            self.reward()\n",
        "            for ix, player in enumerate(self.players):\n",
        "                if self.board.is_game_over() == player.symbol:\n",
        "                    wins[ix] += 1\n",
        "        return wins\n",
        "\n",
        "    def reward(self):\n",
        "        winner = self.board.is_game_over()\n",
        "        if winner == 0: # empate\n",
        "            for player in self.players:\n",
        "                player.reward(0.5)\n",
        "        else: # le damos 1 recompensa al jugador que gana\n",
        "            for player in self.players:\n",
        "                if winner == player.symbol:\n",
        "                    player.reward(1)\n",
        "                else:\n",
        "                    player.reward(0)\n"
      ]
    },
    {
      "cell_type": "code",
      "execution_count": 3,
      "metadata": {
        "id": "YWy9BFUZYrbS"
      },
      "outputs": [],
      "source": [
        "class Agent():\n",
        "    def __init__(self, alpha=0.5, prob_exp=0.5):\n",
        "        self.value_function = {} # tabla con pares estado -> valor\n",
        "        self.alpha = alpha         # learning rate\n",
        "        self.positions = []       # guardamos todas las posiciones de la partida\n",
        "        self.prob_exp = prob_exp   # probabilidad de explorar\n",
        "\n",
        "    def reset(self):\n",
        "        self.positions = []\n",
        "\n",
        "    def move(self, board, explore=True):\n",
        "        valid_moves = board.valid_moves()\n",
        "        # exploracion\n",
        "        if explore and np.random.uniform(0, 1) < self.prob_exp:\n",
        "            # vamos a una posición aleatoria\n",
        "            ix = np.random.choice(len(valid_moves))\n",
        "            return valid_moves[ix]\n",
        "        # explotacion\n",
        "        # vamos a la posición con más valor\n",
        "        max_value = -1000\n",
        "        for row, col in valid_moves:\n",
        "            next_board = board.state.copy()\n",
        "            next_board[row, col] = self.symbol\n",
        "            # Ajustamos la representación del estado del tablero a 4x4\n",
        "            next_state = str(next_board.reshape(4*4))\n",
        "            value = 0 if self.value_function.get(next_state) is None else self.value_function.get(next_state)\n",
        "            if value >= max_value:\n",
        "                max_value = value\n",
        "                best_row, best_col = row, col\n",
        "        return best_row, best_col\n",
        "\n",
        "    def update(self, board):\n",
        "        # Ajustamos la representación del estado del tablero a 4x4\n",
        "        self.positions.append(str(board.state.reshape(4*4)))\n",
        "\n",
        "    def reward(self, reward):\n",
        "        # Al final de la partida (cuando recibimos la recompensa)\n",
        "        # iteramos por todos los estados actualizando su valor en la tabla\n",
        "        for p in reversed(self.positions):\n",
        "            if self.value_function.get(p) is None:\n",
        "                self.value_function[p] = 0\n",
        "            self.value_function[p] += self.alpha * (reward - self.value_function[p])\n",
        "            reward = self.value_function[p]"
      ]
    },
    {
      "cell_type": "code",
      "execution_count": null,
      "metadata": {
        "id": "w2y720rNYrbS",
        "outputId": "880362ed-849e-431b-b9ff-39bacc377465",
        "colab": {
          "base_uri": "https://localhost:8080/"
        }
      },
      "outputs": [
        {
          "output_type": "stream",
          "name": "stderr",
          "text": [
            " 16%|█▋        | 16483/100000 [05:24<31:58, 43.54it/s]"
          ]
        }
      ],
      "source": [
        "# Instanciamos los agentes con sus probabilidades de exploración\n",
        "agent1 = Agent(prob_exp=0.5)\n",
        "agent2 = Agent()\n",
        "\n",
        "# Creamos un nuevo juego con los agentes\n",
        "game = Game(agent1, agent2)\n",
        "\n",
        "# Jugamos 300000 rondas de auto-juego para entrenar los agentes\n",
        "game.selfplay(100000)"
      ]
    },
    {
      "cell_type": "code",
      "execution_count": null,
      "metadata": {
        "id": "gjBCGMC1YrbT"
      },
      "outputs": [],
      "source": [
        "import pandas as pd\n",
        "\n",
        "funcion_de_valor = sorted(agent1.value_function.items(), key=lambda kv: kv[1], reverse=True)\n",
        "tabla = pd.DataFrame({'estado': [x[0] for x in funcion_de_valor], 'valor': [x[1] for x in funcion_de_valor]})\n",
        "\n",
        "tabla"
      ]
    },
    {
      "cell_type": "code",
      "execution_count": null,
      "metadata": {
        "id": "US_A_cgNYrbT"
      },
      "outputs": [],
      "source": [
        "import pickle\n",
        "\n",
        "with open('agente.pickle', 'wb') as handle:\n",
        "    pickle.dump(agent1.value_function, handle, protocol=pickle.HIGHEST_PROTOCOL)"
      ]
    },
    {
      "cell_type": "code",
      "source": [
        "#Exporto la tabla generada\n",
        "tabla.to_csv('tabla4enraya.txt', sep='\\t', index=False)\n"
      ],
      "metadata": {
        "id": "dluTeGRF88MM"
      },
      "execution_count": null,
      "outputs": []
    },
    {
      "cell_type": "code",
      "source": [
        "#descargo la tabla generada\n",
        "from google.colab import files\n",
        "files.download('tabla4enraya.txt')\n"
      ],
      "metadata": {
        "id": "bpscd9Em9Bhi"
      },
      "execution_count": null,
      "outputs": []
    }
  ],
  "metadata": {
    "interpreter": {
      "hash": "bb9f406c0f70fca9801e60f2cbb7cd1ccff2ae2f74c58f513340bcf6cae5ecd0"
    },
    "kernelspec": {
      "display_name": "Python 3 (ipykernel)",
      "language": "python",
      "name": "python3"
    },
    "language_info": {
      "codemirror_mode": {
        "name": "ipython",
        "version": 3
      },
      "file_extension": ".py",
      "mimetype": "text/x-python",
      "name": "python",
      "nbconvert_exporter": "python",
      "pygments_lexer": "ipython3",
      "version": "3.9.5"
    },
    "colab": {
      "provenance": []
    }
  },
  "nbformat": 4,
  "nbformat_minor": 0
}