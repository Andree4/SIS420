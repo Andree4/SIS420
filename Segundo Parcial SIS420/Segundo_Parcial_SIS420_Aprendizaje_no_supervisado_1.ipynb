{
  "nbformat": 4,
  "nbformat_minor": 0,
  "metadata": {
    "colab": {
      "provenance": []
    },
    "kernelspec": {
      "name": "python3",
      "display_name": "Python 3"
    },
    "language_info": {
      "name": "python"
    }
  },
  "cells": [
    {
      "cell_type": "markdown",
      "source": [
        "# **Segundo Parcial SIS420**\n",
        "Arancibia Aguilar Daniel Andree\n",
        "\n",
        "Ingeniería en Ciencias de la Computación\n",
        "\n",
        "Dataset 1  https://archive.ics.uci.edu/dataset/31/covertype\n",
        "\n",
        "Es un dataset de clasificación con 7 labels y trataremos de acercar el kmeans a ese valor"
      ],
      "metadata": {
        "id": "jJQonl_Imu5b"
      }
    },
    {
      "cell_type": "code",
      "execution_count": 1,
      "metadata": {
        "colab": {
          "base_uri": "https://localhost:8080/"
        },
        "id": "Ir_PcbkHeYmL",
        "outputId": "c7a85ccc-fad4-4146-89de-35a22f7a5a29"
      },
      "outputs": [
        {
          "output_type": "stream",
          "name": "stdout",
          "text": [
            "Mounted at /content/gdrive\n"
          ]
        }
      ],
      "source": [
        "from google.colab import drive\n",
        "drive.mount(\"/content/gdrive\")"
      ]
    },
    {
      "cell_type": "code",
      "source": [
        "import os\n",
        "# Cálculo científico y vectorial para python\n",
        "import numpy as np\n",
        "import pandas as pd\n",
        "from sklearn.model_selection import train_test_split\n",
        "from sklearn.preprocessing import OrdinalEncoder\n",
        "ordinal_encoder = OrdinalEncoder()\n",
        "import matplotlib.pyplot as plt\n",
        "from sklearn.cluster import KMeans"
      ],
      "metadata": {
        "id": "tJ-n4nlBe2sM"
      },
      "execution_count": 4,
      "outputs": []
    },
    {
      "cell_type": "code",
      "source": [
        "# Preprocesamiento del dataset, se asigna sin header ya que no tenian nombre las columnas\n",
        "\n",
        "url = \"/content/gdrive/MyDrive/SIS420/Segundo Parcial SIS420/Dataset1.data\"\n",
        "dataframe = pd.read_csv(url, header=None)\n",
        "print(dataframe)\n",
        "\n",
        "dataframe.describe()\n",
        "\n",
        "dataframe.dropna(inplace=True)\n",
        "print(dataframe.isnull().sum())\n",
        "\n",
        "dataframe.describe()"
      ],
      "metadata": {
        "colab": {
          "base_uri": "https://localhost:8080/",
          "height": 1000
        },
        "id": "0e3GgvTje3qT",
        "outputId": "97be7cc3-5313-477b-fdb0-e90248a760ba"
      },
      "execution_count": 5,
      "outputs": [
        {
          "output_type": "stream",
          "name": "stdout",
          "text": [
            "          0    1   2    3    4     5    6    7    8     9   ...  45  46  47  \\\n",
            "0       2596   51   3  258    0   510  221  232  148  6279  ...   0   0   0   \n",
            "1       2590   56   2  212   -6   390  220  235  151  6225  ...   0   0   0   \n",
            "2       2804  139   9  268   65  3180  234  238  135  6121  ...   0   0   0   \n",
            "3       2785  155  18  242  118  3090  238  238  122  6211  ...   0   0   0   \n",
            "4       2595   45   2  153   -1   391  220  234  150  6172  ...   0   0   0   \n",
            "...      ...  ...  ..  ...  ...   ...  ...  ...  ...   ...  ...  ..  ..  ..   \n",
            "581007  2396  153  20   85   17   108  240  237  118   837  ...   0   0   0   \n",
            "581008  2391  152  19   67   12    95  240  237  119   845  ...   0   0   0   \n",
            "581009  2386  159  17   60    7    90  236  241  130   854  ...   0   0   0   \n",
            "581010  2384  170  15   60    5    90  230  245  143   864  ...   0   0   0   \n",
            "581011  2383  165  13   60    4    67  231  244  141   875  ...   0   0   0   \n",
            "\n",
            "        48  49  50  51  52  53  54  \n",
            "0        0   0   0   0   0   0   5  \n",
            "1        0   0   0   0   0   0   5  \n",
            "2        0   0   0   0   0   0   2  \n",
            "3        0   0   0   0   0   0   2  \n",
            "4        0   0   0   0   0   0   5  \n",
            "...     ..  ..  ..  ..  ..  ..  ..  \n",
            "581007   0   0   0   0   0   0   3  \n",
            "581008   0   0   0   0   0   0   3  \n",
            "581009   0   0   0   0   0   0   3  \n",
            "581010   0   0   0   0   0   0   3  \n",
            "581011   0   0   0   0   0   0   3  \n",
            "\n",
            "[581012 rows x 55 columns]\n",
            "0     0\n",
            "1     0\n",
            "2     0\n",
            "3     0\n",
            "4     0\n",
            "5     0\n",
            "6     0\n",
            "7     0\n",
            "8     0\n",
            "9     0\n",
            "10    0\n",
            "11    0\n",
            "12    0\n",
            "13    0\n",
            "14    0\n",
            "15    0\n",
            "16    0\n",
            "17    0\n",
            "18    0\n",
            "19    0\n",
            "20    0\n",
            "21    0\n",
            "22    0\n",
            "23    0\n",
            "24    0\n",
            "25    0\n",
            "26    0\n",
            "27    0\n",
            "28    0\n",
            "29    0\n",
            "30    0\n",
            "31    0\n",
            "32    0\n",
            "33    0\n",
            "34    0\n",
            "35    0\n",
            "36    0\n",
            "37    0\n",
            "38    0\n",
            "39    0\n",
            "40    0\n",
            "41    0\n",
            "42    0\n",
            "43    0\n",
            "44    0\n",
            "45    0\n",
            "46    0\n",
            "47    0\n",
            "48    0\n",
            "49    0\n",
            "50    0\n",
            "51    0\n",
            "52    0\n",
            "53    0\n",
            "54    0\n",
            "dtype: int64\n"
          ]
        },
        {
          "output_type": "execute_result",
          "data": {
            "text/plain": [
              "                  0              1              2              3   \\\n",
              "count  581012.000000  581012.000000  581012.000000  581012.000000   \n",
              "mean     2959.365301     155.656807      14.103704     269.428217   \n",
              "std       279.984734     111.913721       7.488242     212.549356   \n",
              "min      1859.000000       0.000000       0.000000       0.000000   \n",
              "25%      2809.000000      58.000000       9.000000     108.000000   \n",
              "50%      2996.000000     127.000000      13.000000     218.000000   \n",
              "75%      3163.000000     260.000000      18.000000     384.000000   \n",
              "max      3858.000000     360.000000      66.000000    1397.000000   \n",
              "\n",
              "                  4              5              6              7   \\\n",
              "count  581012.000000  581012.000000  581012.000000  581012.000000   \n",
              "mean       46.418855    2350.146611     212.146049     223.318716   \n",
              "std        58.295232    1559.254870      26.769889      19.768697   \n",
              "min      -173.000000       0.000000       0.000000       0.000000   \n",
              "25%         7.000000    1106.000000     198.000000     213.000000   \n",
              "50%        30.000000    1997.000000     218.000000     226.000000   \n",
              "75%        69.000000    3328.000000     231.000000     237.000000   \n",
              "max       601.000000    7117.000000     254.000000     254.000000   \n",
              "\n",
              "                  8              9   ...             45             46  \\\n",
              "count  581012.000000  581012.000000  ...  581012.000000  581012.000000   \n",
              "mean      142.528263    1980.291226  ...       0.090392       0.077716   \n",
              "std        38.274529    1324.195210  ...       0.286743       0.267725   \n",
              "min         0.000000       0.000000  ...       0.000000       0.000000   \n",
              "25%       119.000000    1024.000000  ...       0.000000       0.000000   \n",
              "50%       143.000000    1710.000000  ...       0.000000       0.000000   \n",
              "75%       168.000000    2550.000000  ...       0.000000       0.000000   \n",
              "max       254.000000    7173.000000  ...       1.000000       1.000000   \n",
              "\n",
              "                  47             48             49             50  \\\n",
              "count  581012.000000  581012.000000  581012.000000  581012.000000   \n",
              "mean        0.002773       0.003255       0.000205       0.000513   \n",
              "std         0.052584       0.056957       0.014310       0.022641   \n",
              "min         0.000000       0.000000       0.000000       0.000000   \n",
              "25%         0.000000       0.000000       0.000000       0.000000   \n",
              "50%         0.000000       0.000000       0.000000       0.000000   \n",
              "75%         0.000000       0.000000       0.000000       0.000000   \n",
              "max         1.000000       1.000000       1.000000       1.000000   \n",
              "\n",
              "                  51             52             53             54  \n",
              "count  581012.000000  581012.000000  581012.000000  581012.000000  \n",
              "mean        0.026803       0.023762       0.015060       2.051471  \n",
              "std         0.161508       0.152307       0.121791       1.396504  \n",
              "min         0.000000       0.000000       0.000000       1.000000  \n",
              "25%         0.000000       0.000000       0.000000       1.000000  \n",
              "50%         0.000000       0.000000       0.000000       2.000000  \n",
              "75%         0.000000       0.000000       0.000000       2.000000  \n",
              "max         1.000000       1.000000       1.000000       7.000000  \n",
              "\n",
              "[8 rows x 55 columns]"
            ],
            "text/html": [
              "\n",
              "  <div id=\"df-1175bc7e-e9d2-4517-a987-082f99d6da81\" class=\"colab-df-container\">\n",
              "    <div>\n",
              "<style scoped>\n",
              "    .dataframe tbody tr th:only-of-type {\n",
              "        vertical-align: middle;\n",
              "    }\n",
              "\n",
              "    .dataframe tbody tr th {\n",
              "        vertical-align: top;\n",
              "    }\n",
              "\n",
              "    .dataframe thead th {\n",
              "        text-align: right;\n",
              "    }\n",
              "</style>\n",
              "<table border=\"1\" class=\"dataframe\">\n",
              "  <thead>\n",
              "    <tr style=\"text-align: right;\">\n",
              "      <th></th>\n",
              "      <th>0</th>\n",
              "      <th>1</th>\n",
              "      <th>2</th>\n",
              "      <th>3</th>\n",
              "      <th>4</th>\n",
              "      <th>5</th>\n",
              "      <th>6</th>\n",
              "      <th>7</th>\n",
              "      <th>8</th>\n",
              "      <th>9</th>\n",
              "      <th>...</th>\n",
              "      <th>45</th>\n",
              "      <th>46</th>\n",
              "      <th>47</th>\n",
              "      <th>48</th>\n",
              "      <th>49</th>\n",
              "      <th>50</th>\n",
              "      <th>51</th>\n",
              "      <th>52</th>\n",
              "      <th>53</th>\n",
              "      <th>54</th>\n",
              "    </tr>\n",
              "  </thead>\n",
              "  <tbody>\n",
              "    <tr>\n",
              "      <th>count</th>\n",
              "      <td>581012.000000</td>\n",
              "      <td>581012.000000</td>\n",
              "      <td>581012.000000</td>\n",
              "      <td>581012.000000</td>\n",
              "      <td>581012.000000</td>\n",
              "      <td>581012.000000</td>\n",
              "      <td>581012.000000</td>\n",
              "      <td>581012.000000</td>\n",
              "      <td>581012.000000</td>\n",
              "      <td>581012.000000</td>\n",
              "      <td>...</td>\n",
              "      <td>581012.000000</td>\n",
              "      <td>581012.000000</td>\n",
              "      <td>581012.000000</td>\n",
              "      <td>581012.000000</td>\n",
              "      <td>581012.000000</td>\n",
              "      <td>581012.000000</td>\n",
              "      <td>581012.000000</td>\n",
              "      <td>581012.000000</td>\n",
              "      <td>581012.000000</td>\n",
              "      <td>581012.000000</td>\n",
              "    </tr>\n",
              "    <tr>\n",
              "      <th>mean</th>\n",
              "      <td>2959.365301</td>\n",
              "      <td>155.656807</td>\n",
              "      <td>14.103704</td>\n",
              "      <td>269.428217</td>\n",
              "      <td>46.418855</td>\n",
              "      <td>2350.146611</td>\n",
              "      <td>212.146049</td>\n",
              "      <td>223.318716</td>\n",
              "      <td>142.528263</td>\n",
              "      <td>1980.291226</td>\n",
              "      <td>...</td>\n",
              "      <td>0.090392</td>\n",
              "      <td>0.077716</td>\n",
              "      <td>0.002773</td>\n",
              "      <td>0.003255</td>\n",
              "      <td>0.000205</td>\n",
              "      <td>0.000513</td>\n",
              "      <td>0.026803</td>\n",
              "      <td>0.023762</td>\n",
              "      <td>0.015060</td>\n",
              "      <td>2.051471</td>\n",
              "    </tr>\n",
              "    <tr>\n",
              "      <th>std</th>\n",
              "      <td>279.984734</td>\n",
              "      <td>111.913721</td>\n",
              "      <td>7.488242</td>\n",
              "      <td>212.549356</td>\n",
              "      <td>58.295232</td>\n",
              "      <td>1559.254870</td>\n",
              "      <td>26.769889</td>\n",
              "      <td>19.768697</td>\n",
              "      <td>38.274529</td>\n",
              "      <td>1324.195210</td>\n",
              "      <td>...</td>\n",
              "      <td>0.286743</td>\n",
              "      <td>0.267725</td>\n",
              "      <td>0.052584</td>\n",
              "      <td>0.056957</td>\n",
              "      <td>0.014310</td>\n",
              "      <td>0.022641</td>\n",
              "      <td>0.161508</td>\n",
              "      <td>0.152307</td>\n",
              "      <td>0.121791</td>\n",
              "      <td>1.396504</td>\n",
              "    </tr>\n",
              "    <tr>\n",
              "      <th>min</th>\n",
              "      <td>1859.000000</td>\n",
              "      <td>0.000000</td>\n",
              "      <td>0.000000</td>\n",
              "      <td>0.000000</td>\n",
              "      <td>-173.000000</td>\n",
              "      <td>0.000000</td>\n",
              "      <td>0.000000</td>\n",
              "      <td>0.000000</td>\n",
              "      <td>0.000000</td>\n",
              "      <td>0.000000</td>\n",
              "      <td>...</td>\n",
              "      <td>0.000000</td>\n",
              "      <td>0.000000</td>\n",
              "      <td>0.000000</td>\n",
              "      <td>0.000000</td>\n",
              "      <td>0.000000</td>\n",
              "      <td>0.000000</td>\n",
              "      <td>0.000000</td>\n",
              "      <td>0.000000</td>\n",
              "      <td>0.000000</td>\n",
              "      <td>1.000000</td>\n",
              "    </tr>\n",
              "    <tr>\n",
              "      <th>25%</th>\n",
              "      <td>2809.000000</td>\n",
              "      <td>58.000000</td>\n",
              "      <td>9.000000</td>\n",
              "      <td>108.000000</td>\n",
              "      <td>7.000000</td>\n",
              "      <td>1106.000000</td>\n",
              "      <td>198.000000</td>\n",
              "      <td>213.000000</td>\n",
              "      <td>119.000000</td>\n",
              "      <td>1024.000000</td>\n",
              "      <td>...</td>\n",
              "      <td>0.000000</td>\n",
              "      <td>0.000000</td>\n",
              "      <td>0.000000</td>\n",
              "      <td>0.000000</td>\n",
              "      <td>0.000000</td>\n",
              "      <td>0.000000</td>\n",
              "      <td>0.000000</td>\n",
              "      <td>0.000000</td>\n",
              "      <td>0.000000</td>\n",
              "      <td>1.000000</td>\n",
              "    </tr>\n",
              "    <tr>\n",
              "      <th>50%</th>\n",
              "      <td>2996.000000</td>\n",
              "      <td>127.000000</td>\n",
              "      <td>13.000000</td>\n",
              "      <td>218.000000</td>\n",
              "      <td>30.000000</td>\n",
              "      <td>1997.000000</td>\n",
              "      <td>218.000000</td>\n",
              "      <td>226.000000</td>\n",
              "      <td>143.000000</td>\n",
              "      <td>1710.000000</td>\n",
              "      <td>...</td>\n",
              "      <td>0.000000</td>\n",
              "      <td>0.000000</td>\n",
              "      <td>0.000000</td>\n",
              "      <td>0.000000</td>\n",
              "      <td>0.000000</td>\n",
              "      <td>0.000000</td>\n",
              "      <td>0.000000</td>\n",
              "      <td>0.000000</td>\n",
              "      <td>0.000000</td>\n",
              "      <td>2.000000</td>\n",
              "    </tr>\n",
              "    <tr>\n",
              "      <th>75%</th>\n",
              "      <td>3163.000000</td>\n",
              "      <td>260.000000</td>\n",
              "      <td>18.000000</td>\n",
              "      <td>384.000000</td>\n",
              "      <td>69.000000</td>\n",
              "      <td>3328.000000</td>\n",
              "      <td>231.000000</td>\n",
              "      <td>237.000000</td>\n",
              "      <td>168.000000</td>\n",
              "      <td>2550.000000</td>\n",
              "      <td>...</td>\n",
              "      <td>0.000000</td>\n",
              "      <td>0.000000</td>\n",
              "      <td>0.000000</td>\n",
              "      <td>0.000000</td>\n",
              "      <td>0.000000</td>\n",
              "      <td>0.000000</td>\n",
              "      <td>0.000000</td>\n",
              "      <td>0.000000</td>\n",
              "      <td>0.000000</td>\n",
              "      <td>2.000000</td>\n",
              "    </tr>\n",
              "    <tr>\n",
              "      <th>max</th>\n",
              "      <td>3858.000000</td>\n",
              "      <td>360.000000</td>\n",
              "      <td>66.000000</td>\n",
              "      <td>1397.000000</td>\n",
              "      <td>601.000000</td>\n",
              "      <td>7117.000000</td>\n",
              "      <td>254.000000</td>\n",
              "      <td>254.000000</td>\n",
              "      <td>254.000000</td>\n",
              "      <td>7173.000000</td>\n",
              "      <td>...</td>\n",
              "      <td>1.000000</td>\n",
              "      <td>1.000000</td>\n",
              "      <td>1.000000</td>\n",
              "      <td>1.000000</td>\n",
              "      <td>1.000000</td>\n",
              "      <td>1.000000</td>\n",
              "      <td>1.000000</td>\n",
              "      <td>1.000000</td>\n",
              "      <td>1.000000</td>\n",
              "      <td>7.000000</td>\n",
              "    </tr>\n",
              "  </tbody>\n",
              "</table>\n",
              "<p>8 rows × 55 columns</p>\n",
              "</div>\n",
              "    <div class=\"colab-df-buttons\">\n",
              "\n",
              "  <div class=\"colab-df-container\">\n",
              "    <button class=\"colab-df-convert\" onclick=\"convertToInteractive('df-1175bc7e-e9d2-4517-a987-082f99d6da81')\"\n",
              "            title=\"Convert this dataframe to an interactive table.\"\n",
              "            style=\"display:none;\">\n",
              "\n",
              "  <svg xmlns=\"http://www.w3.org/2000/svg\" height=\"24px\" viewBox=\"0 -960 960 960\">\n",
              "    <path d=\"M120-120v-720h720v720H120Zm60-500h600v-160H180v160Zm220 220h160v-160H400v160Zm0 220h160v-160H400v160ZM180-400h160v-160H180v160Zm440 0h160v-160H620v160ZM180-180h160v-160H180v160Zm440 0h160v-160H620v160Z\"/>\n",
              "  </svg>\n",
              "    </button>\n",
              "\n",
              "  <style>\n",
              "    .colab-df-container {\n",
              "      display:flex;\n",
              "      gap: 12px;\n",
              "    }\n",
              "\n",
              "    .colab-df-convert {\n",
              "      background-color: #E8F0FE;\n",
              "      border: none;\n",
              "      border-radius: 50%;\n",
              "      cursor: pointer;\n",
              "      display: none;\n",
              "      fill: #1967D2;\n",
              "      height: 32px;\n",
              "      padding: 0 0 0 0;\n",
              "      width: 32px;\n",
              "    }\n",
              "\n",
              "    .colab-df-convert:hover {\n",
              "      background-color: #E2EBFA;\n",
              "      box-shadow: 0px 1px 2px rgba(60, 64, 67, 0.3), 0px 1px 3px 1px rgba(60, 64, 67, 0.15);\n",
              "      fill: #174EA6;\n",
              "    }\n",
              "\n",
              "    .colab-df-buttons div {\n",
              "      margin-bottom: 4px;\n",
              "    }\n",
              "\n",
              "    [theme=dark] .colab-df-convert {\n",
              "      background-color: #3B4455;\n",
              "      fill: #D2E3FC;\n",
              "    }\n",
              "\n",
              "    [theme=dark] .colab-df-convert:hover {\n",
              "      background-color: #434B5C;\n",
              "      box-shadow: 0px 1px 3px 1px rgba(0, 0, 0, 0.15);\n",
              "      filter: drop-shadow(0px 1px 2px rgba(0, 0, 0, 0.3));\n",
              "      fill: #FFFFFF;\n",
              "    }\n",
              "  </style>\n",
              "\n",
              "    <script>\n",
              "      const buttonEl =\n",
              "        document.querySelector('#df-1175bc7e-e9d2-4517-a987-082f99d6da81 button.colab-df-convert');\n",
              "      buttonEl.style.display =\n",
              "        google.colab.kernel.accessAllowed ? 'block' : 'none';\n",
              "\n",
              "      async function convertToInteractive(key) {\n",
              "        const element = document.querySelector('#df-1175bc7e-e9d2-4517-a987-082f99d6da81');\n",
              "        const dataTable =\n",
              "          await google.colab.kernel.invokeFunction('convertToInteractive',\n",
              "                                                    [key], {});\n",
              "        if (!dataTable) return;\n",
              "\n",
              "        const docLinkHtml = 'Like what you see? Visit the ' +\n",
              "          '<a target=\"_blank\" href=https://colab.research.google.com/notebooks/data_table.ipynb>data table notebook</a>'\n",
              "          + ' to learn more about interactive tables.';\n",
              "        element.innerHTML = '';\n",
              "        dataTable['output_type'] = 'display_data';\n",
              "        await google.colab.output.renderOutput(dataTable, element);\n",
              "        const docLink = document.createElement('div');\n",
              "        docLink.innerHTML = docLinkHtml;\n",
              "        element.appendChild(docLink);\n",
              "      }\n",
              "    </script>\n",
              "  </div>\n",
              "\n",
              "\n",
              "<div id=\"df-e3b99f92-50fd-41c3-a553-8598bb1cf391\">\n",
              "  <button class=\"colab-df-quickchart\" onclick=\"quickchart('df-e3b99f92-50fd-41c3-a553-8598bb1cf391')\"\n",
              "            title=\"Suggest charts\"\n",
              "            style=\"display:none;\">\n",
              "\n",
              "<svg xmlns=\"http://www.w3.org/2000/svg\" height=\"24px\"viewBox=\"0 0 24 24\"\n",
              "     width=\"24px\">\n",
              "    <g>\n",
              "        <path d=\"M19 3H5c-1.1 0-2 .9-2 2v14c0 1.1.9 2 2 2h14c1.1 0 2-.9 2-2V5c0-1.1-.9-2-2-2zM9 17H7v-7h2v7zm4 0h-2V7h2v10zm4 0h-2v-4h2v4z\"/>\n",
              "    </g>\n",
              "</svg>\n",
              "  </button>\n",
              "\n",
              "<style>\n",
              "  .colab-df-quickchart {\n",
              "      --bg-color: #E8F0FE;\n",
              "      --fill-color: #1967D2;\n",
              "      --hover-bg-color: #E2EBFA;\n",
              "      --hover-fill-color: #174EA6;\n",
              "      --disabled-fill-color: #AAA;\n",
              "      --disabled-bg-color: #DDD;\n",
              "  }\n",
              "\n",
              "  [theme=dark] .colab-df-quickchart {\n",
              "      --bg-color: #3B4455;\n",
              "      --fill-color: #D2E3FC;\n",
              "      --hover-bg-color: #434B5C;\n",
              "      --hover-fill-color: #FFFFFF;\n",
              "      --disabled-bg-color: #3B4455;\n",
              "      --disabled-fill-color: #666;\n",
              "  }\n",
              "\n",
              "  .colab-df-quickchart {\n",
              "    background-color: var(--bg-color);\n",
              "    border: none;\n",
              "    border-radius: 50%;\n",
              "    cursor: pointer;\n",
              "    display: none;\n",
              "    fill: var(--fill-color);\n",
              "    height: 32px;\n",
              "    padding: 0;\n",
              "    width: 32px;\n",
              "  }\n",
              "\n",
              "  .colab-df-quickchart:hover {\n",
              "    background-color: var(--hover-bg-color);\n",
              "    box-shadow: 0 1px 2px rgba(60, 64, 67, 0.3), 0 1px 3px 1px rgba(60, 64, 67, 0.15);\n",
              "    fill: var(--button-hover-fill-color);\n",
              "  }\n",
              "\n",
              "  .colab-df-quickchart-complete:disabled,\n",
              "  .colab-df-quickchart-complete:disabled:hover {\n",
              "    background-color: var(--disabled-bg-color);\n",
              "    fill: var(--disabled-fill-color);\n",
              "    box-shadow: none;\n",
              "  }\n",
              "\n",
              "  .colab-df-spinner {\n",
              "    border: 2px solid var(--fill-color);\n",
              "    border-color: transparent;\n",
              "    border-bottom-color: var(--fill-color);\n",
              "    animation:\n",
              "      spin 1s steps(1) infinite;\n",
              "  }\n",
              "\n",
              "  @keyframes spin {\n",
              "    0% {\n",
              "      border-color: transparent;\n",
              "      border-bottom-color: var(--fill-color);\n",
              "      border-left-color: var(--fill-color);\n",
              "    }\n",
              "    20% {\n",
              "      border-color: transparent;\n",
              "      border-left-color: var(--fill-color);\n",
              "      border-top-color: var(--fill-color);\n",
              "    }\n",
              "    30% {\n",
              "      border-color: transparent;\n",
              "      border-left-color: var(--fill-color);\n",
              "      border-top-color: var(--fill-color);\n",
              "      border-right-color: var(--fill-color);\n",
              "    }\n",
              "    40% {\n",
              "      border-color: transparent;\n",
              "      border-right-color: var(--fill-color);\n",
              "      border-top-color: var(--fill-color);\n",
              "    }\n",
              "    60% {\n",
              "      border-color: transparent;\n",
              "      border-right-color: var(--fill-color);\n",
              "    }\n",
              "    80% {\n",
              "      border-color: transparent;\n",
              "      border-right-color: var(--fill-color);\n",
              "      border-bottom-color: var(--fill-color);\n",
              "    }\n",
              "    90% {\n",
              "      border-color: transparent;\n",
              "      border-bottom-color: var(--fill-color);\n",
              "    }\n",
              "  }\n",
              "</style>\n",
              "\n",
              "  <script>\n",
              "    async function quickchart(key) {\n",
              "      const quickchartButtonEl =\n",
              "        document.querySelector('#' + key + ' button');\n",
              "      quickchartButtonEl.disabled = true;  // To prevent multiple clicks.\n",
              "      quickchartButtonEl.classList.add('colab-df-spinner');\n",
              "      try {\n",
              "        const charts = await google.colab.kernel.invokeFunction(\n",
              "            'suggestCharts', [key], {});\n",
              "      } catch (error) {\n",
              "        console.error('Error during call to suggestCharts:', error);\n",
              "      }\n",
              "      quickchartButtonEl.classList.remove('colab-df-spinner');\n",
              "      quickchartButtonEl.classList.add('colab-df-quickchart-complete');\n",
              "    }\n",
              "    (() => {\n",
              "      let quickchartButtonEl =\n",
              "        document.querySelector('#df-e3b99f92-50fd-41c3-a553-8598bb1cf391 button');\n",
              "      quickchartButtonEl.style.display =\n",
              "        google.colab.kernel.accessAllowed ? 'block' : 'none';\n",
              "    })();\n",
              "  </script>\n",
              "</div>\n",
              "\n",
              "    </div>\n",
              "  </div>\n"
            ],
            "application/vnd.google.colaboratory.intrinsic+json": {
              "type": "dataframe"
            }
          },
          "metadata": {},
          "execution_count": 5
        }
      ]
    },
    {
      "cell_type": "code",
      "source": [
        "#Asignamos la columna que queremos eliminar\n",
        "column_54 = dataframe.columns[54]\n",
        "\n",
        "# Ahora selecciona la columna 54\n",
        "y = dataframe[column_54]\n",
        "\n",
        "# Y elimina la columna 54 del DataFrame\n",
        "X = dataframe.drop(columns=[column_54])"
      ],
      "metadata": {
        "id": "11BcsD5kffOw"
      },
      "execution_count": 6,
      "outputs": []
    },
    {
      "cell_type": "code",
      "source": [
        "labels_ = y.unique() #Obtenemos todos los valores unicos de la columna '54'\n",
        "\n",
        "#Mostramos la lista de valores unicos y la cantidad de estos en este caso son 7 valores unicos\n",
        "print(labels_)\n",
        "print(len(labels_))"
      ],
      "metadata": {
        "id": "QEM41wNyj3sr",
        "colab": {
          "base_uri": "https://localhost:8080/"
        },
        "outputId": "1dcdc517-fc4c-4989-980e-7f3ef50e9911"
      },
      "execution_count": null,
      "outputs": [
        {
          "output_type": "stream",
          "name": "stdout",
          "text": [
            "[5 2 1 7 3 6 4]\n",
            "7\n"
          ]
        }
      ]
    },
    {
      "cell_type": "code",
      "source": [
        "# Dividimos los datos en conjuntos para entrenamiento y para prueba\n",
        "X_train, X_test, y_train, y_test = train_test_split(X, y, test_size=0.2, random_state=1)"
      ],
      "metadata": {
        "id": "h6lkHtREfkGx"
      },
      "execution_count": null,
      "outputs": []
    },
    {
      "cell_type": "code",
      "execution_count": null,
      "metadata": {
        "id": "S1jDDbkBeGnT"
      },
      "outputs": [],
      "source": [
        "#convertimos a numpy los datos de entrenamiento y prueba\n",
        "X_trainNp = X_train.values\n",
        "y_trainNp= y_train.values"
      ]
    },
    {
      "cell_type": "code",
      "source": [
        "X_testNp = X_test.values\n",
        "y_testNp= y_test.values"
      ],
      "metadata": {
        "id": "OQnqgwUgW5gX"
      },
      "execution_count": null,
      "outputs": []
    },
    {
      "cell_type": "code",
      "source": [
        "#Generamos el batch size con datos seleccionados aleatoriamente de X\n",
        "def load_next_batch(batch_size):\n",
        "    return X[np.random.choice(len(X), batch_size, replace=False)]#se evita generar indices duplicados"
      ],
      "metadata": {
        "id": "PDiT6jl7ORPF"
      },
      "execution_count": null,
      "outputs": []
    },
    {
      "cell_type": "code",
      "source": [
        "import numpy as np\n",
        "from sklearn.cluster import MiniBatchKMeans\n",
        "\n",
        "# Definir parámetros del MiniBatchKMeans\n",
        "k = 7\n",
        "n_init = 10\n",
        "n_iterations = 100\n",
        "batch_size = 50000\n",
        "init_size = 500\n",
        "evaluate_on_last_n_iters = 10\n",
        "\n",
        "best_kmeans = None\n",
        "\n",
        "# Supongamos que tus datos ya están cargados en una variable X_trainNp\n",
        "# Asegúrate de tener una función para obtener lotes de datos\n",
        "def load_next_batch(batch_size):\n",
        "    indices = np.random.choice(X_trainNp.shape[0], batch_size, replace=False)\n",
        "    return X_trainNp[indices]\n",
        "\n",
        "for init in range(n_init):\n",
        "    minibatch_kmeans = MiniBatchKMeans(n_clusters=k, init_size=init_size, random_state=init)\n",
        "\n",
        "    # Inicializar el MiniBatchKMeans con un lote inicial\n",
        "    X_init = load_next_batch(init_size)\n",
        "    minibatch_kmeans.partial_fit(X_init)\n",
        "\n",
        "    # Inicializar suma de inercia\n",
        "    minibatch_kmeans.sum_inertia_ = 0\n",
        "    for iteration in range(n_iterations):\n",
        "        X_batch = load_next_batch(batch_size)\n",
        "        minibatch_kmeans.partial_fit(X_batch)\n",
        "\n",
        "        # Evaluar inercia en las últimas iteraciones\n",
        "        if iteration >= n_iterations - evaluate_on_last_n_iters:\n",
        "            minibatch_kmeans.sum_inertia_ += minibatch_kmeans.inertia_\n",
        "\n",
        "    # Guardar el mejor modelo según la suma de inercia\n",
        "    if best_kmeans is None or minibatch_kmeans.sum_inertia_ < best_kmeans.sum_inertia_:\n",
        "        best_kmeans = minibatch_kmeans\n",
        "\n",
        "# Resultados del mejor modelo\n",
        "print(f\"Mejor KMeans con inercia: {best_kmeans.inertia_}\")\n"
      ],
      "metadata": {
        "colab": {
          "base_uri": "https://localhost:8080/"
        },
        "id": "fqsOz3CjOH46",
        "outputId": "6e258c62-4306-42bf-aeae-24d2ae1fd0c4"
      },
      "execution_count": null,
      "outputs": [
        {
          "output_type": "stream",
          "name": "stderr",
          "text": [
            "/usr/local/lib/python3.10/dist-packages/sklearn/cluster/_kmeans.py:870: FutureWarning: The default value of `n_init` will change from 3 to 'auto' in 1.4. Set the value of `n_init` explicitly to suppress the warning\n",
            "  warnings.warn(\n",
            "/usr/local/lib/python3.10/dist-packages/sklearn/cluster/_kmeans.py:870: FutureWarning: The default value of `n_init` will change from 3 to 'auto' in 1.4. Set the value of `n_init` explicitly to suppress the warning\n",
            "  warnings.warn(\n",
            "/usr/local/lib/python3.10/dist-packages/sklearn/cluster/_kmeans.py:870: FutureWarning: The default value of `n_init` will change from 3 to 'auto' in 1.4. Set the value of `n_init` explicitly to suppress the warning\n",
            "  warnings.warn(\n",
            "/usr/local/lib/python3.10/dist-packages/sklearn/cluster/_kmeans.py:870: FutureWarning: The default value of `n_init` will change from 3 to 'auto' in 1.4. Set the value of `n_init` explicitly to suppress the warning\n",
            "  warnings.warn(\n",
            "/usr/local/lib/python3.10/dist-packages/sklearn/cluster/_kmeans.py:870: FutureWarning: The default value of `n_init` will change from 3 to 'auto' in 1.4. Set the value of `n_init` explicitly to suppress the warning\n",
            "  warnings.warn(\n",
            "/usr/local/lib/python3.10/dist-packages/sklearn/cluster/_kmeans.py:870: FutureWarning: The default value of `n_init` will change from 3 to 'auto' in 1.4. Set the value of `n_init` explicitly to suppress the warning\n",
            "  warnings.warn(\n",
            "/usr/local/lib/python3.10/dist-packages/sklearn/cluster/_kmeans.py:870: FutureWarning: The default value of `n_init` will change from 3 to 'auto' in 1.4. Set the value of `n_init` explicitly to suppress the warning\n",
            "  warnings.warn(\n",
            "/usr/local/lib/python3.10/dist-packages/sklearn/cluster/_kmeans.py:870: FutureWarning: The default value of `n_init` will change from 3 to 'auto' in 1.4. Set the value of `n_init` explicitly to suppress the warning\n",
            "  warnings.warn(\n",
            "/usr/local/lib/python3.10/dist-packages/sklearn/cluster/_kmeans.py:870: FutureWarning: The default value of `n_init` will change from 3 to 'auto' in 1.4. Set the value of `n_init` explicitly to suppress the warning\n",
            "  warnings.warn(\n",
            "/usr/local/lib/python3.10/dist-packages/sklearn/cluster/_kmeans.py:870: FutureWarning: The default value of `n_init` will change from 3 to 'auto' in 1.4. Set the value of `n_init` explicitly to suppress the warning\n",
            "  warnings.warn(\n"
          ]
        },
        {
          "output_type": "stream",
          "name": "stdout",
          "text": [
            "Mejor KMeans con inercia: 38884914280.0263\n"
          ]
        }
      ]
    },
    {
      "cell_type": "code",
      "source": [
        "#Usamos muestras de 50000 datos del dataset ya que al ser muy grande llegaba a tardar casi una hora en sacar un coheficiente de silueta\n",
        "from sklearn.metrics import silhouette_score\n",
        "sample_size = 50000\n",
        "if X_trainNp.shape[0] > sample_size:\n",
        "    sample_indices = np.random.choice(X_trainNp.shape[0], size=sample_size, replace=False)\n",
        "    sample_X = X_trainNp[sample_indices]\n",
        "    sample_labels = best_kmeans.predict(sample_X)\n",
        "else:\n",
        "    sample_X = X_trainNp\n",
        "    sample_labels = best_kmeans.predict(sample_X)\n",
        "#Sacamos el coheficiente de silueta con el best_kmeans que generamos en el batch size y con la muestra de x\n",
        "silhouette_avg = silhouette_score(sample_X, sample_labels)\n",
        "print(f\"Puntaje de Silueta en la muestra: {silhouette_avg}\")"
      ],
      "metadata": {
        "colab": {
          "base_uri": "https://localhost:8080/"
        },
        "id": "bWrJkTVEml2F",
        "outputId": "0ca30d50-9495-4aeb-9109-951ae6223e67"
      },
      "execution_count": null,
      "outputs": [
        {
          "output_type": "stream",
          "name": "stdout",
          "text": [
            "Puntaje de Silueta en la muestra: 0.32178064119018146\n"
          ]
        }
      ]
    },
    {
      "cell_type": "code",
      "source": [
        "kmeans_per_k = [KMeans(n_clusters=k, init=\"random\", n_init=10, algorithm=\"full\", random_state=11).fit(sample_X)\n",
        "                for k in range(1, 10)] #se crea una lista de modelos k-means, uno por cada numero de clusters (1-10)\n",
        "\n",
        "# Calcular los puntajes de silueta en la muestra de X\n",
        "silhouette_scores = [silhouette_score(sample_X, model.labels_)\n",
        "                     for model in kmeans_per_k[1:]]  # Se calculan los puntajes de silueta para todos los modelos\n",
        "# Graficar los puntajes de silueta\n",
        "plt.figure(figsize=(8, 3))  # Se crea una figura de 8x3 pulgadas\n",
        "plt.plot(range(2, 10), silhouette_scores, \"bo-\")  # Se grafican los puntajes de silueta con puntos azules\n",
        "plt.xlabel(\"$k$\", fontsize=14)\n",
        "plt.ylabel(\"Silhouette score\", fontsize=14)\n",
        "plt.axis([1.8, 10.0, 0.0, 1])  # Se establece el rango para el eje x y el eje y\n",
        "plt.show()"
      ],
      "metadata": {
        "colab": {
          "base_uri": "https://localhost:8080/",
          "height": 633
        },
        "id": "1Z5o0nE1nJuG",
        "outputId": "90d6c00d-5193-4a09-98c4-a43696a24067"
      },
      "execution_count": null,
      "outputs": [
        {
          "output_type": "stream",
          "name": "stderr",
          "text": [
            "/usr/local/lib/python3.10/dist-packages/sklearn/cluster/_kmeans.py:1366: FutureWarning: algorithm='full' is deprecated, it will be removed in 1.3. Using 'lloyd' instead.\n",
            "  warnings.warn(\n",
            "/usr/local/lib/python3.10/dist-packages/sklearn/cluster/_kmeans.py:1366: FutureWarning: algorithm='full' is deprecated, it will be removed in 1.3. Using 'lloyd' instead.\n",
            "  warnings.warn(\n",
            "/usr/local/lib/python3.10/dist-packages/sklearn/cluster/_kmeans.py:1366: FutureWarning: algorithm='full' is deprecated, it will be removed in 1.3. Using 'lloyd' instead.\n",
            "  warnings.warn(\n",
            "/usr/local/lib/python3.10/dist-packages/sklearn/cluster/_kmeans.py:1366: FutureWarning: algorithm='full' is deprecated, it will be removed in 1.3. Using 'lloyd' instead.\n",
            "  warnings.warn(\n",
            "/usr/local/lib/python3.10/dist-packages/sklearn/cluster/_kmeans.py:1366: FutureWarning: algorithm='full' is deprecated, it will be removed in 1.3. Using 'lloyd' instead.\n",
            "  warnings.warn(\n",
            "/usr/local/lib/python3.10/dist-packages/sklearn/cluster/_kmeans.py:1366: FutureWarning: algorithm='full' is deprecated, it will be removed in 1.3. Using 'lloyd' instead.\n",
            "  warnings.warn(\n",
            "/usr/local/lib/python3.10/dist-packages/sklearn/cluster/_kmeans.py:1366: FutureWarning: algorithm='full' is deprecated, it will be removed in 1.3. Using 'lloyd' instead.\n",
            "  warnings.warn(\n",
            "/usr/local/lib/python3.10/dist-packages/sklearn/cluster/_kmeans.py:1366: FutureWarning: algorithm='full' is deprecated, it will be removed in 1.3. Using 'lloyd' instead.\n",
            "  warnings.warn(\n",
            "/usr/local/lib/python3.10/dist-packages/sklearn/cluster/_kmeans.py:1366: FutureWarning: algorithm='full' is deprecated, it will be removed in 1.3. Using 'lloyd' instead.\n",
            "  warnings.warn(\n"
          ]
        },
        {
          "output_type": "display_data",
          "data": {
            "text/plain": [
              "<Figure size 800x300 with 1 Axes>"
            ],
            "image/png": "[encoded data removed]"
          },
          "metadata": {}
        }
      ]
    },
    {
      "cell_type": "code",
      "source": [
        "from sklearn.metrics import silhouette_samples\n",
        "from matplotlib.ticker import FixedLocator, FixedFormatter\n",
        "import matplotlib as mpl\n",
        "\n",
        "# Crear una figura de 11x9 pulgadas\n",
        "plt.figure(figsize=(11, 9))\n",
        "\n",
        "n_rows = 3  # número de filas en la cuadrícula de subgráficos\n",
        "n_cols = 3  # número de columnas en la cuadrícula de subgráficos\n",
        "\n",
        "for k in range(3, 10):  # se itera por los valores de k (numero de clusters)\n",
        "    index = k - 3  # calcula el índice correcto para el subgráfico\n",
        "    plt.subplot(n_rows, n_cols, index + 1)  # crea un subgrafico para cada uno\n",
        "\n",
        "    y_pred = kmeans_per_k[k - 1].labels_  # se obtienen las etiquetas\n",
        "    silhouette_coefficients = silhouette_samples(sample_X, y_pred)  # se calculan los coeficientes de las siluetas para cada muestra\n",
        "\n",
        "    padding = len(sample_X) // 30  # se establece un espacio entre los graficos de silueta de cada cluster\n",
        "    pos = padding\n",
        "    ticks = []  # cada tick representara el centro de un cluster\n",
        "    for i in range(k):\n",
        "        coeffs = silhouette_coefficients[y_pred == i]  # se seleccionan los coeficientes correspondiente al cluster i\n",
        "        coeffs.sort()  # se ordenan los coeficientes\n",
        "\n",
        "        color = mpl.cm.Spectral(i / k)  # se asigna un color a cada cluster\n",
        "        plt.fill_betweenx(np.arange(pos, pos + len(coeffs)), 0, coeffs,\n",
        "                          facecolor=color, edgecolor=color, alpha=0.7)  # se crea un grafico para los coeficientes\n",
        "        ticks.append(pos + len(coeffs) // 2)  # se adiciona la posicion del centro del area de silueta\n",
        "        pos += len(coeffs) + padding  # se actualiza la posicion para el siguiente cluster\n",
        "\n",
        "    plt.gca().yaxis.set_major_locator(FixedLocator(ticks))\n",
        "    plt.gca().yaxis.set_major_formatter(FixedFormatter(range(k)))\n",
        "    if k in (3, 6, 9):\n",
        "        plt.ylabel(\"Cluster\")\n",
        "\n",
        "    if k in (7, 8, 9):\n",
        "        plt.gca().set_xticks([-0.1, 0, 0.2, 0.4, 0.6, 0.8, 1])\n",
        "        plt.xlabel(\"Silhouette Coefficient\")\n",
        "    else:\n",
        "        plt.tick_params(labelbottom=False)\n",
        "\n",
        "    plt.axvline(x=silhouette_scores[k - 2], color=\"red\", linestyle=\"--\")  # se dibuja una linea con el valor medio del coeficiente de silueta\n",
        "    plt.title(\"$k={}$\".format(k), fontsize=16)\n",
        "\n",
        "plt.show()"
      ],
      "metadata": {
        "colab": {
          "base_uri": "https://localhost:8080/",
          "height": 797
        },
        "id": "Y1qoI_sCtR4P",
        "outputId": "54e5962a-f04f-411a-d606-bf20483f684f"
      },
      "execution_count": null,
      "outputs": [
        {
          "output_type": "display_data",
          "data": {
            "text/plain": [
              "<Figure size 1100x900 with 7 Axes>"
            ],
            "image/png": "[encoded data removed]"
          },
          "metadata": {}
        }
      ]
    },
    {
      "cell_type": "markdown",
      "source": [
        "Conseguimos los clusters graficados y vemos los cercanos al coheficiente de silueta, en este caso los cercanos son 7,8,9, sin embargo el 7 tiene la grafica mas regular"
      ],
      "metadata": {
        "id": "vsGo5_PYDnN_"
      }
    },
    {
      "cell_type": "markdown",
      "source": [
        "**Aprendizaje Semisupervisado**"
      ],
      "metadata": {
        "id": "QlzH9EXjZZDe"
      }
    },
    {
      "cell_type": "code",
      "source": [
        "from sklearn.cluster import KMeans\n",
        "\n",
        "k = 7 #establece el numero de clusters\n",
        "kmeans = KMeans(n_clusters=k, random_state=42) #incializa el modelo\n",
        "X_digits_dist = kmeans.fit_transform(X_train)#calcula las distancias de los datos a todos los centroides"
      ],
      "metadata": {
        "colab": {
          "base_uri": "https://localhost:8080/"
        },
        "id": "t0N0xLk91bk7",
        "outputId": "24728da8-e33f-4f42-8986-c3fa1478f7d1"
      },
      "execution_count": null,
      "outputs": [
        {
          "output_type": "stream",
          "name": "stderr",
          "text": [
            "/usr/local/lib/python3.10/dist-packages/sklearn/cluster/_kmeans.py:870: FutureWarning: The default value of `n_init` will change from 10 to 'auto' in 1.4. Set the value of `n_init` explicitly to suppress the warning\n",
            "  warnings.warn(\n"
          ]
        }
      ]
    },
    {
      "cell_type": "code",
      "source": [
        "idxs = np.argmin(X_digits_dist, axis=0)#calcula los indices de las distancias minimas para cada columna\n",
        "X_representative_digits = X_train.values[idxs]#devuleve las muestras mas representativas por cada columna"
      ],
      "metadata": {
        "id": "ZyMWJzHW1sQr"
      },
      "execution_count": null,
      "outputs": []
    },
    {
      "cell_type": "code",
      "source": [
        "#Como el cuadernillo de SensIO hacemos trampa asignando los labels que ya conocemos\n",
        "y_representative_digits = y_train.values[idxs]#identifica los labels correspondientes a las muestras mas representativas"
      ],
      "metadata": {
        "id": "RwyAK4KD2XzT"
      },
      "execution_count": null,
      "outputs": []
    },
    {
      "cell_type": "code",
      "source": [
        "from sklearn.linear_model import LogisticRegression\n",
        "\n",
        "log_reg2 = LogisticRegression(multi_class=\"ovr\", solver=\"lbfgs\", max_iter=5000, random_state=42)#crea un modelo de regresion logistica con one vs all\n",
        "%time log_reg2.fit(X_representative_digits, y_representative_digits)#entrena un modelo con los datos y labels representativos\n",
        "log_reg2.score(X_test, y_test)#muestra la presicion del modelo"
      ],
      "metadata": {
        "colab": {
          "base_uri": "https://localhost:8080/"
        },
        "id": "CBJNZwdK2ic_",
        "outputId": "a952ee44-81fe-490b-b0e5-5ff093a6eb42"
      },
      "execution_count": null,
      "outputs": [
        {
          "output_type": "stream",
          "name": "stdout",
          "text": [
            "CPU times: user 13.6 ms, sys: 813 µs, total: 14.4 ms\n",
            "Wall time: 15.9 ms\n"
          ]
        },
        {
          "output_type": "execute_result",
          "data": {
            "text/plain": [
              "0.4470710738965431"
            ]
          },
          "metadata": {},
          "execution_count": 19
        }
      ]
    },
    {
      "cell_type": "code",
      "source": [
        "log_reg = LogisticRegression(multi_class=\"ovr\", solver=\"lbfgs\", max_iter=5000, random_state=42)#crea otro modelo de regresion logistica con one vs all\n",
        "%time log_reg.fit(X_train, y_train)#entrena el modelo con 50 datos y labels correspondientes\n",
        "log_reg.score(X_test, y_test)"
      ],
      "metadata": {
        "id": "egF_YtyEDf0s"
      },
      "execution_count": null,
      "outputs": []
    },
    {
      "cell_type": "code",
      "source": [
        "log_reg = LogisticRegression(multi_class=\"ovr\", solver=\"lbfgs\", max_iter=5000, random_state=42)#crea otro modelo de regresion logistica con one vs all\n",
        "%time log_reg.fit(X_train, y_train)#entrena el modelo con 50 datos y labels correspondientes\n",
        "log_reg.score(X_test, y_test)"
      ],
      "metadata": {
        "id": "0v5uxcNblUEt"
      },
      "execution_count": null,
      "outputs": []
    },
    {
      "cell_type": "code",
      "source": [
        "y_train_propagated = np.empty(len(X_train))\n",
        "for i in range(k):\n",
        "  y_train_propagated[kmeans.labels_==i] = y_representative_digits[i]#se asigna la etiqueta representativa a todas las muestras que pertenecen al cluster i"
      ],
      "metadata": {
        "id": "8ni72oJt2y8_"
      },
      "execution_count": null,
      "outputs": []
    },
    {
      "cell_type": "code",
      "source": [
        "log_reg3 = LogisticRegression(multi_class=\"ovr\", solver=\"lbfgs\", max_iter=5000, random_state=42)#crea el tercer modelo de regresion logistica con one vs all\n",
        "%time log_reg3.fit(X_train, y_train_propagated)#entrena el modelo con 1000 datos de entrenamiento y sus Y's correspondientes pero ya modifcadas en base a las y representativas\n",
        "log_reg3.score(X_test, y_test)#calcula la presicion del modelo"
      ],
      "metadata": {
        "colab": {
          "base_uri": "https://localhost:8080/"
        },
        "id": "8Egu0UCv22cS",
        "outputId": "4c2f09ef-9b97-4455-c479-cfaf117fc216"
      },
      "execution_count": null,
      "outputs": [
        {
          "output_type": "stream",
          "name": "stdout",
          "text": [
            "CPU times: user 43.6 s, sys: 8.67 s, total: 52.3 s\n",
            "Wall time: 32 s\n"
          ]
        },
        {
          "output_type": "execute_result",
          "data": {
            "text/plain": [
              "0.46275913702744337"
            ]
          },
          "metadata": {},
          "execution_count": 23
        }
      ]
    },
    {
      "cell_type": "markdown",
      "source": [
        "**Aprendizaje Activo**"
      ],
      "metadata": {
        "id": "eszTS1oBYvtT"
      }
    },
    {
      "cell_type": "code",
      "source": [
        "probas = log_reg3.predict_proba(X_train[:1000])#se obtienen las probabilidades de que las primeras 1000 muestras pertenezcan a cada clase posible\n",
        "labels_ixs = np.argmax(probas, axis=1)#obtiene el indice de la probabilidad maxima (la clase mas probable) por cada muestra\n",
        "labels = np.array([proba[ix] for proba, ix in zip(probas, labels_ixs)])#se obtiene la probabilidad maxima de cada muestra\n",
        "sorted_ixs = np.argsort(labels) #se ordenan los indices de las muestras por sus probabilidades en orden ascendente(las primeras seran las entradas con menores probabilidades maximas)\n",
        "labels[sorted_ixs[:10]]#se muestran las 10 muestras con las menores probabilidades maximas"
      ],
      "metadata": {
        "colab": {
          "base_uri": "https://localhost:8080/"
        },
        "id": "xagecuEu3Pne",
        "outputId": "d702c060-23e3-4837-c212-e23dff595cf6"
      },
      "execution_count": null,
      "outputs": [
        {
          "output_type": "execute_result",
          "data": {
            "text/plain": [
              "array([0.51393807, 0.51446577, 0.52154967, 0.52567941, 0.52728085,\n",
              "       0.52808539, 0.53359542, 0.53711023, 0.53847721, 0.54214854])"
            ]
          },
          "metadata": {},
          "execution_count": 24
        }
      ]
    },
    {
      "cell_type": "code",
      "source": [
        "y_lowest = y_train.values[:1000][sorted_ixs[:k]] #obtiene las etiquetas de las k muestras con las menores probabilidades maximas de ser clasificadas correctamente\n",
        "y_lowest"
      ],
      "metadata": {
        "colab": {
          "base_uri": "https://localhost:8080/"
        },
        "id": "-hW3Sp8X3Vzv",
        "outputId": "65753b10-24a0-43c4-b89d-86315e4bf655"
      },
      "execution_count": null,
      "outputs": [
        {
          "output_type": "execute_result",
          "data": {
            "text/plain": [
              "array([2, 1, 2, 2, 1, 1, 7])"
            ]
          },
          "metadata": {},
          "execution_count": 25
        }
      ]
    },
    {
      "cell_type": "code",
      "source": [
        "y_train2 = y_train_propagated.copy()#copia las 1000 primeras filas de las y propagadas\n",
        "y_train2[sorted_ixs[:k]] = y_lowest"
      ],
      "metadata": {
        "id": "--GW1V5J3brk"
      },
      "execution_count": null,
      "outputs": []
    },
    {
      "cell_type": "code",
      "source": [
        "log_reg5 = LogisticRegression(multi_class=\"ovr\", solver=\"lbfgs\", max_iter=5000, random_state=42)\n",
        "%time log_reg5.fit(X_train, y_train2)\n",
        "log_reg5.score(X_test, y_test)"
      ],
      "metadata": {
        "id": "2r8fF5HulVtg"
      },
      "execution_count": null,
      "outputs": []
    },
    {
      "cell_type": "code",
      "source": [
        "log_reg5 = LogisticRegression(multi_class=\"ovr\", solver=\"lbfgs\", max_iter=5000, random_state=42)\n",
        "%time log_reg5.fit(X_train, y_train2)\n",
        "log_reg5.score(X_test, y_test)"
      ],
      "metadata": {
        "id": "xx5wNQXADj_r"
      },
      "execution_count": null,
      "outputs": []
    }
  ]
}