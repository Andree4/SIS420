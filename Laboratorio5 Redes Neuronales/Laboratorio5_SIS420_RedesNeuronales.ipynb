{
  "nbformat": 4,
  "nbformat_minor": 0,
  "metadata": {
    "colab": {
      "provenance": [],
      "collapsed_sections": [
        "IfRFOBuN4SDl",
        "hbJtmYjox8TT",
        "p0HU6W831Bvg",
        "ARDdAzvs2AXG"
      ]
    },
    "kernelspec": {
      "name": "python3",
      "display_name": "Python 3"
    },
    "language_info": {
      "name": "python"
    }
  },
  "cells": [
    {
      "cell_type": "markdown",
      "source": [
        "# **Laboratorio 5 Redes Neuronales**\n",
        "Arancibia Aguilar Daniel Andree\n",
        "\n",
        "Ingeniería en Ciencias de la Computación\n",
        "\n",
        "Para las redes neuronales hare uso del siguiente dataset:\n",
        "\n",
        "https://www.kaggle.com/datasets/anseldsouza/water-pump-rul-predictive-maintenance\n",
        "\n",
        "Convertido a una clasificación de 9 clases\n",
        "\n",
        "Haciendo las pruebas con diferentes hiperparametros para encontrar el mas optimo\n"
      ],
      "metadata": {
        "id": "IfRFOBuN4SDl"
      }
    },
    {
      "cell_type": "code",
      "execution_count": 44,
      "metadata": {
        "id": "KZtVguhqFMCA"
      },
      "outputs": [],
      "source": [
        "import os\n",
        "import pandas as pd\n",
        "from sklearn.model_selection import train_test_split\n",
        "import numpy as np\n",
        "from matplotlib import pyplot\n",
        "from scipy import optimize\n",
        "\n",
        "%matplotlib inline"
      ]
    },
    {
      "cell_type": "code",
      "source": [
        "from google.colab import drive\n",
        "drive.mount('/content/gdrive')"
      ],
      "metadata": {
        "colab": {
          "base_uri": "https://localhost:8080/"
        },
        "id": "bP0nNjQUFO_j",
        "outputId": "2e551c74-2778-40b3-e09d-59dbbf8ebc62"
      },
      "execution_count": 45,
      "outputs": [
        {
          "output_type": "stream",
          "name": "stdout",
          "text": [
            "Drive already mounted at /content/gdrive; to attempt to forcibly remount, call drive.mount(\"/content/gdrive\", force_remount=True).\n"
          ]
        }
      ]
    },
    {
      "cell_type": "code",
      "source": [
        "!ls\n",
        "%mkdir data\n",
        "!ls"
      ],
      "metadata": {
        "colab": {
          "base_uri": "https://localhost:8080/"
        },
        "id": "CJIawhuwFVor",
        "outputId": "fe4975df-bfc3-4eca-efa4-395d7237191f"
      },
      "execution_count": 46,
      "outputs": [
        {
          "output_type": "stream",
          "name": "stdout",
          "text": [
            "data  gdrive  sample_data\n",
            "mkdir: cannot create directory ‘data’: File exists\n",
            "data  gdrive  sample_data\n"
          ]
        }
      ]
    },
    {
      "cell_type": "markdown",
      "source": [
        "**Preproceso el dataset convirtiendolo a una clasificación one vs all**"
      ],
      "metadata": {
        "id": "yzYmlSpy1ZB_"
      }
    },
    {
      "cell_type": "code",
      "source": [
        "url = \"/content/gdrive/MyDrive/SIS420/Lab5/rul_hrs.csv\"\n",
        "dataframe = pd.read_csv(url)\n",
        "# Definir los rangos y los valores a los que se deben convertir\n",
        "rango_valores = [\n",
        "    (range(0, 84), 0),\n",
        "    (range(84, 167), 1),\n",
        "    (range(167, 251), 2),\n",
        "    (range(251, 334), 3),\n",
        "    (range(334, 418), 4),\n",
        "    (range(418, 502), 5),\n",
        "    (range(502, 585), 6),\n",
        "    (range(585, 669), 7),\n",
        "    (range(669, 753), 8),\n",
        "    (range(753, 838), 9)\n",
        "]\n",
        "# Iterar sobre los rangos y valores y reemplazar los valores en la columna \"rul\"\n",
        "for rango, valor in rango_valores:\n",
        "    dataframe['rul'] = dataframe['rul'].replace(rango, valor)\n",
        "\n",
        "print(dataframe)"
      ],
      "metadata": {
        "colab": {
          "base_uri": "https://localhost:8080/"
        },
        "id": "cPFGDI8ouwiz",
        "outputId": "f3a59958-ae2c-47a1-e4d5-a4a4f77a9f39"
      },
      "execution_count": 78,
      "outputs": [
        {
          "output_type": "stream",
          "name": "stdout",
          "text": [
            "        Unnamed: 0  timestamp  sensor_00  sensor_01  sensor_02  sensor_03  \\\n",
            "0                0      43191          2         47         53         46   \n",
            "1                1      43191          2         47         53         46   \n",
            "2                2      43191          2         47         53         46   \n",
            "3                3      43191          2         47         53         46   \n",
            "4                4      43191          2         47         53         46   \n",
            "...            ...        ...        ...        ...        ...        ...   \n",
            "166436      166436      43307          2         46         53         44   \n",
            "166437      166437      43307          2         46         53         44   \n",
            "166438      166438      43307          2         46         53         44   \n",
            "166439      166439      43307          2         46         53         44   \n",
            "166440      166440      43307          2         46         53         44   \n",
            "\n",
            "        sensor_04  sensor_05  sensor_06  sensor_07  ...  sensor_42  sensor_43  \\\n",
            "0             634         76         13         16  ...         32         42   \n",
            "1             634         76         13         16  ...         32         42   \n",
            "2             639         74         13         16  ...         32         42   \n",
            "3             628         77         13         16  ...         32         41   \n",
            "4             636         77         13         16  ...         32         41   \n",
            "...           ...        ...        ...        ...  ...        ...        ...   \n",
            "166436         71         73         14         16  ...         36         49   \n",
            "166437          3         72         14         16  ...         36         49   \n",
            "166438          3         70         14         16  ...         36         50   \n",
            "166439          3         69         14         16  ...         36         51   \n",
            "166440        421         73         14         16  ...         36         51   \n",
            "\n",
            "        sensor_44  sensor_45  sensor_46  sensor_47  sensor_48  sensor_49  \\\n",
            "0              40         66         51         38        158         68   \n",
            "1              40         66         51         38        158         68   \n",
            "2              39         65         51         38        156         67   \n",
            "3              39         65         51         38        156         67   \n",
            "4              39         65         52         39        158         67   \n",
            "...           ...        ...        ...        ...        ...        ...   \n",
            "166436         52         52         60         45        252         69   \n",
            "166437         52         51         60         45        253         71   \n",
            "166438         52         52         61         45        249         72   \n",
            "166439         53         53         63         45        245         73   \n",
            "166440         52         53         67         44        230         70   \n",
            "\n",
            "        sensor_51  rul  \n",
            "0             201    3  \n",
            "1             201    3  \n",
            "2             204    3  \n",
            "3             203    3  \n",
            "4             201    3  \n",
            "...           ...  ...  \n",
            "166436        198    0  \n",
            "166437        203    0  \n",
            "166438        207    0  \n",
            "166439        210    0  \n",
            "166440        206    0  \n",
            "\n",
            "[166441 rows x 53 columns]\n"
          ]
        }
      ]
    },
    {
      "cell_type": "code",
      "source": [
        "X = dataframe.drop(columns=['rul'])\n",
        "y = dataframe['rul']\n",
        "print(X.shape)\n",
        "print(y.shape)\n",
        "X=X.values\n",
        "y=y.values\n",
        "y = np.squeeze(y)"
      ],
      "metadata": {
        "colab": {
          "base_uri": "https://localhost:8080/"
        },
        "id": "7Gp7jTC_Mcy0",
        "outputId": "1d94f4df-11ad-4049-e55b-7e24832ba437"
      },
      "execution_count": 79,
      "outputs": [
        {
          "output_type": "stream",
          "name": "stdout",
          "text": [
            "(166441, 52)\n",
            "(166441,)\n"
          ]
        }
      ]
    },
    {
      "cell_type": "markdown",
      "source": [
        "Se hace una normalización para evitar el overflow al sacar la funcion de costo y ademas tener una mejor precisión"
      ],
      "metadata": {
        "id": "HGTnc13-Th11"
      }
    },
    {
      "cell_type": "code",
      "source": [
        "def featureNormalize(X):\n",
        "    mu = np.mean(X, axis=0)\n",
        "    sigma = np.std(X, axis=0)\n",
        "    epsilon = 1e-8\n",
        "    sigma += epsilon\n",
        "    X_norm = (X - mu) / sigma\n",
        "    return X_norm, mu, sigma"
      ],
      "metadata": {
        "id": "Sq-5Xe1EF3qj"
      },
      "execution_count": 80,
      "outputs": []
    },
    {
      "cell_type": "code",
      "source": [
        "X, mu, sigma = featureNormalize(X)\n",
        "print(X)"
      ],
      "metadata": {
        "colab": {
          "base_uri": "https://localhost:8080/"
        },
        "id": "Ig4eUCdCF194",
        "outputId": "72f6f101-74f3-4296-bcce-dbbd20fd7881"
      },
      "execution_count": 81,
      "outputs": [
        {
          "output_type": "stream",
          "name": "stdout",
          "text": [
            "[[-1.7320404  -1.73196589 -0.23395421 ...  0.56148079  1.07881881\n",
            "  -0.00905751]\n",
            " [-1.73201959 -1.73196589 -0.23395421 ...  0.56148079  1.07881881\n",
            "  -0.00905751]\n",
            " [-1.73199878 -1.73196589 -0.23395421 ...  0.53020102  1.00861677\n",
            "   0.01600662]\n",
            " ...\n",
            " [ 1.73199878  1.74447716 -0.23395421 ...  1.98471052  1.35962696\n",
            "   0.04107075]\n",
            " [ 1.73201959  1.74447716 -0.23395421 ...  1.92215097  1.429829\n",
            "   0.06613488]\n",
            " [ 1.7320404   1.74447716 -0.23395421 ...  1.68755266  1.21922289\n",
            "   0.03271604]]\n"
          ]
        }
      ]
    },
    {
      "cell_type": "markdown",
      "source": [
        "**Separo los valores de entrenamiento y los valores de prueba**"
      ],
      "metadata": {
        "id": "pNHhHfmg1lQ5"
      }
    },
    {
      "cell_type": "code",
      "source": [
        "X_train, X_test, Y_train, Y_test = train_test_split(X, y, test_size=0.2, random_state=42)\n",
        "print(X_train.shape)\n",
        "print(Y_train.shape)\n",
        "print(X.shape)\n",
        "y = np.array([int(e) for e in y])\n",
        "print(y.shape)\n",
        "y = np.squeeze(y)\n",
        "print(y)"
      ],
      "metadata": {
        "colab": {
          "base_uri": "https://localhost:8080/"
        },
        "id": "LGH9QrzgF-_1",
        "outputId": "ae518992-f8fd-415e-be28-6719d42a0d7c"
      },
      "execution_count": 51,
      "outputs": [
        {
          "output_type": "stream",
          "name": "stdout",
          "text": [
            "(133152, 52)\n",
            "(133152,)\n",
            "(166441, 52)\n",
            "(166441,)\n",
            "[3 3 3 ... 0 0 0]\n"
          ]
        }
      ]
    },
    {
      "cell_type": "markdown",
      "source": [
        "# **Definición de funciones**"
      ],
      "metadata": {
        "id": "xdSmIj-0IoZg"
      }
    },
    {
      "cell_type": "code",
      "source": [
        "def sigmoid(z):\n",
        "    \"\"\"\n",
        "    Computes the sigmoid of z.\n",
        "    \"\"\"\n",
        "    return 1.0 / (1.0 + np.exp(-z))\n",
        "\n",
        "\n",
        "def sigmoidGradient(z):\n",
        "\n",
        "    g = np.zeros(z.shape)\n",
        "\n",
        "    g = sigmoid(z) * (1 - sigmoid(z))\n",
        "\n",
        "    return g"
      ],
      "metadata": {
        "id": "kBUz073AIOqb"
      },
      "execution_count": 52,
      "outputs": []
    },
    {
      "cell_type": "code",
      "source": [
        "def nnCostFunction(nn_params,\n",
        "                   input_layer_size,\n",
        "                   hidden_layer_size,\n",
        "                   num_labels,\n",
        "                   X_train, Y_train, lambda_=0.0):\n",
        "\n",
        "    Theta1 = np.reshape(nn_params[:hidden_layer_size * (input_layer_size + 1)],\n",
        "                        (hidden_layer_size, (input_layer_size + 1)))\n",
        "\n",
        "    Theta2 = np.reshape(nn_params[(hidden_layer_size * (input_layer_size + 1)):],\n",
        "                        (num_labels, (hidden_layer_size + 1)))\n",
        "\n",
        "    m = Y_train.size\n",
        "\n",
        "    J = 0\n",
        "    Theta1_grad = np.zeros(Theta1.shape)\n",
        "    Theta2_grad = np.zeros(Theta2.shape)\n",
        "\n",
        "    a1 = np.concatenate([np.ones((m, 1)), X_train], axis=1)\n",
        "\n",
        "    a2 = sigmoid(a1.dot(Theta1.T))\n",
        "    a2 = np.concatenate([np.ones((a2.shape[0], 1)), a2], axis=1)\n",
        "\n",
        "    a3 = sigmoid(a2.dot(Theta2.T))\n",
        "\n",
        "    y_matrix = Y_train.reshape(-1)\n",
        "    # print(y.shape)\n",
        "    y_matrix = np.eye(num_labels)[y_matrix]\n",
        "    # print(y_matrix)\n",
        "\n",
        "    temp1 = Theta1\n",
        "    temp2 = Theta2\n",
        "\n",
        "    # Agregar el termino de regularización\n",
        "\n",
        "    reg_term = (lambda_ / (2 * m)) * (np.sum(np.square(temp1[:, 1:])) + np.sum(np.square(temp2[:, 1:])))\n",
        "\n",
        "    J = (-1 / m) * np.sum((np.log(a3) * y_matrix) + np.log(1 - a3) * (1 - y_matrix)) + reg_term\n",
        "\n",
        "    # Backpropogation\n",
        "\n",
        "    delta_3 = a3 - y_matrix\n",
        "    delta_2 = delta_3.dot(Theta2)[:, 1:] * sigmoidGradient(a1.dot(Theta1.T))\n",
        "\n",
        "    Delta1 = delta_2.T.dot(a1)\n",
        "    Delta2 = delta_3.T.dot(a2)\n",
        "\n",
        "    # Agregar regularización al gradiente\n",
        "\n",
        "    Theta1_grad = (1 / m) * Delta1\n",
        "    Theta1_grad[:, 1:] = Theta1_grad[:, 1:] + (lambda_ / m) * Theta1[:, 1:]\n",
        "\n",
        "    Theta2_grad = (1 / m) * Delta2\n",
        "    Theta2_grad[:, 1:] = Theta2_grad[:, 1:] + (lambda_ / m) * Theta2[:, 1:]\n",
        "\n",
        "    grad = np.concatenate([Theta1_grad.ravel(), Theta2_grad.ravel()])\n",
        "\n",
        "    return J, grad"
      ],
      "metadata": {
        "id": "rjUCliaOISGz"
      },
      "execution_count": 53,
      "outputs": []
    },
    {
      "cell_type": "code",
      "source": [
        "def randInitializeWeights(L_in, L_out, epsilon_init=0.12):\n",
        "    \"\"\"\n",
        "    Randomly initialize the weights of a layer in a neural network.\n",
        "\n",
        "    Parameters\n",
        "    ----------\n",
        "    L_in : int\n",
        "        Number of incomming connections.\n",
        "\n",
        "    L_out : int\n",
        "        Number of outgoing connections.\n",
        "\n",
        "    epsilon_init : float, optional\n",
        "        Range of values which the weight can take from a uniform\n",
        "        distribution.\n",
        "\n",
        "    Returns\n",
        "    -------\n",
        "    W : array_like\n",
        "        The weight initialiatized to random values.  Note that W should\n",
        "        be set to a matrix of size(L_out, 1 + L_in) as\n",
        "        the first column of W handles the \"bias\" terms.\"\"\"\n",
        "\n",
        "\n",
        "    W = np.zeros((L_out, 1 + L_in))\n",
        "    W = np.random.rand(L_out, 1 + L_in) * 2 * epsilon_init - epsilon_init\n",
        "\n",
        "    return W"
      ],
      "metadata": {
        "id": "OjZzBtAUIiQR"
      },
      "execution_count": 54,
      "outputs": []
    },
    {
      "cell_type": "code",
      "source": [
        "def predict(Theta1, Theta2, X):\n",
        "    \"\"\"\n",
        "    Predict the label of an input given a trained neural network\n",
        "    Outputs the predicted label of X given the trained weights of a neural\n",
        "    network(Theta1, Theta2)\n",
        "    \"\"\"\n",
        "    m = X.shape[0]\n",
        "    num_labels = Theta2.shape[0]\n",
        "    p = np.zeros(m)\n",
        "    h1 = sigmoid(np.dot(np.concatenate([np.ones((m, 1)), X], axis=1), Theta1.T))\n",
        "    h2 = sigmoid(np.dot(np.concatenate([np.ones((m, 1)), h1], axis=1), Theta2.T))\n",
        "    p = np.argmax(h2, axis=1)\n",
        "    return p"
      ],
      "metadata": {
        "id": "snwUToZUIwjq"
      },
      "execution_count": 55,
      "outputs": []
    },
    {
      "cell_type": "markdown",
      "source": [
        "# **Prueba 1 de hiperparametros:**"
      ],
      "metadata": {
        "id": "eji3OwVtyLxB"
      }
    },
    {
      "cell_type": "code",
      "source": [
        "# Configurando parametros necesario\n",
        "input_layer_size  = 52\n",
        "hidden_layer_size = 50\n",
        "num_labels = 10\n",
        "\n",
        "pesos = {}\n",
        "pesos['Theta1'] = np.random.rand(hidden_layer_size, 53)\n",
        "pesos['Theta2'] = np.random.rand(num_labels, hidden_layer_size + 1)\n",
        "\n",
        "Theta1, Theta2 = pesos['Theta1'], pesos['Theta2']\n",
        "\n",
        "\n",
        "# Desenrollar parámetros\n",
        "print(Theta1.ravel().shape)\n",
        "print(Theta2.ravel().shape)\n",
        "\n",
        "nn_params = np.concatenate([Theta1.ravel(), Theta2.ravel()])\n",
        "print(nn_params.shape)"
      ],
      "metadata": {
        "colab": {
          "base_uri": "https://localhost:8080/"
        },
        "id": "Zv-_bnAeHuHN",
        "outputId": "d918e00e-6735-42b8-93a0-1844f0436d43"
      },
      "execution_count": 56,
      "outputs": [
        {
          "output_type": "stream",
          "name": "stdout",
          "text": [
            "(2650,)\n",
            "(510,)\n",
            "(3160,)\n"
          ]
        }
      ]
    },
    {
      "cell_type": "code",
      "source": [
        "lambda_ = 0.1\n",
        "J, _ = nnCostFunction(nn_params, input_layer_size, hidden_layer_size, num_labels, X_train, Y_train, lambda_)\n",
        "print('Costo en parametros : %.6f ' % J)"
      ],
      "metadata": {
        "colab": {
          "base_uri": "https://localhost:8080/"
        },
        "id": "jlcIpOLUIWcU",
        "outputId": "a8a57e7d-26ac-4ea4-99f9-60aa015b359e"
      },
      "execution_count": 57,
      "outputs": [
        {
          "output_type": "stream",
          "name": "stdout",
          "text": [
            "Costo en parametros : 164.177366 \n"
          ]
        }
      ]
    },
    {
      "cell_type": "code",
      "source": [
        "z = np.array([-1, -0.5, 0, 0.5, 1])\n",
        "g = sigmoidGradient(z)\n",
        "print('Gradiente sigmoide evaluada con [-1 -0.5 0 0.5 1]:\\n  ')\n",
        "print(g)"
      ],
      "metadata": {
        "colab": {
          "base_uri": "https://localhost:8080/"
        },
        "id": "O5eHkNUQIdKK",
        "outputId": "d2652211-e506-4a90-c348-32593d001225"
      },
      "execution_count": 58,
      "outputs": [
        {
          "output_type": "stream",
          "name": "stdout",
          "text": [
            "Gradiente sigmoide evaluada con [-1 -0.5 0 0.5 1]:\n",
            "  \n",
            "[0.19661193 0.23500371 0.25       0.23500371 0.19661193]\n"
          ]
        }
      ]
    },
    {
      "cell_type": "code",
      "source": [
        "print('Inicialización de parámetros de redes neuronales...')\n",
        "\n",
        "initial_Theta1 = randInitializeWeights(input_layer_size, hidden_layer_size)\n",
        "initial_Theta2 = randInitializeWeights(hidden_layer_size, num_labels)\n",
        "\n",
        "# Desenrrollr parametros\n",
        "initial_nn_params = np.concatenate([initial_Theta1.ravel(), initial_Theta2.ravel()], axis=0)"
      ],
      "metadata": {
        "colab": {
          "base_uri": "https://localhost:8080/"
        },
        "id": "RME_D2TgIlTu",
        "outputId": "dea50c0b-7ce8-48ce-a47a-12b587eb8166"
      },
      "execution_count": 59,
      "outputs": [
        {
          "output_type": "stream",
          "name": "stdout",
          "text": [
            "Inicialización de parámetros de redes neuronales...\n"
          ]
        }
      ]
    },
    {
      "cell_type": "code",
      "source": [
        "#lambda se define al igual que el numero de veces que se optimizará\n",
        "lambda_ = 0.1\n",
        "max_iterations = 200\n",
        "\n",
        "# La funcion de costo es aplicada al modelo\n",
        "costFunction = lambda p: nnCostFunction(p, input_layer_size, hidden_layer_size, num_labels, X, y, lambda_)\n",
        "\n",
        "#funcion que permite minimizar la funcion de costo\n",
        "res = optimize.minimize(costFunction, initial_nn_params, jac=True,\n",
        "                        method='L-BFGS-B',  # Cambio de metodo 'L-BFGS-B', para poder definir las iteraciones\n",
        "                        options={'maxiter': max_iterations})\n",
        "# get the solution of the optimization\n",
        "nn_params = res.x\n",
        "\n",
        "# Obtain Theta1 and Theta2 back from nn_params\n",
        "Theta1 = np.reshape(nn_params[:hidden_layer_size * (input_layer_size + 1)],\n",
        "                    (hidden_layer_size, (input_layer_size + 1)))\n",
        "\n",
        "Theta2 = np.reshape(nn_params[(hidden_layer_size * (input_layer_size + 1)):],\n",
        "                    (num_labels, (hidden_layer_size + 1)))"
      ],
      "metadata": {
        "id": "hre9592o9S7k"
      },
      "execution_count": 60,
      "outputs": []
    },
    {
      "cell_type": "code",
      "source": [
        "pred = predict(Theta1, Theta2, X_train)\n",
        "print(pred)\n",
        "print('Precisión de entrenamiento: %f' % (np.mean(pred == Y_train) * 100))\n",
        "\n",
        "pred = predict(Theta1, Theta2, X_test)\n",
        "print(pred)\n",
        "print('Precisión de prueba: %f' % (np.mean(pred == Y_test) * 100))\n"
      ],
      "metadata": {
        "colab": {
          "base_uri": "https://localhost:8080/"
        },
        "id": "qBppFMkqI0Rw",
        "outputId": "84120e0b-edc6-4eef-9e9e-545b9d0b0548"
      },
      "execution_count": 61,
      "outputs": [
        {
          "output_type": "stream",
          "name": "stdout",
          "text": [
            "[0 4 1 ... 1 3 1]\n",
            "Precisión de entrenamiento: 98.290675\n",
            "[0 1 2 ... 1 3 2]\n",
            "Precisión de prueba: 98.350807\n"
          ]
        }
      ]
    },
    {
      "cell_type": "markdown",
      "source": [
        "# **Prueba 2 cambiando los hiperparametros**"
      ],
      "metadata": {
        "id": "hbJtmYjox8TT"
      }
    },
    {
      "cell_type": "code",
      "source": [
        "# Configurando parametros necesario\n",
        "input_layer_size  = 52\n",
        "hidden_layer_size = 42\n",
        "num_labels = 10\n",
        "\n",
        "pesos = {}\n",
        "pesos['Theta1'] = np.random.rand(hidden_layer_size, 53)\n",
        "pesos['Theta2'] = np.random.rand(num_labels, hidden_layer_size + 1)\n",
        "\n",
        "Theta1, Theta2 = pesos['Theta1'], pesos['Theta2']\n",
        "# Desenrollar parámetros\n",
        "print(Theta1.ravel().shape)\n",
        "print(Theta2.ravel().shape)\n",
        "\n",
        "nn_params = np.concatenate([Theta1.ravel(), Theta2.ravel()])\n",
        "print(nn_params.shape)"
      ],
      "metadata": {
        "colab": {
          "base_uri": "https://localhost:8080/"
        },
        "id": "jjzmco7SyTfz",
        "outputId": "9b8b6082-8fe2-467d-b774-efcb2954375f"
      },
      "execution_count": 62,
      "outputs": [
        {
          "output_type": "stream",
          "name": "stdout",
          "text": [
            "(2226,)\n",
            "(430,)\n",
            "(2656,)\n"
          ]
        }
      ]
    },
    {
      "cell_type": "code",
      "source": [
        "lambda_ = 0.02\n",
        "J, _ = nnCostFunction(nn_params, input_layer_size, hidden_layer_size, num_labels, X_train, Y_train, lambda_)\n",
        "print('Costo en parametros : %.6f ' % J)"
      ],
      "metadata": {
        "colab": {
          "base_uri": "https://localhost:8080/"
        },
        "id": "PK3TqDkjyVzB",
        "outputId": "4fa02f6b-3e23-4d4e-991d-76ddd629613d"
      },
      "execution_count": 63,
      "outputs": [
        {
          "output_type": "stream",
          "name": "stdout",
          "text": [
            "Costo en parametros : 146.523772 \n"
          ]
        }
      ]
    },
    {
      "cell_type": "code",
      "source": [
        "print('Inicialización de parámetros de redes neuronales...')\n",
        "\n",
        "initial_Theta1 = randInitializeWeights(input_layer_size, hidden_layer_size)\n",
        "initial_Theta2 = randInitializeWeights(hidden_layer_size, num_labels)\n",
        "\n",
        "# Desenrrollr parametros\n",
        "initial_nn_params = np.concatenate([initial_Theta1.ravel(), initial_Theta2.ravel()], axis=0)"
      ],
      "metadata": {
        "colab": {
          "base_uri": "https://localhost:8080/"
        },
        "id": "fv0v_iPZyZAE",
        "outputId": "c0af7c77-226f-44a8-80a3-d51a5c6c2e33"
      },
      "execution_count": 64,
      "outputs": [
        {
          "output_type": "stream",
          "name": "stdout",
          "text": [
            "Inicialización de parámetros de redes neuronales...\n"
          ]
        }
      ]
    },
    {
      "cell_type": "code",
      "source": [
        "#lambda se define al igual que el numero de veces que se optimizará\n",
        "lambda_ = 0.02\n",
        "max_iterations = 200\n",
        "\n",
        "# La funcion de costo es aplicada al modelo\n",
        "costFunction = lambda p: nnCostFunction(p, input_layer_size, hidden_layer_size, num_labels, X, y, lambda_)\n",
        "\n",
        "#funcion que permite minimizar la funcion de costo\n",
        "res = optimize.minimize(costFunction, initial_nn_params, jac=True,\n",
        "                        method='L-BFGS-B',  # Cambio de metodo 'L-BFGS-B', para poder definir las iteraciones\n",
        "                        options={'maxiter': max_iterations})\n",
        "# get the solution of the optimization\n",
        "nn_params = res.x\n",
        "\n",
        "# Obtain Theta1 and Theta2 back from nn_params\n",
        "Theta1 = np.reshape(nn_params[:hidden_layer_size * (input_layer_size + 1)],\n",
        "                    (hidden_layer_size, (input_layer_size + 1)))\n",
        "\n",
        "Theta2 = np.reshape(nn_params[(hidden_layer_size * (input_layer_size + 1)):],\n",
        "                    (num_labels, (hidden_layer_size + 1)))"
      ],
      "metadata": {
        "id": "9yH9ece9CJZo"
      },
      "execution_count": 65,
      "outputs": []
    },
    {
      "cell_type": "code",
      "source": [
        "pred = predict(Theta1, Theta2, X_train)\n",
        "print(pred)\n",
        "print('Precisión de entrenamiento: %f' % (np.mean(pred == Y_train) * 100))\n",
        "\n",
        "pred = predict(Theta1, Theta2, X_test)\n",
        "print(pred)\n",
        "print('Precisión de prueba: %f' % (np.mean(pred == Y_test) * 100))\n"
      ],
      "metadata": {
        "colab": {
          "base_uri": "https://localhost:8080/"
        },
        "id": "K13ZFPx4yao0",
        "outputId": "5b008f7a-3e34-48e2-a9ce-2c64b612c75d"
      },
      "execution_count": 66,
      "outputs": [
        {
          "output_type": "stream",
          "name": "stdout",
          "text": [
            "[0 4 1 ... 1 3 1]\n",
            "Precisión de entrenamiento: 97.495344\n",
            "[0 1 2 ... 1 3 2]\n",
            "Precisión de prueba: 97.581784\n"
          ]
        }
      ]
    },
    {
      "cell_type": "markdown",
      "source": [
        "# **Prueba 3 cambiando los hiperparametros**"
      ],
      "metadata": {
        "id": "p0HU6W831Bvg"
      }
    },
    {
      "cell_type": "code",
      "source": [
        "# Configurando parametros necesario\n",
        "input_layer_size  = 52\n",
        "hidden_layer_size = 18\n",
        "num_labels = 10\n",
        "\n",
        "pesos = {}\n",
        "pesos['Theta1'] = np.random.rand(hidden_layer_size, 53)\n",
        "pesos['Theta2'] = np.random.rand(num_labels, hidden_layer_size + 1)\n",
        "\n",
        "Theta1, Theta2 = pesos['Theta1'], pesos['Theta2']\n",
        "# Desenrollar parámetros\n",
        "print(Theta1.ravel().shape)\n",
        "print(Theta2.ravel().shape)\n",
        "\n",
        "nn_params = np.concatenate([Theta1.ravel(), Theta2.ravel()])\n",
        "print(nn_params.shape)"
      ],
      "metadata": {
        "colab": {
          "base_uri": "https://localhost:8080/"
        },
        "id": "cZV8ZQaa1D9N",
        "outputId": "b8e7e6fe-5ba6-4bf3-9f03-5a1a491a1f0f"
      },
      "execution_count": 67,
      "outputs": [
        {
          "output_type": "stream",
          "name": "stdout",
          "text": [
            "(954,)\n",
            "(190,)\n",
            "(1144,)\n"
          ]
        }
      ]
    },
    {
      "cell_type": "code",
      "source": [
        "lambda_ = 0.001\n",
        "J, _ = nnCostFunction(nn_params, input_layer_size, hidden_layer_size, num_labels, X_train, Y_train, lambda_)\n",
        "print('Costo en parametros : %.6f ' % J)"
      ],
      "metadata": {
        "colab": {
          "base_uri": "https://localhost:8080/"
        },
        "id": "bkE6VkIJ1FOm",
        "outputId": "0a133f78-953d-4047-cf11-6e4af134eb5f"
      },
      "execution_count": 68,
      "outputs": [
        {
          "output_type": "stream",
          "name": "stdout",
          "text": [
            "Costo en parametros : 61.448132 \n"
          ]
        }
      ]
    },
    {
      "cell_type": "code",
      "source": [
        "print('Inicialización de parámetros de redes neuronales...')\n",
        "\n",
        "initial_Theta1 = randInitializeWeights(input_layer_size, hidden_layer_size)\n",
        "initial_Theta2 = randInitializeWeights(hidden_layer_size, num_labels)\n",
        "\n",
        "# Desenrrollr parametros\n",
        "initial_nn_params = np.concatenate([initial_Theta1.ravel(), initial_Theta2.ravel()], axis=0)"
      ],
      "metadata": {
        "colab": {
          "base_uri": "https://localhost:8080/"
        },
        "id": "YZkvw2341GUX",
        "outputId": "a9b01a92-3d22-43a9-fe7b-e4a887b1d0ab"
      },
      "execution_count": 69,
      "outputs": [
        {
          "output_type": "stream",
          "name": "stdout",
          "text": [
            "Inicialización de parámetros de redes neuronales...\n"
          ]
        }
      ]
    },
    {
      "cell_type": "code",
      "source": [
        "#lambda se define al igual que el numero de veces que se optimizará\n",
        "lambda_ = 0.001\n",
        "max_iterations = 200\n",
        "\n",
        "# La funcion de costo es aplicada al modelo\n",
        "costFunction = lambda p: nnCostFunction(p, input_layer_size, hidden_layer_size, num_labels, X, y, lambda_)\n",
        "\n",
        "#funcion que permite minimizar la funcion de costo\n",
        "res = optimize.minimize(costFunction, initial_nn_params, jac=True,\n",
        "                        method='L-BFGS-B',  # Cambio de metodo 'L-BFGS-B', para poder definir las iteraciones\n",
        "                        options={'maxiter': max_iterations})\n",
        "# get the solution of the optimization\n",
        "nn_params = res.x\n",
        "\n",
        "# Obtain Theta1 and Theta2 back from nn_params\n",
        "Theta1 = np.reshape(nn_params[:hidden_layer_size * (input_layer_size + 1)],\n",
        "                    (hidden_layer_size, (input_layer_size + 1)))\n",
        "\n",
        "Theta2 = np.reshape(nn_params[(hidden_layer_size * (input_layer_size + 1)):],\n",
        "                    (num_labels, (hidden_layer_size + 1)))"
      ],
      "metadata": {
        "id": "ZYk2TuLCEL7J"
      },
      "execution_count": 70,
      "outputs": []
    },
    {
      "cell_type": "code",
      "source": [
        "pred = predict(Theta1, Theta2, X_train)\n",
        "print(pred)\n",
        "print('Precisión de entrenamiento: %f' % (np.mean(pred == Y_train) * 100))\n",
        "\n",
        "pred = predict(Theta1, Theta2, X_test)\n",
        "print(pred)\n",
        "print('Precisión de prueba: %f' % (np.mean(pred == Y_test) * 100))\n"
      ],
      "metadata": {
        "colab": {
          "base_uri": "https://localhost:8080/"
        },
        "id": "NZTV7xSO1HW9",
        "outputId": "aa12311e-8fed-49b2-e5f2-65a8b8094746"
      },
      "execution_count": 71,
      "outputs": [
        {
          "output_type": "stream",
          "name": "stdout",
          "text": [
            "[0 4 1 ... 1 4 1]\n",
            "Precisión de entrenamiento: 93.325673\n",
            "[0 1 2 ... 1 3 2]\n",
            "Precisión de prueba: 93.222987\n"
          ]
        }
      ]
    },
    {
      "cell_type": "markdown",
      "source": [
        "# **Prueba 4 cambiando los hiperparametros**"
      ],
      "metadata": {
        "id": "ARDdAzvs2AXG"
      }
    },
    {
      "cell_type": "code",
      "source": [
        "# Configurando parametros necesario\n",
        "input_layer_size  = 52\n",
        "hidden_layer_size = 62\n",
        "num_labels = 10\n",
        "\n",
        "pesos = {}\n",
        "pesos['Theta1'] = np.random.rand(hidden_layer_size, 53)\n",
        "pesos['Theta2'] = np.random.rand(num_labels, hidden_layer_size + 1)\n",
        "\n",
        "Theta1, Theta2 = pesos['Theta1'], pesos['Theta2']\n",
        "# Desenrollar parámetros\n",
        "print(Theta1.ravel().shape)\n",
        "print(Theta2.ravel().shape)\n",
        "\n",
        "nn_params = np.concatenate([Theta1.ravel(), Theta2.ravel()])\n",
        "print(nn_params.shape)"
      ],
      "metadata": {
        "colab": {
          "base_uri": "https://localhost:8080/"
        },
        "id": "6WxeDESq2DjJ",
        "outputId": "2a0e3473-b4a1-4d59-cb5a-4035c6949886"
      },
      "execution_count": 72,
      "outputs": [
        {
          "output_type": "stream",
          "name": "stdout",
          "text": [
            "(3286,)\n",
            "(630,)\n",
            "(3916,)\n"
          ]
        }
      ]
    },
    {
      "cell_type": "code",
      "source": [
        "lambda_ = 0.5\n",
        "J, _ = nnCostFunction(nn_params, input_layer_size, hidden_layer_size, num_labels, X_train, Y_train, lambda_)\n",
        "print('Costo en parametros : %.6f ' % J)"
      ],
      "metadata": {
        "colab": {
          "base_uri": "https://localhost:8080/"
        },
        "id": "g340rFZN2Ewy",
        "outputId": "5cc5efe9-df8c-4e94-d8e4-c7a7ea3cf464"
      },
      "execution_count": 73,
      "outputs": [
        {
          "output_type": "stream",
          "name": "stdout",
          "text": [
            "Costo en parametros : 206.133261 \n"
          ]
        }
      ]
    },
    {
      "cell_type": "code",
      "source": [
        "print('Inicialización de parámetros de redes neuronales...')\n",
        "\n",
        "initial_Theta1 = randInitializeWeights(input_layer_size, hidden_layer_size)\n",
        "initial_Theta2 = randInitializeWeights(hidden_layer_size, num_labels)\n",
        "\n",
        "# Desenrrollr parametros\n",
        "initial_nn_params = np.concatenate([initial_Theta1.ravel(), initial_Theta2.ravel()], axis=0)"
      ],
      "metadata": {
        "colab": {
          "base_uri": "https://localhost:8080/"
        },
        "id": "0OriwKm_2M3u",
        "outputId": "c17e0964-1fa9-44f7-fcd7-0068bb028188"
      },
      "execution_count": 74,
      "outputs": [
        {
          "output_type": "stream",
          "name": "stdout",
          "text": [
            "Inicialización de parámetros de redes neuronales...\n"
          ]
        }
      ]
    },
    {
      "cell_type": "code",
      "source": [
        "#lambda se define al igual que el numero de veces que se optimizará\n",
        "lambda_ = 0.5\n",
        "max_iterations = 200\n",
        "\n",
        "# La funcion de costo es aplicada al modelo\n",
        "costFunction = lambda p: nnCostFunction(p, input_layer_size, hidden_layer_size, num_labels, X, y, lambda_)\n",
        "\n",
        "#funcion que permite minimizar la funcion de costo\n",
        "res = optimize.minimize(costFunction, initial_nn_params, jac=True,\n",
        "                        method='L-BFGS-B',  # Cambio de metodo 'L-BFGS-B', para poder definir las iteraciones\n",
        "                        options={'maxiter': max_iterations})\n",
        "# get the solution of the optimization\n",
        "nn_params = res.x\n",
        "\n",
        "# Obtain Theta1 and Theta2 back from nn_params\n",
        "Theta1 = np.reshape(nn_params[:hidden_layer_size * (input_layer_size + 1)],\n",
        "                    (hidden_layer_size, (input_layer_size + 1)))\n",
        "\n",
        "Theta2 = np.reshape(nn_params[(hidden_layer_size * (input_layer_size + 1)):],\n",
        "                    (num_labels, (hidden_layer_size + 1)))"
      ],
      "metadata": {
        "id": "iKa8gqtSFgQT"
      },
      "execution_count": 75,
      "outputs": []
    },
    {
      "cell_type": "code",
      "source": [
        "pred = predict(Theta1, Theta2, X_train)\n",
        "print(pred)\n",
        "print('Precisión de entrenamiento: %f' % (np.mean(pred == Y_train) * 100))\n",
        "\n",
        "pred = predict(Theta1, Theta2, X_test)\n",
        "print(pred)\n",
        "print('Precisión de prueba: %f' % (np.mean(pred == Y_test) * 100))\n"
      ],
      "metadata": {
        "colab": {
          "base_uri": "https://localhost:8080/"
        },
        "id": "9_HPtxAO2OVK",
        "outputId": "abd0e69f-06fb-418b-8211-3fd6407e8568"
      },
      "execution_count": 76,
      "outputs": [
        {
          "output_type": "stream",
          "name": "stdout",
          "text": [
            "[0 4 1 ... 1 3 1]\n",
            "Precisión de entrenamiento: 98.921533\n",
            "[0 1 2 ... 1 3 2]\n",
            "Precisión de prueba: 98.927574\n"
          ]
        }
      ]
    },
    {
      "cell_type": "markdown",
      "source": [
        "# **Resultado de las 4 pruebas**\n",
        "## **Prueba 1 con los hiperparametros**\n",
        "\n",
        "Capas ocultas = 50 lambda = 0.1\n",
        "\n",
        "[0 4 1 ... 1 3 1]\n",
        "**Precisión de entrenamiento: 98.290675**\n",
        "\n",
        "[0 1 2 ... 1 3 2]\n",
        "**Precisión de prueba: 98.350807**\n",
        "\n",
        "## **Prueba 2 con los hiperparametros**\n",
        "\n",
        "Capas ocultas = 42 lambda = 0.02\n",
        "\n",
        "[0 4 1 ... 1 3 1]\n",
        "**Precisión de entrenamiento: 97.495344**\n",
        "\n",
        "[0 1 2 ... 1 3 2]\n",
        "**Precisión de prueba: 97.581784**\n",
        "\n",
        "## **Prueba 3 con los hiperparametros**\n",
        "\n",
        "Capas ocultas = 18 lambda = 0.001\n",
        "\n",
        "[0 4 1 ... 1 4 1]\n",
        "**Precisión de entrenamiento: 93.325673**\n",
        "\n",
        "[0 1 2 ... 1 3 2]\n",
        "**Precisión de prueba: 93.222987**\n",
        "\n",
        "## **Prueba 4 con los hiperparametros**\n",
        "\n",
        "Capas ocultas = 62 lambda = 0.5\n",
        "\n",
        "[0 4 1 ... 1 3 1]\n",
        "**Precisión de entrenamiento: 98.921533**\n",
        "\n",
        "[0 1 2 ... 1 3 2]\n",
        "**Precisión de prueba: 98.927574**\n",
        "\n",
        "Las pruebas muestran que un valor más alto de lambda suele mejorar la precisión en entrenamiento y test, cambiar el número de capas ocultas no muestra una variación tan clara en los resultados pero al tener pocas capas si hubo una disminución en la precisión"
      ],
      "metadata": {
        "id": "DhIUdVca4Ab-"
      }
    }
  ]
}