{
  "nbformat": 4,
  "nbformat_minor": 0,
  "metadata": {
    "colab": {
      "provenance": [],
      "collapsed_sections": [
        "IfRFOBuN4SDl",
        "eji3OwVtyLxB",
        "hbJtmYjox8TT"
      ]
    },
    "kernelspec": {
      "name": "python3",
      "display_name": "Python 3"
    },
    "language_info": {
      "name": "python"
    }
  },
  "cells": [
    {
      "cell_type": "markdown",
      "source": [
        "# **Laboratorio 5 Redes Neuronales**\n",
        "Arancibia Aguilar Daniel Andree\n",
        "\n",
        "Ingeniería en Ciencias de la Computación\n",
        "\n",
        "Para las redes neuronales hare uso del siguiente dataset:\n",
        "\n",
        "https://www.kaggle.com/datasets/anseldsouza/water-pump-rul-predictive-maintenance\n",
        "\n",
        "Convertido a una clasificación de 9 clases\n",
        "\n",
        "Haciendo las pruebas con diferentes hiperparametros para encontrar el mas optimo\n"
      ],
      "metadata": {
        "id": "IfRFOBuN4SDl"
      }
    },
    {
      "cell_type": "code",
      "execution_count": 484,
      "metadata": {
        "id": "KZtVguhqFMCA"
      },
      "outputs": [],
      "source": [
        "# used for manipulating directory paths\n",
        "import os\n",
        "import pandas as pd\n",
        "from sklearn.model_selection import train_test_split\n",
        "# Scientific and vector computation for python\n",
        "import numpy as np\n",
        "\n",
        "# Plotting library\n",
        "from matplotlib import pyplot\n",
        "\n",
        "# Optimization module in scipy\n",
        "from scipy import optimize\n",
        "\n",
        "# will be used to load MATLAB mat datafile format\n",
        "# from scipy.io import loadmat\n",
        "\n",
        "# library written for this exercise providing additional functions for assignment submission, and others\n",
        "# import utils\n",
        "\n",
        "\n",
        "# tells matplotlib to embed plots within the notebook\n",
        "%matplotlib inline"
      ]
    },
    {
      "cell_type": "code",
      "source": [
        "from google.colab import drive\n",
        "drive.mount('/content/gdrive')"
      ],
      "metadata": {
        "colab": {
          "base_uri": "https://localhost:8080/"
        },
        "id": "bP0nNjQUFO_j",
        "outputId": "349792bb-d22a-4406-fa63-3e319afc4cb1"
      },
      "execution_count": 485,
      "outputs": [
        {
          "output_type": "stream",
          "name": "stdout",
          "text": [
            "Drive already mounted at /content/gdrive; to attempt to forcibly remount, call drive.mount(\"/content/gdrive\", force_remount=True).\n"
          ]
        }
      ]
    },
    {
      "cell_type": "code",
      "source": [
        "!ls\n",
        "%mkdir data\n",
        "!ls"
      ],
      "metadata": {
        "colab": {
          "base_uri": "https://localhost:8080/"
        },
        "id": "CJIawhuwFVor",
        "outputId": "4e53f648-9a2f-48f0-ead9-f25b05a3efc9"
      },
      "execution_count": 486,
      "outputs": [
        {
          "output_type": "stream",
          "name": "stdout",
          "text": [
            "data  gdrive  sample_data\n",
            "mkdir: cannot create directory ‘data’: File exists\n",
            "data  gdrive  sample_data\n"
          ]
        }
      ]
    },
    {
      "cell_type": "markdown",
      "source": [
        "**Preproceso el dataset convirtiendolo a una clasificación one vs all**"
      ],
      "metadata": {
        "id": "yzYmlSpy1ZB_"
      }
    },
    {
      "cell_type": "code",
      "source": [
        "url = \"/content/gdrive/MyDrive/SIS420/Lab5/rul_hrs.csv\"\n",
        "dataframe = pd.read_csv(url)\n",
        "# Definir los rangos y los valores a los que se deben convertir\n",
        "rango_valores = [\n",
        "    (range(0, 84), 0),\n",
        "    (range(84, 167), 1),\n",
        "    (range(167, 251), 2),\n",
        "    (range(251, 334), 3),\n",
        "    (range(334, 418), 4),\n",
        "    (range(418, 502), 5),\n",
        "    (range(502, 585), 6),\n",
        "    (range(585, 669), 7),\n",
        "    (range(669, 753), 8),\n",
        "    (range(753, 838), 9)\n",
        "]\n",
        "# Iterar sobre los rangos y valores y reemplazar los valores en la columna \"rul\"\n",
        "for rango, valor in rango_valores:\n",
        "    dataframe['rul'] = dataframe['rul'].replace(rango, valor)\n",
        "\n",
        "print(dataframe)"
      ],
      "metadata": {
        "colab": {
          "base_uri": "https://localhost:8080/"
        },
        "id": "cPFGDI8ouwiz",
        "outputId": "97731c0d-9752-4865-cd70-3cb87fa379ba"
      },
      "execution_count": 487,
      "outputs": [
        {
          "output_type": "stream",
          "name": "stdout",
          "text": [
            "        Unnamed: 0  timestamp  sensor_00  sensor_01  sensor_02  sensor_03  \\\n",
            "0                0      43191          2         47         53         46   \n",
            "1                1      43191          2         47         53         46   \n",
            "2                2      43191          2         47         53         46   \n",
            "3                3      43191          2         47         53         46   \n",
            "4                4      43191          2         47         53         46   \n",
            "...            ...        ...        ...        ...        ...        ...   \n",
            "166436      166436      43307          2         46         53         44   \n",
            "166437      166437      43307          2         46         53         44   \n",
            "166438      166438      43307          2         46         53         44   \n",
            "166439      166439      43307          2         46         53         44   \n",
            "166440      166440      43307          2         46         53         44   \n",
            "\n",
            "        sensor_04  sensor_05  sensor_06  sensor_07  ...  sensor_42  sensor_43  \\\n",
            "0             634         76         13         16  ...         32         42   \n",
            "1             634         76         13         16  ...         32         42   \n",
            "2             639         74         13         16  ...         32         42   \n",
            "3             628         77         13         16  ...         32         41   \n",
            "4             636         77         13         16  ...         32         41   \n",
            "...           ...        ...        ...        ...  ...        ...        ...   \n",
            "166436         71         73         14         16  ...         36         49   \n",
            "166437          3         72         14         16  ...         36         49   \n",
            "166438          3         70         14         16  ...         36         50   \n",
            "166439          3         69         14         16  ...         36         51   \n",
            "166440        421         73         14         16  ...         36         51   \n",
            "\n",
            "        sensor_44  sensor_45  sensor_46  sensor_47  sensor_48  sensor_49  \\\n",
            "0              40         66         51         38        158         68   \n",
            "1              40         66         51         38        158         68   \n",
            "2              39         65         51         38        156         67   \n",
            "3              39         65         51         38        156         67   \n",
            "4              39         65         52         39        158         67   \n",
            "...           ...        ...        ...        ...        ...        ...   \n",
            "166436         52         52         60         45        252         69   \n",
            "166437         52         51         60         45        253         71   \n",
            "166438         52         52         61         45        249         72   \n",
            "166439         53         53         63         45        245         73   \n",
            "166440         52         53         67         44        230         70   \n",
            "\n",
            "        sensor_51  rul  \n",
            "0             201    3  \n",
            "1             201    3  \n",
            "2             204    3  \n",
            "3             203    3  \n",
            "4             201    3  \n",
            "...           ...  ...  \n",
            "166436        198    0  \n",
            "166437        203    0  \n",
            "166438        207    0  \n",
            "166439        210    0  \n",
            "166440        206    0  \n",
            "\n",
            "[166441 rows x 53 columns]\n"
          ]
        }
      ]
    },
    {
      "cell_type": "markdown",
      "source": [
        "**Separo los valores de entrenamiento y los valores de prueba**"
      ],
      "metadata": {
        "id": "pNHhHfmg1lQ5"
      }
    },
    {
      "cell_type": "code",
      "source": [
        "X = dataframe.drop(columns=['rul'])\n",
        "y = dataframe['rul']\n",
        "print(X.shape)\n",
        "print(y.shape)\n",
        "X=X.values\n",
        "y=y.values\n",
        "y = np.squeeze(y)\n",
        "#Separar valores de entrenamiento y valores de test\n",
        "X_train, X_test, Y_train, Y_test = train_test_split(X, y, test_size=0.2, random_state=42)\n",
        "print(X_train.shape)\n",
        "print(Y_train.shape)\n",
        "print(X.shape)\n",
        "y = np.array([int(e) for e in y])\n",
        "print(y.shape)\n",
        "y = np.squeeze(y)\n",
        "print(y)"
      ],
      "metadata": {
        "colab": {
          "base_uri": "https://localhost:8080/"
        },
        "id": "7Gp7jTC_Mcy0",
        "outputId": "b39b5f35-8a7d-4b32-f1d1-a28543412a9c"
      },
      "execution_count": 488,
      "outputs": [
        {
          "output_type": "stream",
          "name": "stdout",
          "text": [
            "(166441, 52)\n",
            "(166441,)\n",
            "(133152, 52)\n",
            "(133152,)\n",
            "(166441, 52)\n",
            "(166441,)\n",
            "[3 3 3 ... 0 0 0]\n"
          ]
        }
      ]
    },
    {
      "cell_type": "markdown",
      "source": [
        "# **Prueba 1 de hiperparametros:**"
      ],
      "metadata": {
        "id": "eji3OwVtyLxB"
      }
    },
    {
      "cell_type": "code",
      "source": [
        "# Configurando parametros necesario\n",
        "input_layer_size  = 52\n",
        "hidden_layer_size = 50\n",
        "num_labels = 10\n",
        "\n",
        "pesos = {}\n",
        "pesos['Theta1'] = np.random.rand(hidden_layer_size, 53)\n",
        "pesos['Theta2'] = np.random.rand(num_labels, hidden_layer_size + 1)\n",
        "\n",
        "Theta1, Theta2 = pesos['Theta1'], pesos['Theta2']\n",
        "\n",
        "\n",
        "# Desenrollar parámetros\n",
        "print(Theta1.ravel().shape)\n",
        "print(Theta2.ravel().shape)\n",
        "\n",
        "nn_params = np.concatenate([Theta1.ravel(), Theta2.ravel()])\n",
        "print(nn_params.shape)"
      ],
      "metadata": {
        "colab": {
          "base_uri": "https://localhost:8080/"
        },
        "id": "Zv-_bnAeHuHN",
        "outputId": "f66e7aa9-9ed1-42b1-d95a-72a96f9f378f"
      },
      "execution_count": 489,
      "outputs": [
        {
          "output_type": "stream",
          "name": "stdout",
          "text": [
            "(2650,)\n",
            "(510,)\n",
            "(3160,)\n"
          ]
        }
      ]
    },
    {
      "cell_type": "code",
      "source": [
        "def sigmoid(z):\n",
        "    \"\"\"\n",
        "    Computes the sigmoid of z.\n",
        "    \"\"\"\n",
        "    return 1.0 / (1.0 + np.exp(-z))\n",
        "\n",
        "\n",
        "def sigmoidGradient(z):\n",
        "\n",
        "    g = np.zeros(z.shape)\n",
        "\n",
        "    g = sigmoid(z) * (1 - sigmoid(z))\n",
        "\n",
        "    return g"
      ],
      "metadata": {
        "id": "kBUz073AIOqb"
      },
      "execution_count": 490,
      "outputs": []
    },
    {
      "cell_type": "code",
      "source": [
        "def nnCostFunction(nn_params,\n",
        "                   input_layer_size,\n",
        "                   hidden_layer_size,\n",
        "                   num_labels,\n",
        "                   X_train, Y_train, lambda_=0.0):\n",
        "\n",
        "    Theta1 = np.reshape(nn_params[:hidden_layer_size * (input_layer_size + 1)],\n",
        "                        (hidden_layer_size, (input_layer_size + 1)))\n",
        "\n",
        "    Theta2 = np.reshape(nn_params[(hidden_layer_size * (input_layer_size + 1)):],\n",
        "                        (num_labels, (hidden_layer_size + 1)))\n",
        "\n",
        "    m = Y_train.size\n",
        "\n",
        "    J = 0\n",
        "    Theta1_grad = np.zeros(Theta1.shape)\n",
        "    Theta2_grad = np.zeros(Theta2.shape)\n",
        "\n",
        "    a1 = np.concatenate([np.ones((m, 1)), X_train], axis=1)\n",
        "\n",
        "    a2 = sigmoid(a1.dot(Theta1.T))\n",
        "    a2 = np.concatenate([np.ones((a2.shape[0], 1)), a2], axis=1)\n",
        "\n",
        "    a3 = sigmoid(a2.dot(Theta2.T))\n",
        "\n",
        "    y_matrix = Y_train.reshape(-1)\n",
        "    # print(y.shape)\n",
        "    y_matrix = np.eye(num_labels)[y_matrix]\n",
        "    # print(y_matrix)\n",
        "\n",
        "    temp1 = Theta1\n",
        "    temp2 = Theta2\n",
        "\n",
        "    # Agregar el termino de regularización\n",
        "\n",
        "    reg_term = (lambda_ / (2 * m)) * (np.sum(np.square(temp1[:, 1:])) + np.sum(np.square(temp2[:, 1:])))\n",
        "\n",
        "    J = (-1 / m) * np.sum((np.log(a3) * y_matrix) + np.log(1 - a3) * (1 - y_matrix)) + reg_term\n",
        "\n",
        "    # Backpropogation\n",
        "\n",
        "    delta_3 = a3 - y_matrix\n",
        "    delta_2 = delta_3.dot(Theta2)[:, 1:] * sigmoidGradient(a1.dot(Theta1.T))\n",
        "\n",
        "    Delta1 = delta_2.T.dot(a1)\n",
        "    Delta2 = delta_3.T.dot(a2)\n",
        "\n",
        "    # Agregar regularización al gradiente\n",
        "\n",
        "    Theta1_grad = (1 / m) * Delta1\n",
        "    Theta1_grad[:, 1:] = Theta1_grad[:, 1:] + (lambda_ / m) * Theta1[:, 1:]\n",
        "\n",
        "    Theta2_grad = (1 / m) * Delta2\n",
        "    Theta2_grad[:, 1:] = Theta2_grad[:, 1:] + (lambda_ / m) * Theta2[:, 1:]\n",
        "\n",
        "    grad = np.concatenate([Theta1_grad.ravel(), Theta2_grad.ravel()])\n",
        "\n",
        "    return J, grad"
      ],
      "metadata": {
        "id": "rjUCliaOISGz"
      },
      "execution_count": 491,
      "outputs": []
    },
    {
      "cell_type": "code",
      "source": [
        "lambda_ = 0\n",
        "J, _ = nnCostFunction(nn_params, input_layer_size, hidden_layer_size, num_labels, X_train, Y_train, lambda_)\n",
        "print('Costo en parametros : %.6f ' % J)"
      ],
      "metadata": {
        "colab": {
          "base_uri": "https://localhost:8080/"
        },
        "id": "jlcIpOLUIWcU",
        "outputId": "cdc8d4a1-813d-48ff-de44-13fa48210fcb"
      },
      "execution_count": 492,
      "outputs": [
        {
          "output_type": "stream",
          "name": "stdout",
          "text": [
            "Costo en parametros : 222.217568 \n"
          ]
        }
      ]
    },
    {
      "cell_type": "code",
      "source": [
        "z = np.array([-1, -0.5, 0, 0.5, 1])\n",
        "g = sigmoidGradient(z)\n",
        "print('Gradiente sigmoide evaluada con [-1 -0.5 0 0.5 1]:\\n  ')\n",
        "print(g)"
      ],
      "metadata": {
        "colab": {
          "base_uri": "https://localhost:8080/"
        },
        "id": "O5eHkNUQIdKK",
        "outputId": "f027a872-63d8-406c-8de1-685ad10ee4cc"
      },
      "execution_count": 493,
      "outputs": [
        {
          "output_type": "stream",
          "name": "stdout",
          "text": [
            "Gradiente sigmoide evaluada con [-1 -0.5 0 0.5 1]:\n",
            "  \n",
            "[0.19661193 0.23500371 0.25       0.23500371 0.19661193]\n"
          ]
        }
      ]
    },
    {
      "cell_type": "code",
      "source": [
        "def randInitializeWeights(L_in, L_out, epsilon_init=0.12):\n",
        "    \"\"\"\n",
        "    Randomly initialize the weights of a layer in a neural network.\n",
        "\n",
        "    Parameters\n",
        "    ----------\n",
        "    L_in : int\n",
        "        Number of incomming connections.\n",
        "\n",
        "    L_out : int\n",
        "        Number of outgoing connections.\n",
        "\n",
        "    epsilon_init : float, optional\n",
        "        Range of values which the weight can take from a uniform\n",
        "        distribution.\n",
        "\n",
        "    Returns\n",
        "    -------\n",
        "    W : array_like\n",
        "        The weight initialiatized to random values.  Note that W should\n",
        "        be set to a matrix of size(L_out, 1 + L_in) as\n",
        "        the first column of W handles the \"bias\" terms.\"\"\"\n",
        "\n",
        "\n",
        "    W = np.zeros((L_out, 1 + L_in))\n",
        "    W = np.random.rand(L_out, 1 + L_in) * 2 * epsilon_init - epsilon_init\n",
        "\n",
        "    return W"
      ],
      "metadata": {
        "id": "OjZzBtAUIiQR"
      },
      "execution_count": 494,
      "outputs": []
    },
    {
      "cell_type": "code",
      "source": [
        "print('Inicialización de parámetros de redes neuronales...')\n",
        "\n",
        "initial_Theta1 = randInitializeWeights(input_layer_size, hidden_layer_size)\n",
        "initial_Theta2 = randInitializeWeights(hidden_layer_size, num_labels)\n",
        "\n",
        "# Desenrrollr parametros\n",
        "initial_nn_params = np.concatenate([initial_Theta1.ravel(), initial_Theta2.ravel()], axis=0)"
      ],
      "metadata": {
        "colab": {
          "base_uri": "https://localhost:8080/"
        },
        "id": "RME_D2TgIlTu",
        "outputId": "1897330c-60a9-44de-dc86-3ab496059834"
      },
      "execution_count": 495,
      "outputs": [
        {
          "output_type": "stream",
          "name": "stdout",
          "text": [
            "Inicialización de parámetros de redes neuronales...\n"
          ]
        }
      ]
    },
    {
      "cell_type": "code",
      "source": [
        "def predict(Theta1, Theta2, X):\n",
        "    \"\"\"\n",
        "    Predict the label of an input given a trained neural network\n",
        "    Outputs the predicted label of X given the trained weights of a neural\n",
        "    network(Theta1, Theta2)\n",
        "    \"\"\"\n",
        "    m = X.shape[0]\n",
        "    num_labels = Theta2.shape[0]\n",
        "    p = np.zeros(m)\n",
        "    h1 = sigmoid(np.dot(np.concatenate([np.ones((m, 1)), X], axis=1), Theta1.T))\n",
        "    h2 = sigmoid(np.dot(np.concatenate([np.ones((m, 1)), h1], axis=1), Theta2.T))\n",
        "    p = np.argmax(h2, axis=1)\n",
        "    return p"
      ],
      "metadata": {
        "id": "snwUToZUIwjq"
      },
      "execution_count": 496,
      "outputs": []
    },
    {
      "cell_type": "code",
      "source": [
        "pred = predict(Theta1, Theta2, X_train)\n",
        "print(pred)\n",
        "print('Precisión de entrenamiento: %f' % (np.mean(pred == Y_train) * 100))\n",
        "\n",
        "pred = predict(Theta1, Theta2, X_test)\n",
        "print(pred)\n",
        "print('Precisión de prueba: %f' % (np.mean(pred == Y_test) * 100))\n"
      ],
      "metadata": {
        "colab": {
          "base_uri": "https://localhost:8080/"
        },
        "id": "qBppFMkqI0Rw",
        "outputId": "15fc9e7d-15c6-45ce-c29d-3036fccdbaee"
      },
      "execution_count": 497,
      "outputs": [
        {
          "output_type": "stream",
          "name": "stdout",
          "text": [
            "[5 5 5 ... 5 5 5]\n",
            "Precisión de entrenamiento: 6.186163\n",
            "[5 5 5 ... 5 5 5]\n",
            "Precisión de prueba: 6.314398\n"
          ]
        }
      ]
    },
    {
      "cell_type": "markdown",
      "source": [
        "# **Prueba 2 cambiando los hiperparametros**"
      ],
      "metadata": {
        "id": "hbJtmYjox8TT"
      }
    },
    {
      "cell_type": "code",
      "source": [
        "# Configurando parametros necesario\n",
        "input_layer_size  = 52\n",
        "hidden_layer_size = 42\n",
        "num_labels = 10\n",
        "\n",
        "pesos = {}\n",
        "pesos['Theta1'] = np.random.rand(hidden_layer_size, 53)\n",
        "pesos['Theta2'] = np.random.rand(num_labels, hidden_layer_size + 1)\n",
        "\n",
        "Theta1, Theta2 = pesos['Theta1'], pesos['Theta2']\n",
        "# Desenrollar parámetros\n",
        "print(Theta1.ravel().shape)\n",
        "print(Theta2.ravel().shape)\n",
        "\n",
        "nn_params = np.concatenate([Theta1.ravel(), Theta2.ravel()])\n",
        "print(nn_params.shape)"
      ],
      "metadata": {
        "colab": {
          "base_uri": "https://localhost:8080/"
        },
        "id": "jjzmco7SyTfz",
        "outputId": "8760075b-5750-4386-fc36-3c13c318d807"
      },
      "execution_count": 498,
      "outputs": [
        {
          "output_type": "stream",
          "name": "stdout",
          "text": [
            "(2226,)\n",
            "(430,)\n",
            "(2656,)\n"
          ]
        }
      ]
    },
    {
      "cell_type": "code",
      "source": [
        "lambda_ = 0.002\n",
        "J, _ = nnCostFunction(nn_params, input_layer_size, hidden_layer_size, num_labels, X_train, Y_train, lambda_)\n",
        "print('Costo en parametros : %.6f ' % J)"
      ],
      "metadata": {
        "colab": {
          "base_uri": "https://localhost:8080/"
        },
        "id": "PK3TqDkjyVzB",
        "outputId": "76396297-921d-43e1-c0e2-c82a0f667ab4"
      },
      "execution_count": 499,
      "outputs": [
        {
          "output_type": "stream",
          "name": "stdout",
          "text": [
            "Costo en parametros : 198.486467 \n"
          ]
        }
      ]
    },
    {
      "cell_type": "code",
      "source": [
        "print('Inicialización de parámetros de redes neuronales...')\n",
        "\n",
        "initial_Theta1 = randInitializeWeights(input_layer_size, hidden_layer_size)\n",
        "initial_Theta2 = randInitializeWeights(hidden_layer_size, num_labels)\n",
        "\n",
        "# Desenrrollr parametros\n",
        "initial_nn_params = np.concatenate([initial_Theta1.ravel(), initial_Theta2.ravel()], axis=0)"
      ],
      "metadata": {
        "colab": {
          "base_uri": "https://localhost:8080/"
        },
        "id": "fv0v_iPZyZAE",
        "outputId": "cb8d76ae-a94b-4a35-e282-ff1c1cdc1e7d"
      },
      "execution_count": 500,
      "outputs": [
        {
          "output_type": "stream",
          "name": "stdout",
          "text": [
            "Inicialización de parámetros de redes neuronales...\n"
          ]
        }
      ]
    },
    {
      "cell_type": "code",
      "source": [
        "pred = predict(Theta1, Theta2, X_train)\n",
        "print(pred)\n",
        "print('Precisión de entrenamiento: %f' % (np.mean(pred == Y_train) * 100))\n",
        "\n",
        "pred = predict(Theta1, Theta2, X_test)\n",
        "print(pred)\n",
        "print('Precisión de prueba: %f' % (np.mean(pred == Y_test) * 100))\n"
      ],
      "metadata": {
        "colab": {
          "base_uri": "https://localhost:8080/"
        },
        "id": "K13ZFPx4yao0",
        "outputId": "a5ac305a-c269-4929-f987-1f73725a2905"
      },
      "execution_count": 501,
      "outputs": [
        {
          "output_type": "stream",
          "name": "stdout",
          "text": [
            "[2 2 2 ... 2 2 2]\n",
            "Precisión de entrenamiento: 14.077896\n",
            "[2 2 2 ... 2 2 2]\n",
            "Precisión de prueba: 13.566043\n"
          ]
        }
      ]
    },
    {
      "cell_type": "markdown",
      "source": [
        "# **Prueba 3 cambiando los hiperparametros**"
      ],
      "metadata": {
        "id": "p0HU6W831Bvg"
      }
    },
    {
      "cell_type": "code",
      "source": [
        "# Configurando parametros necesario\n",
        "input_layer_size  = 52\n",
        "hidden_layer_size = 18\n",
        "num_labels = 10\n",
        "\n",
        "pesos = {}\n",
        "pesos['Theta1'] = np.random.rand(hidden_layer_size, 53)\n",
        "pesos['Theta2'] = np.random.rand(num_labels, hidden_layer_size + 1)\n",
        "\n",
        "Theta1, Theta2 = pesos['Theta1'], pesos['Theta2']\n",
        "# Desenrollar parámetros\n",
        "print(Theta1.ravel().shape)\n",
        "print(Theta2.ravel().shape)\n",
        "\n",
        "nn_params = np.concatenate([Theta1.ravel(), Theta2.ravel()])\n",
        "print(nn_params.shape)"
      ],
      "metadata": {
        "colab": {
          "base_uri": "https://localhost:8080/"
        },
        "id": "cZV8ZQaa1D9N",
        "outputId": "fcc87978-7760-45be-cfac-e624ad5a4f49"
      },
      "execution_count": 502,
      "outputs": [
        {
          "output_type": "stream",
          "name": "stdout",
          "text": [
            "(954,)\n",
            "(190,)\n",
            "(1144,)\n"
          ]
        }
      ]
    },
    {
      "cell_type": "code",
      "source": [
        "lambda_ = 0.01\n",
        "J, _ = nnCostFunction(nn_params, input_layer_size, hidden_layer_size, num_labels, X_train, Y_train, lambda_)\n",
        "print('Costo en parametros : %.6f ' % J)"
      ],
      "metadata": {
        "colab": {
          "base_uri": "https://localhost:8080/"
        },
        "id": "bkE6VkIJ1FOm",
        "outputId": "fc1bbe28-b5d3-4b76-9441-540dc185ca64"
      },
      "execution_count": 503,
      "outputs": [
        {
          "output_type": "stream",
          "name": "stdout",
          "text": [
            "Costo en parametros : 88.882452 \n"
          ]
        }
      ]
    },
    {
      "cell_type": "code",
      "source": [
        "print('Inicialización de parámetros de redes neuronales...')\n",
        "\n",
        "initial_Theta1 = randInitializeWeights(input_layer_size, hidden_layer_size)\n",
        "initial_Theta2 = randInitializeWeights(hidden_layer_size, num_labels)\n",
        "\n",
        "# Desenrrollr parametros\n",
        "initial_nn_params = np.concatenate([initial_Theta1.ravel(), initial_Theta2.ravel()], axis=0)"
      ],
      "metadata": {
        "colab": {
          "base_uri": "https://localhost:8080/"
        },
        "id": "YZkvw2341GUX",
        "outputId": "453657a5-0531-4434-bdba-78f13cd91c48"
      },
      "execution_count": 504,
      "outputs": [
        {
          "output_type": "stream",
          "name": "stdout",
          "text": [
            "Inicialización de parámetros de redes neuronales...\n"
          ]
        }
      ]
    },
    {
      "cell_type": "code",
      "source": [
        "pred = predict(Theta1, Theta2, X_train)\n",
        "print(pred)\n",
        "print('Precisión de entrenamiento: %f' % (np.mean(pred == Y_train) * 100))\n",
        "\n",
        "pred = predict(Theta1, Theta2, X_test)\n",
        "print(pred)\n",
        "print('Precisión de prueba: %f' % (np.mean(pred == Y_test) * 100))\n"
      ],
      "metadata": {
        "colab": {
          "base_uri": "https://localhost:8080/"
        },
        "id": "NZTV7xSO1HW9",
        "outputId": "ce5a67cc-289b-4137-9793-9a912748b18a"
      },
      "execution_count": 505,
      "outputs": [
        {
          "output_type": "stream",
          "name": "stdout",
          "text": [
            "[3 3 3 ... 3 3 3]\n",
            "Precisión de entrenamiento: 10.218397\n",
            "[3 3 3 ... 3 3 3]\n",
            "Precisión de prueba: 10.393824\n"
          ]
        }
      ]
    },
    {
      "cell_type": "markdown",
      "source": [
        "# **Prueba 4 cambiando los hiperparametros**"
      ],
      "metadata": {
        "id": "ARDdAzvs2AXG"
      }
    },
    {
      "cell_type": "code",
      "source": [
        "# Configurando parametros necesario\n",
        "input_layer_size  = 52\n",
        "hidden_layer_size = 62\n",
        "num_labels = 10\n",
        "\n",
        "pesos = {}\n",
        "pesos['Theta1'] = np.random.rand(hidden_layer_size, 53)\n",
        "pesos['Theta2'] = np.random.rand(num_labels, hidden_layer_size + 1)\n",
        "\n",
        "Theta1, Theta2 = pesos['Theta1'], pesos['Theta2']\n",
        "# Desenrollar parámetros\n",
        "print(Theta1.ravel().shape)\n",
        "print(Theta2.ravel().shape)\n",
        "\n",
        "nn_params = np.concatenate([Theta1.ravel(), Theta2.ravel()])\n",
        "print(nn_params.shape)"
      ],
      "metadata": {
        "colab": {
          "base_uri": "https://localhost:8080/"
        },
        "id": "6WxeDESq2DjJ",
        "outputId": "047276dc-4157-4908-8370-62c782f9aa82"
      },
      "execution_count": 506,
      "outputs": [
        {
          "output_type": "stream",
          "name": "stdout",
          "text": [
            "(3286,)\n",
            "(630,)\n",
            "(3916,)\n"
          ]
        }
      ]
    },
    {
      "cell_type": "code",
      "source": [
        "lambda_ = 0.2\n",
        "J, _ = nnCostFunction(nn_params, input_layer_size, hidden_layer_size, num_labels, X_train, Y_train, lambda_)\n",
        "print('Costo en parametros : %.6f ' % J)"
      ],
      "metadata": {
        "colab": {
          "base_uri": "https://localhost:8080/"
        },
        "id": "g340rFZN2Ewy",
        "outputId": "727162a5-05ec-4008-c153-16895d7d200f"
      },
      "execution_count": 507,
      "outputs": [
        {
          "output_type": "stream",
          "name": "stdout",
          "text": [
            "Costo en parametros : 273.704625 \n"
          ]
        }
      ]
    },
    {
      "cell_type": "code",
      "source": [
        "print('Inicialización de parámetros de redes neuronales...')\n",
        "\n",
        "initial_Theta1 = randInitializeWeights(input_layer_size, hidden_layer_size)\n",
        "initial_Theta2 = randInitializeWeights(hidden_layer_size, num_labels)\n",
        "\n",
        "# Desenrrollr parametros\n",
        "initial_nn_params = np.concatenate([initial_Theta1.ravel(), initial_Theta2.ravel()], axis=0)"
      ],
      "metadata": {
        "colab": {
          "base_uri": "https://localhost:8080/"
        },
        "id": "0OriwKm_2M3u",
        "outputId": "c7cc94b9-d2dd-44bc-9e05-c31f192c3f50"
      },
      "execution_count": 508,
      "outputs": [
        {
          "output_type": "stream",
          "name": "stdout",
          "text": [
            "Inicialización de parámetros de redes neuronales...\n"
          ]
        }
      ]
    },
    {
      "cell_type": "code",
      "source": [
        "pred = predict(Theta1, Theta2, X_train)\n",
        "print(pred)\n",
        "print('Precisión de entrenamiento: %f' % (np.mean(pred == Y_train) * 100))\n",
        "\n",
        "pred = predict(Theta1, Theta2, X_test)\n",
        "print(pred)\n",
        "print('Precisión de prueba: %f' % (np.mean(pred == Y_test) * 100))\n"
      ],
      "metadata": {
        "colab": {
          "base_uri": "https://localhost:8080/"
        },
        "id": "9_HPtxAO2OVK",
        "outputId": "4abae2a6-d685-49c2-f9b2-12e59bcb6d09"
      },
      "execution_count": 509,
      "outputs": [
        {
          "output_type": "stream",
          "name": "stdout",
          "text": [
            "[7 7 7 ... 7 7 7]\n",
            "Precisión de entrenamiento: 6.014930\n",
            "[7 7 7 ... 7 7 7]\n",
            "Precisión de prueba: 6.221274\n"
          ]
        }
      ]
    },
    {
      "cell_type": "markdown",
      "source": [
        "# **Resultado de las 4 pruebas**\n",
        "## **Prueba 1 con los hiperparametros**\n",
        "\n",
        "Capas ocultas = 50 lambda = 0\n",
        "\n",
        "[5 5 5 ... 5 5 5]\n",
        "**Precisión de entrenamiento: 6.186163**\n",
        "\n",
        "[5 5 5 ... 5 5 5]\n",
        "**Precisión de prueba: 6.314398**\n",
        "\n",
        "## **Prueba 2 con los hiperparametros**\n",
        "\n",
        "Capas ocultas = 42 lambda = 0.002\n",
        "\n",
        "[2 2 2 ... 2 2 2]\n",
        "**Precisión de entrenamiento: 14.077896**\n",
        "\n",
        "[2 2 2 ... 2 2 2]\n",
        "**Precisión de prueba: 13.566043**\n",
        "\n",
        "## **Prueba 3 con los hiperparametros**\n",
        "\n",
        "Capas ocultas = 18 lambda = 0.01\n",
        "\n",
        "[3 3 3 ... 3 3 3]\n",
        "**Precisión de entrenamiento: 10.218397**\n",
        "\n",
        "[3 3 3 ... 3 3 3]\n",
        "**Precisión de prueba: 10.393824**\n",
        "\n",
        "## **Prueba 4 con los hiperparametros**\n",
        "\n",
        "Capas ocultas = 62 lambda = 0.2\n",
        "\n",
        "[7 7 7 ... 7 7 7]\n",
        "**Precisión de entrenamiento: 6.014930**\n",
        "\n",
        "[7 7 7 ... 7 7 7]\n",
        "**Precisión de prueba: 6.221274**\n",
        "\n",
        "La precisión varia con cada cambio, siendo similar pero bajo entre 50 a 62 capas, al tener 42 conseguimos una mejor precisión, pero al bajar demasiado las capas tenemos una disminución de precisión a 10%\n",
        "Se observa que aumentar el número de capas ocultas o el valor de lambda no necesariamente mejora la precisión"
      ],
      "metadata": {
        "id": "DhIUdVca4Ab-"
      }
    }
  ]
}