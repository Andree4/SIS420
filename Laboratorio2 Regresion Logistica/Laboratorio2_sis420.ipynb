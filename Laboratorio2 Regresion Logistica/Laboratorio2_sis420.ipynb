{
  "nbformat": 4,
  "nbformat_minor": 0,
  "metadata": {
    "colab": {
      "provenance": []
    },
    "kernelspec": {
      "name": "python3",
      "display_name": "Python 3"
    },
    "language_info": {
      "name": "python"
    }
  },
  "cells": [
    {
      "cell_type": "markdown",
      "source": [
        "Laboratorio 2 SIS420\n",
        "\n",
        "Regresión Logística con Clasificación Binaria\n",
        "El objetivo de esta regresiónn es predecir una de dos categorías posibles.\n",
        "Haremos uso de la regresion logistica para predecir si una persona sufrira una muerte por ataque al corazon usando sus datos medicos para la predicción\n",
        "\n",
        "Usaremos el dataset Hear_Disease_Healt que cumple con los campos solicitados\n",
        "\n",
        "11 propiedades (n>10) y por lo menos 20000 ejemplos (m>=20000)"
      ],
      "metadata": {
        "id": "VQjuN27hlmEc"
      }
    },
    {
      "cell_type": "markdown",
      "source": [
        "Comenzamos importando drive para hacer uso del dataset"
      ],
      "metadata": {
        "id": "JEMlisFmmDed"
      }
    },
    {
      "cell_type": "code",
      "execution_count": 5,
      "metadata": {
        "colab": {
          "base_uri": "https://localhost:8080/"
        },
        "id": "jxAXtHLTlK3Q",
        "outputId": "9471c35b-87a7-47e7-de34-99abb60a8e5e"
      },
      "outputs": [
        {
          "output_type": "stream",
          "name": "stdout",
          "text": [
            "Mounted at /content/drive\n"
          ]
        }
      ],
      "source": [
        "from google.colab import drive\n",
        "drive.mount('/content/drive')"
      ]
    },
    {
      "cell_type": "markdown",
      "source": [
        "Importaremos la libreria panda en la que usaremos el dataset para revisar si el dataset es funcional para la regresión"
      ],
      "metadata": {
        "id": "W1Ds6PfhmHp4"
      }
    },
    {
      "cell_type": "code",
      "source": [
        "import pandas as pd\n",
        "import sklearn as skl\n",
        "\n",
        "url = \"/content/drive/MyDrive/SIS420/Lab2/heart_disease_health_indicators.csv\"\n",
        "dataframe = pd.read_csv(url)\n",
        "print(dataframe)"
      ],
      "metadata": {
        "colab": {
          "base_uri": "https://localhost:8080/"
        },
        "id": "qJwlorj3lMZg",
        "outputId": "cde4ccd0-82d5-4f01-9f56-87118193c7d3"
      },
      "execution_count": 210,
      "outputs": [
        {
          "output_type": "stream",
          "name": "stdout",
          "text": [
            "        HeartDiseaseorAttack  HighBP  HighChol  CholCheck  BMI  Smoker  \\\n",
            "0                          0       1         1          1   40       1   \n",
            "1                          0       0         0          0   25       1   \n",
            "2                          0       1         1          1   28       0   \n",
            "3                          0       1         0          1   27       0   \n",
            "4                          0       1         1          1   24       0   \n",
            "...                      ...     ...       ...        ...  ...     ...   \n",
            "253656                     0       0         0          1   25       0   \n",
            "253657                     0       0         1          1   24       0   \n",
            "253658                     0       0         0          0   27       0   \n",
            "253659                     0       0         1          1   37       0   \n",
            "253660                     0       0         1          1   34       1   \n",
            "\n",
            "        Stroke  Diabetes  PhysActivity  Fruits  ...  AnyHealthcare  \\\n",
            "0            0         0             0       0  ...              1   \n",
            "1            0         0             1       0  ...              0   \n",
            "2            0         0             0       1  ...              1   \n",
            "3            0         0             1       1  ...              1   \n",
            "4            0         0             1       1  ...              1   \n",
            "...        ...       ...           ...     ...  ...            ...   \n",
            "253656       0         0             1       1  ...              1   \n",
            "253657       0         0             0       0  ...              1   \n",
            "253658       0         0             1       0  ...              1   \n",
            "253659       0         2             0       0  ...              1   \n",
            "253660       0         0             0       1  ...              1   \n",
            "\n",
            "        NoDocbcCost  GenHlth  MentHlth  PhysHlth  DiffWalk  Sex  Age  \\\n",
            "0                 0        5        18        15         1    0    9   \n",
            "1                 1        3         0         0         0    0    7   \n",
            "2                 1        5        30        30         1    0    9   \n",
            "3                 0        2         0         0         0    0   11   \n",
            "4                 0        2         3         0         0    0   11   \n",
            "...             ...      ...       ...       ...       ...  ...  ...   \n",
            "253656            0        1         0         0         0    0    4   \n",
            "253657            0        3         0         0         0    0    7   \n",
            "253658            1        2         0         0         0    0    3   \n",
            "253659            0        4         0         0         0    0    6   \n",
            "253660            0        3         0         2         1    0    7   \n",
            "\n",
            "        Education  Income  \n",
            "0               4       3  \n",
            "1               6       1  \n",
            "2               4       8  \n",
            "3               3       6  \n",
            "4               5       4  \n",
            "...           ...     ...  \n",
            "253656          6       8  \n",
            "253657          5       3  \n",
            "253658          6       5  \n",
            "253659          4       1  \n",
            "253660          4       3  \n",
            "\n",
            "[253661 rows x 22 columns]\n"
          ]
        }
      ]
    },
    {
      "cell_type": "code",
      "source": [
        "print(dataframe.describe())"
      ],
      "metadata": {
        "colab": {
          "base_uri": "https://localhost:8080/"
        },
        "id": "C-ZOVFJ1mJKm",
        "outputId": "4ff587b0-c249-456f-fd2e-b8652ca54a4f"
      },
      "execution_count": 211,
      "outputs": [
        {
          "output_type": "stream",
          "name": "stdout",
          "text": [
            "       HeartDiseaseorAttack         HighBP       HighChol      CholCheck  \\\n",
            "count         253661.000000  253661.000000  253661.000000  253661.000000   \n",
            "mean               0.094173       0.428990       0.424113       0.962667   \n",
            "std                0.292070       0.494933       0.494209       0.189578   \n",
            "min                0.000000       0.000000       0.000000       0.000000   \n",
            "25%                0.000000       0.000000       0.000000       1.000000   \n",
            "50%                0.000000       0.000000       0.000000       1.000000   \n",
            "75%                0.000000       1.000000       1.000000       1.000000   \n",
            "max                1.000000       1.000000       1.000000       1.000000   \n",
            "\n",
            "                 BMI         Smoker         Stroke       Diabetes  \\\n",
            "count  253661.000000  253661.000000  253661.000000  253661.000000   \n",
            "mean       28.382475       0.443186       0.040570       0.296904   \n",
            "std         6.608638       0.496763       0.197292       0.698147   \n",
            "min        12.000000       0.000000       0.000000       0.000000   \n",
            "25%        24.000000       0.000000       0.000000       0.000000   \n",
            "50%        27.000000       0.000000       0.000000       0.000000   \n",
            "75%        31.000000       1.000000       0.000000       0.000000   \n",
            "max        98.000000       1.000000       1.000000       2.000000   \n",
            "\n",
            "        PhysActivity         Fruits  ...  AnyHealthcare    NoDocbcCost  \\\n",
            "count  253661.000000  253661.000000  ...  253661.000000  253661.000000   \n",
            "mean        0.756577       0.634264  ...       0.951049       0.084164   \n",
            "std         0.429149       0.481637  ...       0.215766       0.277633   \n",
            "min         0.000000       0.000000  ...       0.000000       0.000000   \n",
            "25%         1.000000       0.000000  ...       1.000000       0.000000   \n",
            "50%         1.000000       1.000000  ...       1.000000       0.000000   \n",
            "75%         1.000000       1.000000  ...       1.000000       0.000000   \n",
            "max         1.000000       1.000000  ...       1.000000       1.000000   \n",
            "\n",
            "             GenHlth       MentHlth       PhysHlth       DiffWalk  \\\n",
            "count  253661.000000  253661.000000  253661.000000  253661.000000   \n",
            "mean        2.511379       3.184778       4.242028       0.168221   \n",
            "std         1.068472       7.412822       8.717905       0.374063   \n",
            "min         1.000000       0.000000       0.000000       0.000000   \n",
            "25%         2.000000       0.000000       0.000000       0.000000   \n",
            "50%         2.000000       0.000000       0.000000       0.000000   \n",
            "75%         3.000000       2.000000       3.000000       0.000000   \n",
            "max         5.000000      30.000000      30.000000       1.000000   \n",
            "\n",
            "                 Sex            Age      Education         Income  \n",
            "count  253661.000000  253661.000000  253661.000000  253661.000000  \n",
            "mean        0.440348       8.032197       5.050461       6.054052  \n",
            "std         0.496430       3.054203       0.985718       2.071036  \n",
            "min         0.000000       1.000000       1.000000       1.000000  \n",
            "25%         0.000000       6.000000       4.000000       5.000000  \n",
            "50%         0.000000       8.000000       5.000000       7.000000  \n",
            "75%         1.000000      10.000000       6.000000       8.000000  \n",
            "max         1.000000      13.000000       6.000000       8.000000  \n",
            "\n",
            "[8 rows x 22 columns]\n"
          ]
        }
      ]
    },
    {
      "cell_type": "markdown",
      "source": [
        "En el caso de mi dataset no se encontró ningun valor nulo y no hay datos tipo string que debamos modificar, por lo que el dataset ya esta listo para usar"
      ],
      "metadata": {
        "id": "e2991cyOmYUM"
      }
    },
    {
      "cell_type": "markdown",
      "source": [
        "**Importo las librerias necesarias**\n"
      ],
      "metadata": {
        "id": "J_dwISZ4rwrB"
      }
    },
    {
      "cell_type": "code",
      "source": [
        "import os\n",
        "import random\n",
        "import numpy as np\n",
        "from matplotlib import pyplot\n",
        "from scipy import optimize\n",
        "%matplotlib inline\n",
        "from sklearn.preprocessing import StandardScaler\n",
        "from sklearn.model_selection import train_test_split\n",
        "from sklearn.metrics import accuracy_score\n",
        "import matplotlib.pyplot as plt"
      ],
      "metadata": {
        "id": "4VRwQJ4Ur03g"
      },
      "execution_count": 212,
      "outputs": []
    },
    {
      "cell_type": "markdown",
      "source": [
        "Cargo el dataset separandolo en 2 partes\n",
        "\n",
        "80% Para el entrenamiento\n",
        "\n",
        "20% Para el test"
      ],
      "metadata": {
        "id": "wNFmDS8Br_or"
      }
    },
    {
      "cell_type": "code",
      "source": [
        "data = np.loadtxt('/content/drive/MyDrive/SIS420/Lab2/heart_disease_health_indicators(modificado).csv', delimiter=',')\n",
        "X_train, y_train = data[:202930 , 0:21], data[:202930 , 21]\n",
        "X_test, y_test = data[50731:, 0:21], data[50731:, 21]\n",
        "X = X_train\n",
        "y = y_train\n",
        "print(X)\n",
        "print(y)"
      ],
      "metadata": {
        "colab": {
          "base_uri": "https://localhost:8080/"
        },
        "id": "lN5q-6gIsJoF",
        "outputId": "2d660bfc-02c6-4222-e193-3b2474682f13"
      },
      "execution_count": 230,
      "outputs": [
        {
          "output_type": "stream",
          "name": "stdout",
          "text": [
            "[[ 1.  1.  1. ...  9.  4.  3.]\n",
            " [ 0.  0.  0. ...  7.  6.  1.]\n",
            " [ 1.  1.  1. ...  9.  4.  8.]\n",
            " ...\n",
            " [ 1.  1.  1. ... 13.  3.  5.]\n",
            " [ 0.  0.  1. ...  3.  6.  8.]\n",
            " [ 1.  1.  1. ... 10.  6.  7.]]\n",
            "[0. 0. 0. ... 1. 0. 0.]\n"
          ]
        }
      ]
    },
    {
      "cell_type": "markdown",
      "source": [
        "**FUNCION SIGMOIDEA**\n",
        "\n",
        "\n",
        "La función sigmoide transforma números reales en un rango de 0 a 1, usada para modelar probabilidades en clasificación binaria."
      ],
      "metadata": {
        "id": "w09AlDgtsQrb"
      }
    },
    {
      "cell_type": "code",
      "source": [
        "def sigmoid(z):\n",
        "    z = np.array(z)\n",
        "\n",
        "    g = np.zeros(z.shape)\n",
        "\n",
        "    g = 1 / (1 + np.exp(-z))\n",
        "\n",
        "    return g"
      ],
      "metadata": {
        "id": "_xPaePSPspNt"
      },
      "execution_count": 231,
      "outputs": []
    },
    {
      "cell_type": "code",
      "source": [
        "z = [0, 0.5, 1]\n",
        "g = sigmoid(z)\n",
        "\n",
        "print('g(', z, ') = ', g)"
      ],
      "metadata": {
        "colab": {
          "base_uri": "https://localhost:8080/"
        },
        "id": "hafbQMbpsct6",
        "outputId": "eecf946c-1738-478e-8f0d-faf7ebc1d14f"
      },
      "execution_count": 232,
      "outputs": [
        {
          "output_type": "stream",
          "name": "stdout",
          "text": [
            "g( [0, 0.5, 1] ) =  [0.5        0.62245933 0.73105858]\n"
          ]
        }
      ]
    },
    {
      "cell_type": "code",
      "source": [
        "X_train, X_test, Y_train, Y_test = train_test_split(X, y, test_size=0.2, random_state=50)\n",
        "# Normalizar características solo en los conjuntos de entrenamiento y prueba\n",
        "scaler = StandardScaler()\n",
        "X_train_scaled = scaler.fit_transform(X_train)\n",
        "X_test_scaled = scaler.transform(X_test)"
      ],
      "metadata": {
        "id": "i3cN6ajItizL"
      },
      "execution_count": 233,
      "outputs": []
    },
    {
      "cell_type": "markdown",
      "source": [
        "**Funcion de Costo y Gradiente**"
      ],
      "metadata": {
        "id": "Mw8m6YUMtLNQ"
      }
    },
    {
      "cell_type": "code",
      "source": [
        "\n",
        "m, n = X.shape\n",
        "X = np.concatenate([np.ones((m, 1)), X], axis=1)\n"
      ],
      "metadata": {
        "id": "UsBl3n-etN53"
      },
      "execution_count": 234,
      "outputs": []
    },
    {
      "cell_type": "code",
      "source": [
        "def calcularCosto(theta, X, y):\n",
        "    m = y.size\n",
        "    J = 0\n",
        "    h = sigmoid(X.dot(theta.T))\n",
        "    J = (1 / m) * np.sum(-y.dot(np.log(h)) - (1 - y).dot(np.log(1 - h)))\n",
        "\n",
        "    return J"
      ],
      "metadata": {
        "id": "ZlQyl9VDuTa9"
      },
      "execution_count": 235,
      "outputs": []
    },
    {
      "cell_type": "code",
      "source": [
        "def descensoGradiente(theta, X, y, alpha, num_iters):\n",
        "    m = y.shape[0]\n",
        "    theta = theta.copy()\n",
        "    J_history = []\n",
        "    for i in range(num_iters):\n",
        "        h = sigmoid(X.dot(theta.T))\n",
        "        theta = theta - (alpha / m) * (h - y).dot(X)\n",
        "\n",
        "        J_history.append(calcularCosto(theta, X, y))\n",
        "    return theta, J_history"
      ],
      "metadata": {
        "id": "SE8BlSwhuV9L"
      },
      "execution_count": 236,
      "outputs": []
    },
    {
      "cell_type": "markdown",
      "source": [
        "Calculamos el descenso por el gradiente"
      ],
      "metadata": {
        "id": "mGVFXst9BQdU"
      }
    },
    {
      "cell_type": "code",
      "source": [
        "alpha = 0.001\n",
        "num_iters = 100\n",
        "\n",
        "theta = np.zeros(22)\n",
        "theta, J_history = descensoGradiente(theta, X, y, alpha, num_iters)\n",
        "\n",
        "pyplot.plot(np.arange(len(J_history)), J_history, lw=2)\n",
        "pyplot.xlabel('Numero de iteraciones')\n",
        "pyplot.ylabel('Costo J')\n",
        "\n",
        "print('theta calculado por el descenso por el gradiente: {:s}'.format(str(theta)))"
      ],
      "metadata": {
        "colab": {
          "base_uri": "https://localhost:8080/",
          "height": 559
        },
        "id": "pT7grrmFudTE",
        "outputId": "ed987e26-fc55-458d-dd79-da9a41f10b30"
      },
      "execution_count": 237,
      "outputs": [
        {
          "output_type": "stream",
          "name": "stdout",
          "text": [
            "theta calculado por el descenso por el gradiente: [-3.52908061e-03  1.86134870e-03  1.29845845e-03 -3.13230677e-03\n",
            " -6.87408968e-02  3.94419121e-05  1.00862974e-03  3.09114269e-03\n",
            " -3.86253536e-03 -2.62923150e-03 -3.32237821e-03 -4.12670824e-04\n",
            " -3.22499118e-03 -6.87815160e-05 -5.25081035e-04  1.29013560e-03\n",
            "  2.53690884e-02  1.76697895e-03 -9.81375399e-05 -8.35203752e-03\n",
            " -2.06507750e-02 -2.92175615e-02]\n"
          ]
        },
        {
          "output_type": "display_data",
          "data": {
            "text/plain": [
              "<Figure size 640x480 with 1 Axes>"
            ],
            "image/png": "[encoded data removed]"
          },
          "metadata": {}
        }
      ]
    },
    {
      "cell_type": "code",
      "source": [
        "def costFunction(theta, X, y):\n",
        "    m = y.size\n",
        "    J = 0\n",
        "    grad = np.zeros(theta.shape)\n",
        "    h = sigmoid(X.dot(theta.T))\n",
        "    J = (1 / m) * np.sum(-y.dot(np.log(h)) - (1 - y).dot(np.log(1 - h )))\n",
        "    grad = (1 / m) * (h - y).dot(X)\n",
        "    return J, grad"
      ],
      "metadata": {
        "id": "r0cm86PRvaDO"
      },
      "execution_count": 238,
      "outputs": []
    },
    {
      "cell_type": "code",
      "source": [
        "initial_theta = np.zeros(n+1)\n",
        "cost, grad = costFunction(initial_theta, X, y)\n",
        "\n",
        "print('Costo en theta inicial (zeros): {:.3f}'.format(cost))\n",
        "print('Costo esperado (aproximado): 0.693\\n')\n",
        "print(grad)\n",
        "print('Gradiente en theta inicial (zeros):')\n",
        "print('\\t[{:.4f}, {:.4f}, {:.4f}]'.format(*grad))\n",
        "print('Gradiente esperado (aproximado):\\n\\t[-0.1000, -12.0092, -11.2628]\\n')"
      ],
      "metadata": {
        "colab": {
          "base_uri": "https://localhost:8080/"
        },
        "id": "7Y-P2VJXvh4V",
        "outputId": "b3082536-ee19-4d84-c32b-a225e840deb6"
      },
      "execution_count": 246,
      "outputs": [
        {
          "output_type": "stream",
          "name": "stdout",
          "text": [
            "Costo en theta inicial (zeros): 0.693\n",
            "Costo esperado (aproximado): 0.693\n",
            "\n",
            "[4.05391022e-01 1.44054600e-01 1.46148918e-01 3.88062386e-01\n",
            " 1.14121027e+01 1.65931602e-01 4.79475681e-03 8.31271867e-02\n",
            " 3.17597201e-01 2.60789435e-01 3.32247573e-01 2.46267186e-02\n",
            " 3.84891342e-01 3.10353324e-02 9.34292613e-01 1.15432169e+00\n",
            " 1.24924851e+00 4.50303060e-02 1.65337801e-01 3.07388508e+00\n",
            " 2.07876361e+00 2.54992362e+00]\n",
            "Gradiente en theta inicial (zeros):\n",
            "\t[0.4054, 0.1441, 0.1461]\n",
            "Gradiente esperado (aproximado):\n",
            "\t[-0.1000, -12.0092, -11.2628]\n",
            "\n"
          ]
        }
      ]
    },
    {
      "cell_type": "markdown",
      "source": [
        "Calculamos la precision del entrenamiento"
      ],
      "metadata": {
        "id": "f2K0UeFn-aDe"
      }
    },
    {
      "cell_type": "code",
      "source": [
        "def predict(theta, X):\n",
        "    m = X.shape[0]\n",
        "    p = np.zeros(m)\n",
        "    p = np.round(sigmoid(X.dot(theta.T)))\n",
        "    return p\n"
      ],
      "metadata": {
        "id": "Dz3TZsnVwtdj"
      },
      "execution_count": 247,
      "outputs": []
    },
    {
      "cell_type": "code",
      "source": [
        "p = predict(theta, X)\n",
        "print('Precisión de entrenamiento: {:.2f} %'.format(np.mean(p == y) * 100))"
      ],
      "metadata": {
        "colab": {
          "base_uri": "https://localhost:8080/"
        },
        "id": "XPCom9cBwvy6",
        "outputId": "bd41c510-51f2-4df2-8d0b-eaa3f64099f6"
      },
      "execution_count": 248,
      "outputs": [
        {
          "output_type": "stream",
          "name": "stdout",
          "text": [
            "Precisión de entrenamiento: 90.54 %\n"
          ]
        }
      ]
    },
    {
      "cell_type": "markdown",
      "source": [
        "Concatenamos una fila de unos al X_test"
      ],
      "metadata": {
        "id": "VS2MiJpY-_57"
      }
    },
    {
      "cell_type": "code",
      "source": [
        "m, n = X_test.shape\n",
        "X_test = np.concatenate([np.ones((m, 1)), X_test], axis=1)"
      ],
      "metadata": {
        "id": "7O39H-K10MLe"
      },
      "execution_count": 242,
      "outputs": []
    },
    {
      "cell_type": "markdown",
      "source": [
        "Calculamos la precision del test"
      ],
      "metadata": {
        "id": "VNy0Clyz-lRI"
      }
    },
    {
      "cell_type": "code",
      "source": [
        "p = predict(theta, X_test)\n",
        "y_test = y_test[:40586]\n",
        "print('Precisión del test: {:.2f} %'.format(np.mean(p == y_test) * 100))"
      ],
      "metadata": {
        "colab": {
          "base_uri": "https://localhost:8080/"
        },
        "id": "fivWryBE58v-",
        "outputId": "48d9b45e-1e0a-4a4f-ce13-e2739c79b13a"
      },
      "execution_count": 249,
      "outputs": [
        {
          "output_type": "stream",
          "name": "stdout",
          "text": [
            "Precisión del test: 90.07 %\n"
          ]
        }
      ]
    },
    {
      "cell_type": "markdown",
      "source": [
        "Hacemos las 100 predicciones solicitadas"
      ],
      "metadata": {
        "id": "eGYU5DW__Y1j"
      }
    },
    {
      "cell_type": "code",
      "source": [
        "for i in range(1,101):\n",
        "  prob = sigmoid(np.dot([random.uniform(0,1) for _ in range(22)], theta))\n",
        "  print(i,'Predicciones de muerte por ataque al corazon: {:.3f}%'.format(prob))\n"
      ],
      "metadata": {
        "colab": {
          "base_uri": "https://localhost:8080/"
        },
        "id": "VDuzmcsJ_Jet",
        "outputId": "af977465-2815-476d-cc03-f66acb4caa51"
      },
      "execution_count": 260,
      "outputs": [
        {
          "output_type": "stream",
          "name": "stdout",
          "text": [
            "1 Predicciones de muerte por ataque al corazon: 0.491%\n",
            "2 Predicciones de muerte por ataque al corazon: 0.491%\n",
            "3 Predicciones de muerte por ataque al corazon: 0.494%\n",
            "4 Predicciones de muerte por ataque al corazon: 0.478%\n",
            "5 Predicciones de muerte por ataque al corazon: 0.496%\n",
            "6 Predicciones de muerte por ataque al corazon: 0.483%\n",
            "7 Predicciones de muerte por ataque al corazon: 0.483%\n",
            "8 Predicciones de muerte por ataque al corazon: 0.489%\n",
            "9 Predicciones de muerte por ataque al corazon: 0.492%\n",
            "10 Predicciones de muerte por ataque al corazon: 0.476%\n",
            "11 Predicciones de muerte por ataque al corazon: 0.497%\n",
            "12 Predicciones de muerte por ataque al corazon: 0.487%\n",
            "13 Predicciones de muerte por ataque al corazon: 0.470%\n",
            "14 Predicciones de muerte por ataque al corazon: 0.488%\n",
            "15 Predicciones de muerte por ataque al corazon: 0.481%\n",
            "16 Predicciones de muerte por ataque al corazon: 0.482%\n",
            "17 Predicciones de muerte por ataque al corazon: 0.497%\n",
            "18 Predicciones de muerte por ataque al corazon: 0.482%\n",
            "19 Predicciones de muerte por ataque al corazon: 0.482%\n",
            "20 Predicciones de muerte por ataque al corazon: 0.480%\n",
            "21 Predicciones de muerte por ataque al corazon: 0.481%\n",
            "22 Predicciones de muerte por ataque al corazon: 0.476%\n",
            "23 Predicciones de muerte por ataque al corazon: 0.479%\n",
            "24 Predicciones de muerte por ataque al corazon: 0.484%\n",
            "25 Predicciones de muerte por ataque al corazon: 0.493%\n",
            "26 Predicciones de muerte por ataque al corazon: 0.487%\n",
            "27 Predicciones de muerte por ataque al corazon: 0.493%\n",
            "28 Predicciones de muerte por ataque al corazon: 0.475%\n",
            "29 Predicciones de muerte por ataque al corazon: 0.493%\n",
            "30 Predicciones de muerte por ataque al corazon: 0.489%\n",
            "31 Predicciones de muerte por ataque al corazon: 0.490%\n",
            "32 Predicciones de muerte por ataque al corazon: 0.480%\n",
            "33 Predicciones de muerte por ataque al corazon: 0.482%\n",
            "34 Predicciones de muerte por ataque al corazon: 0.484%\n",
            "35 Predicciones de muerte por ataque al corazon: 0.476%\n",
            "36 Predicciones de muerte por ataque al corazon: 0.485%\n",
            "37 Predicciones de muerte por ataque al corazon: 0.474%\n",
            "38 Predicciones de muerte por ataque al corazon: 0.493%\n",
            "39 Predicciones de muerte por ataque al corazon: 0.484%\n",
            "40 Predicciones de muerte por ataque al corazon: 0.489%\n",
            "41 Predicciones de muerte por ataque al corazon: 0.495%\n",
            "42 Predicciones de muerte por ataque al corazon: 0.485%\n",
            "43 Predicciones de muerte por ataque al corazon: 0.494%\n",
            "44 Predicciones de muerte por ataque al corazon: 0.491%\n",
            "45 Predicciones de muerte por ataque al corazon: 0.490%\n",
            "46 Predicciones de muerte por ataque al corazon: 0.493%\n",
            "47 Predicciones de muerte por ataque al corazon: 0.477%\n",
            "48 Predicciones de muerte por ataque al corazon: 0.480%\n",
            "49 Predicciones de muerte por ataque al corazon: 0.485%\n",
            "50 Predicciones de muerte por ataque al corazon: 0.483%\n",
            "51 Predicciones de muerte por ataque al corazon: 0.487%\n",
            "52 Predicciones de muerte por ataque al corazon: 0.482%\n",
            "53 Predicciones de muerte por ataque al corazon: 0.476%\n",
            "54 Predicciones de muerte por ataque al corazon: 0.489%\n",
            "55 Predicciones de muerte por ataque al corazon: 0.488%\n",
            "56 Predicciones de muerte por ataque al corazon: 0.479%\n",
            "57 Predicciones de muerte por ataque al corazon: 0.479%\n",
            "58 Predicciones de muerte por ataque al corazon: 0.489%\n",
            "59 Predicciones de muerte por ataque al corazon: 0.480%\n",
            "60 Predicciones de muerte por ataque al corazon: 0.478%\n",
            "61 Predicciones de muerte por ataque al corazon: 0.498%\n",
            "62 Predicciones de muerte por ataque al corazon: 0.495%\n",
            "63 Predicciones de muerte por ataque al corazon: 0.481%\n",
            "64 Predicciones de muerte por ataque al corazon: 0.484%\n",
            "65 Predicciones de muerte por ataque al corazon: 0.477%\n",
            "66 Predicciones de muerte por ataque al corazon: 0.477%\n",
            "67 Predicciones de muerte por ataque al corazon: 0.482%\n",
            "68 Predicciones de muerte por ataque al corazon: 0.475%\n",
            "69 Predicciones de muerte por ataque al corazon: 0.483%\n",
            "70 Predicciones de muerte por ataque al corazon: 0.494%\n",
            "71 Predicciones de muerte por ataque al corazon: 0.481%\n",
            "72 Predicciones de muerte por ataque al corazon: 0.480%\n",
            "73 Predicciones de muerte por ataque al corazon: 0.485%\n",
            "74 Predicciones de muerte por ataque al corazon: 0.489%\n",
            "75 Predicciones de muerte por ataque al corazon: 0.490%\n",
            "76 Predicciones de muerte por ataque al corazon: 0.492%\n",
            "77 Predicciones de muerte por ataque al corazon: 0.493%\n",
            "78 Predicciones de muerte por ataque al corazon: 0.492%\n",
            "79 Predicciones de muerte por ataque al corazon: 0.478%\n",
            "80 Predicciones de muerte por ataque al corazon: 0.481%\n",
            "81 Predicciones de muerte por ataque al corazon: 0.494%\n",
            "82 Predicciones de muerte por ataque al corazon: 0.476%\n",
            "83 Predicciones de muerte por ataque al corazon: 0.479%\n",
            "84 Predicciones de muerte por ataque al corazon: 0.483%\n",
            "85 Predicciones de muerte por ataque al corazon: 0.486%\n",
            "86 Predicciones de muerte por ataque al corazon: 0.478%\n",
            "87 Predicciones de muerte por ataque al corazon: 0.489%\n",
            "88 Predicciones de muerte por ataque al corazon: 0.486%\n",
            "89 Predicciones de muerte por ataque al corazon: 0.492%\n",
            "90 Predicciones de muerte por ataque al corazon: 0.485%\n",
            "91 Predicciones de muerte por ataque al corazon: 0.491%\n",
            "92 Predicciones de muerte por ataque al corazon: 0.494%\n",
            "93 Predicciones de muerte por ataque al corazon: 0.482%\n",
            "94 Predicciones de muerte por ataque al corazon: 0.493%\n",
            "95 Predicciones de muerte por ataque al corazon: 0.492%\n",
            "96 Predicciones de muerte por ataque al corazon: 0.473%\n",
            "97 Predicciones de muerte por ataque al corazon: 0.484%\n",
            "98 Predicciones de muerte por ataque al corazon: 0.490%\n",
            "99 Predicciones de muerte por ataque al corazon: 0.483%\n",
            "100 Predicciones de muerte por ataque al corazon: 0.483%\n"
          ]
        }
      ]
    }
  ]
}