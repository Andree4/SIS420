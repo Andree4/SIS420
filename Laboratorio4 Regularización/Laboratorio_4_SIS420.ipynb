{
  "nbformat": 4,
  "nbformat_minor": 0,
  "metadata": {
    "colab": {
      "provenance": [],
      "collapsed_sections": [
        "vkDuvTYd9bZR"
      ]
    },
    "kernelspec": {
      "name": "python3",
      "display_name": "Python 3"
    },
    "language_info": {
      "name": "python"
    }
  },
  "cells": [
    {
      "cell_type": "markdown",
      "source": [
        "**Laboratorio 4**\n",
        "\n",
        "Arancibia Aguilar Daniel Andree - Ciencias de la computación\n",
        "\n",
        "En este laboratorio hare nuevamente las regresiones de los anteriores laboratorios pero agregaremos la regularización a cada uno y comparare los valores para ver de que manera funciona mejor\n",
        "\n",
        "Usaré 3 datasets para las regresiones\n",
        "\n",
        "Regresión lineal, polinomica y ecuación de la normal: https://www.kaggle.com/datasets/thedevastator/improving-naval-vessel-condition-through-machine/data\n",
        "\n",
        "Regresion de clasificación binaria: https://www.kaggle.com/datasets/bhaveshmisra/heart-disease-indicators\n",
        "\n",
        "Regresion de clasificación multiclase: https://www.kaggle.com/datasets/nishan192/letterrecognition-using-svm\n",
        "\n",
        "Revisare los datasets con PANDAS para comprobar si existen valores nulos en los datasets o si deben ser modificados"
      ],
      "metadata": {
        "id": "O3r1Ne7U7_HV"
      }
    },
    {
      "cell_type": "markdown",
      "source": [
        "Importo google drive para cargar los datasets"
      ],
      "metadata": {
        "id": "o-qjNt859oH7"
      }
    },
    {
      "cell_type": "code",
      "source": [
        "from google.colab import drive\n",
        "drive.mount('/content/drive')"
      ],
      "metadata": {
        "colab": {
          "base_uri": "https://localhost:8080/"
        },
        "id": "N2M0bNFs9lJ_",
        "outputId": "47d52f49-589d-49ca-e250-403ac815eec0"
      },
      "execution_count": null,
      "outputs": [
        {
          "output_type": "stream",
          "name": "stdout",
          "text": [
            "Mounted at /content/drive\n"
          ]
        }
      ]
    },
    {
      "cell_type": "markdown",
      "source": [
        "Librerias para el laboratorio"
      ],
      "metadata": {
        "id": "nC3VzN45-bOG"
      }
    },
    {
      "cell_type": "code",
      "source": [
        "import os\n",
        "import random\n",
        "import numpy as np\n",
        "import pandas as pd\n",
        "import sklearn as skl\n",
        "from scipy import optimize\n",
        "from sklearn.svm import SVC\n",
        "from matplotlib import pyplot\n",
        "from sklearn.model_selection import train_test_split\n",
        "from sklearn.preprocessing import StandardScaler\n",
        "from mpl_toolkits.mplot3d import Axes3D\n",
        "from sklearn.linear_model import LinearRegression\n",
        "from sklearn.preprocessing import PolynomialFeatures\n",
        "from sklearn.metrics import mean_squared_error\n",
        "%matplotlib inline"
      ],
      "metadata": {
        "id": "Qo6GT70A-d0m"
      },
      "execution_count": null,
      "outputs": []
    },
    {
      "cell_type": "markdown",
      "source": [
        "# **Dataset \"Maintenance Naval Vessel\"** regresion linear multivariable, polinomica y ecuacion de la normal\n",
        "\n",
        "Y = Gt Turbine Decay State Coefficient (TDSC)"
      ],
      "metadata": {
        "id": "YAwDaNGS9SH_"
      }
    },
    {
      "cell_type": "code",
      "source": [
        "url = \"/content/drive/MyDrive/SIS420/Lab4/Maintenance Naval Vessel.csv\"\n",
        "dataframe1 = pd.read_csv(url)\n",
        "print(dataframe1)"
      ],
      "metadata": {
        "colab": {
          "base_uri": "https://localhost:8080/"
        },
        "id": "uoPUNUHD9kR8",
        "outputId": "d891b1ba-100e-4a10-8cd1-60b567b2f1af"
      },
      "execution_count": null,
      "outputs": [
        {
          "output_type": "stream",
          "name": "stdout",
          "text": [
            "         index    LP    SS        GT      GTR      GGn     SPT     PPT  \\\n",
            "0          0.0  1.14   3.0    289.96  1349.49  6677.38    7.58    7.58   \n",
            "1          1.0  2.09   6.0   6960.18  1376.17  6828.47   28.20   28.20   \n",
            "2          2.0  3.14   9.0   8379.23  1386.76  7111.81   60.36   60.36   \n",
            "3          3.0  4.16  12.0  14724.40  1547.47  7792.63  113.77  113.77   \n",
            "4          4.0  5.14  15.0  21636.43  1924.31  8494.78  175.31  175.31   \n",
            "...        ...   ...   ...       ...      ...      ...     ...     ...   \n",
            "11929  11929.0  5.14  15.0  21624.93  1924.34  8470.01  175.24  175.24   \n",
            "11930  11930.0  6.18  18.0  29763.21  2306.75  8800.35  245.95  245.95   \n",
            "11931  11931.0  7.15  21.0  39003.87  2678.05  9120.89  332.39  332.39   \n",
            "11932  11932.0  8.21  24.0  50992.58  3087.43  9300.27  438.02  438.02   \n",
            "11933  11933.0  9.30  27.0  72775.13  3560.40  9742.95  644.88  644.88   \n",
            "\n",
            "            HP   CIAT    COAT  HTEP  CIAP   COAP  GTEGP    TIC    FF  CDSC  \\\n",
            "0       464.01  288.0  550.56  1.10   1.0   5.95   1.02   7.14  0.08  0.95   \n",
            "1       635.40  288.0  581.66  1.33   1.0   7.28   1.02  10.66  0.29  0.95   \n",
            "2       606.00  288.0  587.59  1.39   1.0   7.57   1.02  13.09  0.26  0.95   \n",
            "3       661.47  288.0  613.85  1.66   1.0   9.01   1.02  18.11  0.36  0.95   \n",
            "4       731.49  288.0  645.64  2.08   1.0  11.20   1.03  26.37  0.52  0.95   \n",
            "...        ...    ...     ...   ...   ...    ...    ...    ...   ...   ...   \n",
            "11929   681.66  288.0  628.95  2.09   1.0  10.99   1.03  23.80  0.47  1.00   \n",
            "11930   747.41  288.0  658.85  2.51   1.0  13.11   1.03  32.67  0.65  1.00   \n",
            "11931   796.46  288.0  680.39  2.98   1.0  15.42   1.04  42.10  0.83  1.00   \n",
            "11932   892.95  288.0  722.03  3.59   1.0  18.29   1.04  58.06  1.15  1.00   \n",
            "11933  1038.41  288.0  767.60  4.53   1.0  22.46   1.05  86.07  1.70  1.00   \n",
            "\n",
            "       TDSC  \n",
            "0      0.98  \n",
            "1      0.98  \n",
            "2      0.98  \n",
            "3      0.98  \n",
            "4      0.98  \n",
            "...     ...  \n",
            "11929  1.00  \n",
            "11930  1.00  \n",
            "11931  1.00  \n",
            "11932  1.00  \n",
            "11933  1.00  \n",
            "\n",
            "[11934 rows x 19 columns]\n"
          ]
        }
      ]
    },
    {
      "cell_type": "code",
      "source": [
        "print(dataframe1.describe())"
      ],
      "metadata": {
        "colab": {
          "base_uri": "https://localhost:8080/"
        },
        "id": "R_8zZXoz-i6K",
        "outputId": "f0df9378-ba6d-4f83-e5a8-be498f082d4d"
      },
      "execution_count": null,
      "outputs": [
        {
          "output_type": "stream",
          "name": "stdout",
          "text": [
            "              index            LP            SS            GT           GTR  \\\n",
            "count  11934.000000  11934.000000  11934.000000  11934.000000  11934.000000   \n",
            "mean    5966.500000      5.167778     15.000000  27247.499224   2136.289767   \n",
            "std     3445.193391      2.627068      7.746291  22148.613136    774.083898   \n",
            "min        0.000000      1.140000      3.000000    253.550000   1307.680000   \n",
            "25%     2983.250000      3.140000      9.000000   8375.882500   1386.760000   \n",
            "50%     5966.500000      5.140000     15.000000  21630.660000   1924.330000   \n",
            "75%     8949.750000      7.150000     21.000000  39001.430000   2678.080000   \n",
            "max    11933.000000      9.300000     27.000000  72784.870000   3560.740000   \n",
            "\n",
            "                GGn           SPT           PPT            HP     CIAT  \\\n",
            "count  11934.000000  11934.000000  11934.000000  11934.000000  11934.0   \n",
            "mean    8200.947797    227.336335    227.336335    735.495959    288.0   \n",
            "std     1091.315523    200.495883    200.495883    173.680511      0.0   \n",
            "min     6589.000000      5.300000      5.300000    442.360000    288.0   \n",
            "25%     7058.325000     60.320000     60.320000    589.872500    288.0   \n",
            "50%     8482.085000    175.270000    175.270000    706.040000    288.0   \n",
            "75%     9132.605000    332.367500    332.367500    834.065000    288.0   \n",
            "max     9797.100000    645.250000    645.250000   1115.800000    288.0   \n",
            "\n",
            "               COAT          HTEP     CIAP          COAP         GTEGP  \\\n",
            "count  11934.000000  11934.000000  11934.0  11934.000000  11934.000000   \n",
            "mean     646.215814      2.353415      1.0     12.297631      1.030000   \n",
            "std       72.675855      1.084821      0.0      5.337436      0.010541   \n",
            "min      540.440000      1.090000      1.0      5.830000      1.020000   \n",
            "25%      578.092500      1.390000      1.0      7.450000      1.020000   \n",
            "50%      637.140000      2.080000      1.0     11.090000      1.030000   \n",
            "75%      693.925000      2.980000      1.0     15.660000      1.040000   \n",
            "max      789.090000      4.560000      1.0     23.140000      1.050000   \n",
            "\n",
            "                TIC            FF          CDSC          TDSC  \n",
            "count  11934.000000  11934.000000  11934.000000  11934.000000  \n",
            "mean      33.641728      0.662931      0.975490      0.988462  \n",
            "std       25.841395      0.507158      0.015252      0.007693  \n",
            "min        0.000000      0.070000      0.950000      0.980000  \n",
            "25%       13.677500      0.250000      0.960000      0.980000  \n",
            "50%       25.280000      0.500000      0.980000      0.990000  \n",
            "75%       44.550000      0.880000      0.990000      0.990000  \n",
            "max       92.560000      1.830000      1.000000      1.000000  \n"
          ]
        }
      ]
    },
    {
      "cell_type": "markdown",
      "source": [
        "**No hay valores nulos en el dataset**"
      ],
      "metadata": {
        "id": "HPyvHr6RA1A5"
      }
    },
    {
      "cell_type": "markdown",
      "source": [
        "**Elimino la primera columna \"index\" ya que solo señala el numero de fila**"
      ],
      "metadata": {
        "id": "kF9mknv4DPwU"
      }
    },
    {
      "cell_type": "code",
      "source": [
        "dataframe1 = dataframe1.drop(\"index\", axis=1)\n",
        "print(dataframe1)"
      ],
      "metadata": {
        "colab": {
          "base_uri": "https://localhost:8080/"
        },
        "id": "MOOxMKaoCbNU",
        "outputId": "baf7e38c-85b3-4cfe-e37e-aa962b0d3d2b"
      },
      "execution_count": null,
      "outputs": [
        {
          "output_type": "stream",
          "name": "stdout",
          "text": [
            "         LP    SS        GT      GTR      GGn     SPT     PPT       HP   CIAT  \\\n",
            "0      1.14   3.0    289.96  1349.49  6677.38    7.58    7.58   464.01  288.0   \n",
            "1      2.09   6.0   6960.18  1376.17  6828.47   28.20   28.20   635.40  288.0   \n",
            "2      3.14   9.0   8379.23  1386.76  7111.81   60.36   60.36   606.00  288.0   \n",
            "3      4.16  12.0  14724.40  1547.47  7792.63  113.77  113.77   661.47  288.0   \n",
            "4      5.14  15.0  21636.43  1924.31  8494.78  175.31  175.31   731.49  288.0   \n",
            "...     ...   ...       ...      ...      ...     ...     ...      ...    ...   \n",
            "11929  5.14  15.0  21624.93  1924.34  8470.01  175.24  175.24   681.66  288.0   \n",
            "11930  6.18  18.0  29763.21  2306.75  8800.35  245.95  245.95   747.41  288.0   \n",
            "11931  7.15  21.0  39003.87  2678.05  9120.89  332.39  332.39   796.46  288.0   \n",
            "11932  8.21  24.0  50992.58  3087.43  9300.27  438.02  438.02   892.95  288.0   \n",
            "11933  9.30  27.0  72775.13  3560.40  9742.95  644.88  644.88  1038.41  288.0   \n",
            "\n",
            "         COAT  HTEP  CIAP   COAP  GTEGP    TIC    FF  CDSC  TDSC  \n",
            "0      550.56  1.10   1.0   5.95   1.02   7.14  0.08  0.95  0.98  \n",
            "1      581.66  1.33   1.0   7.28   1.02  10.66  0.29  0.95  0.98  \n",
            "2      587.59  1.39   1.0   7.57   1.02  13.09  0.26  0.95  0.98  \n",
            "3      613.85  1.66   1.0   9.01   1.02  18.11  0.36  0.95  0.98  \n",
            "4      645.64  2.08   1.0  11.20   1.03  26.37  0.52  0.95  0.98  \n",
            "...       ...   ...   ...    ...    ...    ...   ...   ...   ...  \n",
            "11929  628.95  2.09   1.0  10.99   1.03  23.80  0.47  1.00  1.00  \n",
            "11930  658.85  2.51   1.0  13.11   1.03  32.67  0.65  1.00  1.00  \n",
            "11931  680.39  2.98   1.0  15.42   1.04  42.10  0.83  1.00  1.00  \n",
            "11932  722.03  3.59   1.0  18.29   1.04  58.06  1.15  1.00  1.00  \n",
            "11933  767.60  4.53   1.0  22.46   1.05  86.07  1.70  1.00  1.00  \n",
            "\n",
            "[11934 rows x 18 columns]\n"
          ]
        }
      ]
    },
    {
      "cell_type": "code",
      "source": [
        "data1 = dataframe1.values\n",
        "X, y = data1[:, :17], data1[:, 17]\n",
        "m1 = y.size\n",
        "print(X.shape)\n",
        "print(y.shape)"
      ],
      "metadata": {
        "colab": {
          "base_uri": "https://localhost:8080/"
        },
        "id": "XSmBmYFECFyZ",
        "outputId": "bdcb53c5-6070-465f-c94a-c0c3da0270f3"
      },
      "execution_count": null,
      "outputs": [
        {
          "output_type": "stream",
          "name": "stdout",
          "text": [
            "(11934, 17)\n",
            "(11934,)\n"
          ]
        }
      ]
    },
    {
      "cell_type": "markdown",
      "source": [
        "# **Regresion Lineal multivariable**"
      ],
      "metadata": {
        "id": "J2wcFOmXtvqz"
      }
    },
    {
      "cell_type": "markdown",
      "source": [
        "**Normalizamos los datos agregando epsilon a sigma para veitar division entre 0**"
      ],
      "metadata": {
        "id": "AbQjXRY8pa3T"
      }
    },
    {
      "cell_type": "code",
      "source": [
        "def featureNormalize(X):\n",
        "    mu = np.mean(X, axis=0)\n",
        "    sigma = np.std(X, axis=0)\n",
        "    epsilon = 1e-8\n",
        "    sigma += epsilon\n",
        "    X_norm = (X - mu) / sigma\n",
        "    return X_norm, mu, sigma"
      ],
      "metadata": {
        "id": "Jht41pWeFNqT"
      },
      "execution_count": null,
      "outputs": []
    },
    {
      "cell_type": "code",
      "source": [
        "X_norm, mu, sigma = featureNormalize(X)\n",
        "\n",
        "print(X)\n",
        "print('Media calculada:', mu)\n",
        "print('Desviación estandar calculada:', sigma)\n",
        "print(X_norm)"
      ],
      "metadata": {
        "colab": {
          "base_uri": "https://localhost:8080/"
        },
        "id": "Fkh39rZkHhHn",
        "outputId": "1a3a2b35-ba21-43d2-8dce-ab4118555cfa"
      },
      "execution_count": null,
      "outputs": [
        {
          "output_type": "stream",
          "name": "stdout",
          "text": [
            "[[1.140000e+00 3.000000e+00 2.899600e+02 ... 7.140000e+00 8.000000e-02\n",
            "  9.500000e-01]\n",
            " [2.090000e+00 6.000000e+00 6.960180e+03 ... 1.066000e+01 2.900000e-01\n",
            "  9.500000e-01]\n",
            " [3.140000e+00 9.000000e+00 8.379230e+03 ... 1.309000e+01 2.600000e-01\n",
            "  9.500000e-01]\n",
            " ...\n",
            " [7.150000e+00 2.100000e+01 3.900387e+04 ... 4.210000e+01 8.300000e-01\n",
            "  1.000000e+00]\n",
            " [8.210000e+00 2.400000e+01 5.099258e+04 ... 5.806000e+01 1.150000e+00\n",
            "  1.000000e+00]\n",
            " [9.300000e+00 2.700000e+01 7.277513e+04 ... 8.607000e+01 1.700000e+00\n",
            "  1.000000e+00]]\n",
            "Media calculada: [5.16777778e+00 1.50000000e+01 2.72474992e+04 2.13628977e+03\n",
            " 8.20094780e+03 2.27336335e+02 2.27336335e+02 7.35495959e+02\n",
            " 2.88000000e+02 6.46215814e+02 2.35341545e+00 1.00000000e+00\n",
            " 1.22976311e+01 1.03000000e+00 3.36417278e+01 6.62931121e-01\n",
            " 9.75490196e-01]\n",
            "Desviación estandar calculada: [2.62695760e+00 7.74596670e+00 2.21476852e+04 7.74051466e+02\n",
            " 1.09126980e+03 2.00487483e+02 2.00487483e+02 1.73673235e+02\n",
            " 1.00000000e-08 7.26728103e+01 1.08477516e+00 1.00000000e-08\n",
            " 5.33721265e+00 1.05409355e-02 2.58403122e+01 5.07136335e-01\n",
            " 1.52513327e-02]\n",
            "[[-1.53324811 -1.54919334 -1.21717186 ... -1.02559627 -1.14945643\n",
            "  -1.67134221]\n",
            " [-1.17161304 -1.161895   -0.91600179 ... -0.88937501 -0.7353666\n",
            "  -1.67134221]\n",
            " [-0.77191112 -0.77459667 -0.85192963 ... -0.7953359  -0.79452229\n",
            "  -1.67134221]\n",
            " ...\n",
            " [ 0.75456955  0.77459667  0.53081713 ...  0.32732856  0.32943583\n",
            "   1.60705981]\n",
            " [ 1.15807816  1.161895    1.07212472 ...  0.94496816  0.96042986\n",
            "   1.60705981]\n",
            " [ 1.57300682  1.54919334  2.05563834 ...  2.02893339  2.04495085\n",
            "   1.60705981]]\n"
          ]
        }
      ]
    },
    {
      "cell_type": "code",
      "source": [
        "X_norm = np.concatenate([np.ones((X_norm.shape[0], 1)), X_norm], axis=1)\n",
        "print(X)"
      ],
      "metadata": {
        "colab": {
          "base_uri": "https://localhost:8080/"
        },
        "id": "QshjTmiwHyPQ",
        "outputId": "4c164697-d044-4e32-bf78-3ed3240fc8a6"
      },
      "execution_count": null,
      "outputs": [
        {
          "output_type": "stream",
          "name": "stdout",
          "text": [
            "[[1.140000e+00 3.000000e+00 2.899600e+02 ... 7.140000e+00 8.000000e-02\n",
            "  9.500000e-01]\n",
            " [2.090000e+00 6.000000e+00 6.960180e+03 ... 1.066000e+01 2.900000e-01\n",
            "  9.500000e-01]\n",
            " [3.140000e+00 9.000000e+00 8.379230e+03 ... 1.309000e+01 2.600000e-01\n",
            "  9.500000e-01]\n",
            " ...\n",
            " [7.150000e+00 2.100000e+01 3.900387e+04 ... 4.210000e+01 8.300000e-01\n",
            "  1.000000e+00]\n",
            " [8.210000e+00 2.400000e+01 5.099258e+04 ... 5.806000e+01 1.150000e+00\n",
            "  1.000000e+00]\n",
            " [9.300000e+00 2.700000e+01 7.277513e+04 ... 8.607000e+01 1.700000e+00\n",
            "  1.000000e+00]]\n"
          ]
        }
      ]
    },
    {
      "cell_type": "markdown",
      "source": [
        "**Separamos los datos de entrenamiento y test**"
      ],
      "metadata": {
        "id": "jb3YwGnUpW4t"
      }
    },
    {
      "cell_type": "code",
      "source": [
        "X_train, X_test, y_train, y_test = train_test_split(X_norm, y, test_size=0.2, random_state=42)\n",
        "print(X_train.shape)\n",
        "print(X_test.shape)"
      ],
      "metadata": {
        "colab": {
          "base_uri": "https://localhost:8080/"
        },
        "id": "596t1DuIqUib",
        "outputId": "d9001a04-e3ff-4bef-9068-edd45c7dbaef"
      },
      "execution_count": null,
      "outputs": [
        {
          "output_type": "stream",
          "name": "stdout",
          "text": [
            "(9547, 18)\n",
            "(2387, 18)\n"
          ]
        }
      ]
    },
    {
      "cell_type": "code",
      "source": [
        "def graficarDatos(X1, y1, x1label, y1label):\n",
        "  fig1 = pyplot.figure()\n",
        "  pyplot.plot(X1, y1, 'ro')\n",
        "  pyplot.x1label(x1label)\n",
        "  pyplot.y1label(y1label)"
      ],
      "metadata": {
        "id": "najYFe3mJcmc"
      },
      "execution_count": null,
      "outputs": []
    },
    {
      "cell_type": "markdown",
      "source": [
        "**Definimos la funcion computeCostMulti con y sin regularización**"
      ],
      "metadata": {
        "id": "rgP42hwupkD3"
      }
    },
    {
      "cell_type": "code",
      "source": [
        "def computeCostMulti(X, y, theta):\n",
        "    m = y.shape[0]\n",
        "    h = np.dot(X, theta)\n",
        "    J = (1 / (2 * m)) * np.sum(np.square(h - y))\n",
        "    return J"
      ],
      "metadata": {
        "id": "jqDlSwELI1b7"
      },
      "execution_count": null,
      "outputs": []
    },
    {
      "cell_type": "code",
      "source": [
        "def computeCostMultiReg(X, y, theta, lambda_):\n",
        "    m = y.shape[0]\n",
        "    h = np.dot(X, theta)\n",
        "    J = (1 / (2 * m)) * np.sum(np.square(h - y))\n",
        "\n",
        "    reg_term = (lambda_ / (2 * m)) * np.sum(np.square(theta[1:]))\n",
        "\n",
        "    J = J + reg_term\n",
        "    return J\n"
      ],
      "metadata": {
        "id": "ViVt2mlX6eVg"
      },
      "execution_count": null,
      "outputs": []
    },
    {
      "cell_type": "markdown",
      "source": [
        "**Definimos la funcion gradientDescentMulti con y sin regularización**"
      ],
      "metadata": {
        "id": "n2nlSbxMprI_"
      }
    },
    {
      "cell_type": "code",
      "source": [
        "def gradientDescentMulti(X, y, theta, alpha, num_iters):\n",
        "    m = y.shape[0]\n",
        "    J_history = []\n",
        "    for i in range(num_iters):\n",
        "        h = np.dot(X, theta)\n",
        "        theta = theta - (alpha / m) * (np.dot(X.T, (h - y)))\n",
        "        J_history.append(computeCostMulti(X, y, theta))\n",
        "    return theta, J_history"
      ],
      "metadata": {
        "id": "r-TYdAD4I3Sc"
      },
      "execution_count": null,
      "outputs": []
    },
    {
      "cell_type": "code",
      "source": [
        "def gradientDescentMultiReg(X, y, theta, alpha, num_iters, lambda_):\n",
        "    m = y.shape[0]\n",
        "    J_history = []\n",
        "    for i in range(num_iters):\n",
        "        h = np.dot(X, theta)\n",
        "\n",
        "        grad = (1 / m) * np.dot(X.T, (h - y))\n",
        "\n",
        "        reg_term = (lambda_ / m) * theta\n",
        "        grad[1:] = grad[1:] + reg_term[1:]\n",
        "\n",
        "        theta = theta - (alpha * grad)\n",
        "\n",
        "        J_history.append(computeCostMultiReg(X, y, theta, lambda_))\n",
        "    return theta, J_history"
      ],
      "metadata": {
        "id": "6ZNbSyx-65Dg"
      },
      "execution_count": null,
      "outputs": []
    },
    {
      "cell_type": "markdown",
      "source": [
        "**Hacemos las pruebas de los thetas en ambos casos**"
      ],
      "metadata": {
        "id": "1AhjUblnpvsB"
      }
    },
    {
      "cell_type": "code",
      "source": [
        "alpha = 0.003\n",
        "num_iters = 5000\n",
        "lambda_ = 0.1\n",
        "theta = np.zeros(X_train.shape[1])\n",
        "thetaReg = np.zeros(X_train.shape[1])\n",
        "\n",
        "theta, J_history = gradientDescentMulti(X_train, y_train, theta, alpha, num_iters)\n",
        "\n",
        "thetaReg, J_historyReg = gradientDescentMultiReg(X_train, y_train, theta, alpha, num_iters, lambda_)\n",
        "\n",
        "print('theta calculado sin regularizacion: {:s}'.format(str(theta)))\n",
        "print('theta calculado con regularizacion: {:s}'.format(str(thetaReg)))\n",
        "\n",
        "pyplot.plot(np.arange(len(J_history)), J_history, label='Sin Regularización')\n",
        "pyplot.plot(np.arange(len(J_historyReg)), J_historyReg, label='Con Regularización')\n",
        "pyplot.xlabel('Número de iteraciones')\n",
        "pyplot.ylabel('Costo J')\n",
        "pyplot.legend()\n",
        "\n",
        "estado = np.dot(X_test, theta)\n",
        "print('El TDSC sin regularización: {:.4f}'.format(estado[0]))\n",
        "estadoReg = np.dot(X_test, thetaReg)\n",
        "\n",
        "print('El TDSC con regularización: {:.4f}'.format(estadoReg[0]))"
      ],
      "metadata": {
        "colab": {
          "base_uri": "https://localhost:8080/",
          "height": 668
        },
        "id": "RliWd22jI54g",
        "outputId": "bdffd893-82f8-4a2d-d6b9-8a28a572c02a"
      },
      "execution_count": null,
      "outputs": [
        {
          "output_type": "stream",
          "name": "stdout",
          "text": [
            "theta calculado sin regularizacion: [ 9.88460581e-01  1.24028926e-04  1.15193327e-04  1.11327789e-03\n",
            "  4.69503530e-04  1.11199432e-03  1.04326868e-03  1.04326868e-03\n",
            " -2.99617415e-03  0.00000000e+00 -1.16049287e-03  5.37584866e-04\n",
            "  0.00000000e+00 -1.27748354e-03  6.10743708e-04 -2.00773952e-04\n",
            " -5.49793398e-04 -1.71453123e-04]\n",
            "theta calculado con regularizacion: [ 9.88459799e-01  9.67392300e-05  3.61868299e-05  2.26583925e-03\n",
            "  8.71182579e-04  1.71488211e-03  1.81339472e-03  1.81339472e-03\n",
            " -4.86927796e-03  0.00000000e+00 -1.94881547e-03  1.16345780e-03\n",
            "  0.00000000e+00 -2.31943730e-03  4.51711094e-04 -4.27804384e-04\n",
            " -6.71358886e-04 -2.81632930e-04]\n",
            "El TDSC sin regularización: 0.9884\n",
            "El TDSC con regularización: 0.9883\n"
          ]
        },
        {
          "output_type": "display_data",
          "data": {
            "text/plain": [
              "<Figure size 640x480 with 1 Axes>"
            ],
            "image/png": "[encoded data removed]"
          },
          "metadata": {}
        }
      ]
    },
    {
      "cell_type": "markdown",
      "source": [
        "**Ambas predicciones son similares siendo sin regularizar la mas alta**"
      ],
      "metadata": {
        "id": "HSIW4FVup1zs"
      }
    },
    {
      "cell_type": "code",
      "source": [
        "modelo = LinearRegression()\n",
        "modelo.fit(X_train, y_train)\n",
        "precision = modelo.score(X_test, y_test) * 100\n",
        "print(\"Precisión de las predicciones en el conjunto de prueba: {:.2f}%\".format(precision))"
      ],
      "metadata": {
        "colab": {
          "base_uri": "https://localhost:8080/"
        },
        "id": "FYfj9LvlRZac",
        "outputId": "042ade83-71f4-4412-b47d-d636e03a5215"
      },
      "execution_count": null,
      "outputs": [
        {
          "output_type": "stream",
          "name": "stdout",
          "text": [
            "Precisión de las predicciones en el conjunto de prueba: 79.06%\n"
          ]
        }
      ]
    },
    {
      "cell_type": "markdown",
      "source": [
        "# **Regresion polinomial**"
      ],
      "metadata": {
        "id": "pg3jmUO1UtYv"
      }
    },
    {
      "cell_type": "code",
      "source": [
        "pf = PolynomialFeatures(degree = 3)\n",
        "print(X.shape)\n",
        "X1 = pf.fit_transform(X.reshape(-1,1))\n",
        "print(X1.shape)\n",
        "regresion_lineal = LinearRegression()\n",
        "\n",
        "X = X[:y.shape[0]]\n",
        "\n",
        "if not isinstance(X1, np.ndarray) or not isinstance(y, np.ndarray):\n",
        "    raise TypeError(\"X1 and y1 should be NumPy arrays.\")\n",
        "\n",
        "regresion_lineal.fit(X, y)\n",
        "\n",
        "print('theta = ' + str(regresion_lineal.coef_) + ', b = ' + str(regresion_lineal.intercept_))\n"
      ],
      "metadata": {
        "colab": {
          "base_uri": "https://localhost:8080/"
        },
        "id": "E_gb_JPKlJVb",
        "outputId": "23ec2e57-8573-431a-8ce4-7d16b96b475a"
      },
      "execution_count": 658,
      "outputs": [
        {
          "output_type": "stream",
          "name": "stdout",
          "text": [
            "(11934, 17)\n",
            "(202878, 4)\n",
            "theta = [ 4.05531150e-02 -6.96696564e-03  1.31146696e-05  4.66651952e-05\n",
            "  2.66342653e-05 -7.83970978e-04 -7.83970978e-04 -5.98910385e-04\n",
            " -2.48065457e-16 -2.39854862e-04  1.35439487e-01  9.71445147e-17\n",
            " -4.86981148e-02  2.46734876e-01 -2.44382908e-04  2.90570312e-01\n",
            " -1.44971019e-01], b = 1.1428826545915527\n"
          ]
        }
      ]
    },
    {
      "cell_type": "code",
      "source": [
        "prediccion_entrenamiento = regresion_lineal.predict(X)\n",
        "mse = mean_squared_error(y_true = y, y_pred = prediccion_entrenamiento)\n",
        "rmse = np.sqrt(mse)\n",
        "print('Error Cuadrático Medio (MSE) = ' + str(mse))\n",
        "print('Raíz del Error Cuadrático Medio (RMSE) = ' + str(rmse))\n",
        "r2 = regresion_lineal.score(X, y)\n",
        "print('Coeficiente de Determinación R2 = ' + str(r2))"
      ],
      "metadata": {
        "colab": {
          "base_uri": "https://localhost:8080/"
        },
        "id": "dSuq6c2-1fe4",
        "outputId": "8317d27b-d2e2-4f3b-fb6f-f901b95bc6c5"
      },
      "execution_count": 659,
      "outputs": [
        {
          "output_type": "stream",
          "name": "stdout",
          "text": [
            "Error Cuadrático Medio (MSE) = 1.1832615159896856e-05\n",
            "Raíz del Error Cuadrático Medio (RMSE) = 0.003439856851657763\n",
            "Coeficiente de Determinación R2 = 0.8000288037977435\n"
          ]
        }
      ]
    },
    {
      "cell_type": "code",
      "source": [
        "y_pred = np.dot([1.14,\t3\t,289.96\t,1349.49,\t6677.38,\t7.58,\t7.58,\t464.01,\t288,\t550.56,\t1.1,\t1\t,5.95\t,1.02,\t7.14,\t0.08,\t0.95], theta)\n",
        "print(y_pred)\n",
        "y_predreg = np.dot([1.14,\t3\t,289.96\t,1349.49,\t6677.38,\t7.58,\t7.58,\t464.01,\t288,\t550.56,\t1.1,\t1\t,5.95\t,1.02,\t7.14,\t0.08,\t0.95], theta_reg)\n",
        "print(y_predreg)"
      ],
      "metadata": {
        "colab": {
          "base_uri": "https://localhost:8080/"
        },
        "id": "BWXpp8t231we",
        "outputId": "bfe9c1bf-1ce2-44a3-cfc1-f413135116be"
      },
      "execution_count": 669,
      "outputs": [
        {
          "output_type": "stream",
          "name": "stdout",
          "text": [
            "1.842013860637511\n",
            "0.9856825900763946\n"
          ]
        }
      ]
    },
    {
      "cell_type": "markdown",
      "source": [
        "# **Ecuacion de la normal**"
      ],
      "metadata": {
        "id": "xfVkn8wlwImO"
      }
    },
    {
      "cell_type": "markdown",
      "source": [
        "**Volvemos a cargar el dataset para evitar problemas**"
      ],
      "metadata": {
        "id": "inI_uobGnTuP"
      }
    },
    {
      "cell_type": "code",
      "source": [
        "url = \"/content/drive/MyDrive/SIS420/Lab4/Maintenance Naval Vessel.csv\"\n",
        "dataframe1 = pd.read_csv(url)"
      ],
      "metadata": {
        "id": "NHnMYS-KxgCQ"
      },
      "execution_count": null,
      "outputs": []
    },
    {
      "cell_type": "code",
      "source": [
        "dataframe1 = dataframe1.drop(\"index\", axis=1)"
      ],
      "metadata": {
        "id": "uwaBfgLMxluL"
      },
      "execution_count": null,
      "outputs": []
    },
    {
      "cell_type": "code",
      "source": [
        "data1 = dataframe1.values\n",
        "X, y = data1[:, :17], data1[:, 17]\n",
        "m1 = y.size\n",
        "print(X.shape)\n",
        "print(y.shape)"
      ],
      "metadata": {
        "colab": {
          "base_uri": "https://localhost:8080/"
        },
        "id": "R8M0DKwIxlK5",
        "outputId": "3b17cb2e-2767-45c8-930c-d6527ce006f0"
      },
      "execution_count": null,
      "outputs": [
        {
          "output_type": "stream",
          "name": "stdout",
          "text": [
            "(11934, 17)\n",
            "(11934,)\n"
          ]
        }
      ]
    },
    {
      "cell_type": "markdown",
      "source": [
        "**Definimos la funcion normalEqn con y sin regularizar**"
      ],
      "metadata": {
        "id": "WZGYhlzNnY9X"
      }
    },
    {
      "cell_type": "code",
      "source": [
        "def normalEqn(X, y):\n",
        "    theta = np.zeros(X.shape[1])\n",
        "    theta = np.dot(np.dot(np.linalg.inv(np.dot(X.T,X)),X.T),y)\n",
        "    return theta"
      ],
      "metadata": {
        "id": "sxqw-J7DwMWq"
      },
      "execution_count": null,
      "outputs": []
    },
    {
      "cell_type": "code",
      "source": [
        "def normalEqnReg(X, y, lambda_=0.1):\n",
        "    m = len(y)\n",
        "    n = X.shape[1]\n",
        "    lambda_matrix = lambda_ * np.eye(n)  # Crear la matriz de regularización lambda*I\n",
        "    theta = np.dot(np.dot(np.linalg.inv(np.dot(X.T, X) + lambda_matrix), X.T), y)\n",
        "    return theta"
      ],
      "metadata": {
        "id": "BSgMPY1RzG5D"
      },
      "execution_count": null,
      "outputs": []
    },
    {
      "cell_type": "markdown",
      "source": [
        "**Hacemos las predicciones con las thetas con y sin regularizar**"
      ],
      "metadata": {
        "id": "K0oIvOvSneUX"
      }
    },
    {
      "cell_type": "code",
      "source": [
        "theta = normalEqn(X, y);\n",
        "print('Theta calculado a partir de la ecuación de la normal: {:s}'.format(str(theta)));\n",
        "X_array = [1.14,3,\t289.96\t,1349.49\t,6677.38\t,7.58,\t7.58,\t464.01\t,288,\t550.56\t,1.1,\t1,\t5.95,\t1.02\t,7.14\t,0.08,\t0.95]\n",
        "estado = np.dot(X_array, theta)\n",
        "\n",
        "print('El TDSC sin regularización: {:.4f}'.format(estado))"
      ],
      "metadata": {
        "colab": {
          "base_uri": "https://localhost:8080/"
        },
        "id": "70vJATZTwZy-",
        "outputId": "25d03c25-ffcb-46de-dadd-ee8c5dda49fa"
      },
      "execution_count": null,
      "outputs": [
        {
          "output_type": "stream",
          "name": "stdout",
          "text": [
            "Theta calculado a partir de la ecuación de la normal: [-6.10383809e+01  2.02850122e+01 -3.85501192e-04 -6.05609360e-03\n",
            "  2.87329935e-03  3.98100046e+10 -3.98100046e+10 -1.09945703e-03\n",
            "  6.83967251e-04 -2.39854863e-04  1.35439487e-01 -2.50223257e-01\n",
            " -4.86981147e-02  2.46734875e-01 -2.44382907e-04  2.90570311e-01\n",
            " -1.44971018e-01]\n",
            "El TDSC sin regularización: 1.8420\n"
          ]
        }
      ]
    },
    {
      "cell_type": "code",
      "source": [
        "theta_reg = normalEqnReg(X, y, lambda_=0.1)\n",
        "print('Theta regularizada',theta_reg)\n",
        "X_array = [1.14,3,\t289.96\t,1349.49\t,6677.38\t,7.58,\t7.58,\t464.01\t,288,\t550.56\t,1.1,\t1,\t5.95,\t1.02\t,7.14\t,0.08,\t0.95]\n",
        "estado = np.dot(X_array, theta_reg)\n",
        "\n",
        "print('El TDSC con regularización: {:.4f}'.format(estado))"
      ],
      "metadata": {
        "colab": {
          "base_uri": "https://localhost:8080/"
        },
        "id": "21miX0vezJiK",
        "outputId": "bbffacb7-3e9a-4d21-918e-9e927098047b"
      },
      "execution_count": null,
      "outputs": [
        {
          "output_type": "stream",
          "name": "stdout",
          "text": [
            "Theta regularizada [ 1.47025375e-02  4.47547156e-04  1.27240376e-05  4.77319272e-05\n",
            "  2.42065647e-05 -7.01361272e-04 -7.00606823e-04 -5.29790726e-04\n",
            "  4.50420101e-03 -1.72999480e-04  1.33564403e-01  1.56396613e-05\n",
            " -4.84325118e-02  2.87932492e-02 -1.61902058e-04  2.33783880e-01\n",
            " -1.19313327e-01]\n",
            "El TDSC con regularización: 0.9857\n"
          ]
        }
      ]
    },
    {
      "cell_type": "markdown",
      "source": [
        "Se consiguió una diferencia en los resultados siendo el resultado sin regularizar el mayor, pero el que mas se asemeja a los datos seria el resultado regularizado"
      ],
      "metadata": {
        "id": "DifHU5q3o20V"
      }
    },
    {
      "cell_type": "markdown",
      "source": [
        "**Sacmos la precision en ambos casos**"
      ],
      "metadata": {
        "id": "z29uN7zLom0R"
      }
    },
    {
      "cell_type": "code",
      "source": [
        "predicciones =(X.dot(theta_reg))\n",
        "predicciones_redondeadas = np.round(predicciones)\n",
        "precision = np.mean(predicciones_redondeadas == y) * 100\n",
        "print(\"Precisión de las predicciones en el conjunto de prueba: {:.10f}%\".format(precision))"
      ],
      "metadata": {
        "colab": {
          "base_uri": "https://localhost:8080/"
        },
        "id": "7qXtbqmnofUD",
        "outputId": "ad701910-59ef-4925-e818-f979165dc77c"
      },
      "execution_count": null,
      "outputs": [
        {
          "output_type": "stream",
          "name": "stdout",
          "text": [
            "Precisión de las predicciones en el conjunto de prueba: 23.0769230769%\n"
          ]
        }
      ]
    },
    {
      "cell_type": "code",
      "source": [
        "predicciones =(X.dot(theta))\n",
        "predicciones_redondeadas = np.round(predicciones)\n",
        "precision = np.mean(predicciones_redondeadas == y) * 100\n",
        "print(\"Precisión de las predicciones en el conjunto de prueba: {:.10f}%\".format(precision))"
      ],
      "metadata": {
        "colab": {
          "base_uri": "https://localhost:8080/"
        },
        "id": "ENwAaofGn3nL",
        "outputId": "2d4f843a-ee67-4905-b96a-1ae7ba57b991"
      },
      "execution_count": null,
      "outputs": [
        {
          "output_type": "stream",
          "name": "stdout",
          "text": [
            "Precisión de las predicciones en el conjunto de prueba: 2.2540640188%\n"
          ]
        }
      ]
    },
    {
      "cell_type": "markdown",
      "source": [
        "Aqui vemos que regularizado tener una mayor precisión"
      ],
      "metadata": {
        "id": "NrQcUPDxo_9Z"
      }
    },
    {
      "cell_type": "markdown",
      "source": [
        "# **Dataset \"Heart disease indicator\" Regresion logística clasificación binaria**\n",
        "\n",
        "Y = HeartDiseaseorAttack"
      ],
      "metadata": {
        "id": "vkDuvTYd9bZR"
      }
    },
    {
      "cell_type": "code",
      "source": [
        "url = \"/content/drive/MyDrive/SIS420/Lab4/heart_disease_health_indicators.csv\"\n",
        "dataframe2 = pd.read_csv(url)\n",
        "print(dataframe2)"
      ],
      "metadata": {
        "colab": {
          "base_uri": "https://localhost:8080/"
        },
        "id": "i2PuJo9s96WT",
        "outputId": "a3360b93-9d13-4524-bbb0-a7db6b9a9d1e"
      },
      "execution_count": null,
      "outputs": [
        {
          "output_type": "stream",
          "name": "stdout",
          "text": [
            "        HeartDiseaseorAttack  HighBP  HighChol  CholCheck  BMI  Smoker  \\\n",
            "0                          0       1         1          1   40       1   \n",
            "1                          0       0         0          0   25       1   \n",
            "2                          0       1         1          1   28       0   \n",
            "3                          0       1         0          1   27       0   \n",
            "4                          0       1         1          1   24       0   \n",
            "...                      ...     ...       ...        ...  ...     ...   \n",
            "253656                     0       0         0          1   25       0   \n",
            "253657                     0       0         1          1   24       0   \n",
            "253658                     0       0         0          0   27       0   \n",
            "253659                     0       0         1          1   37       0   \n",
            "253660                     0       0         1          1   34       1   \n",
            "\n",
            "        Stroke  Diabetes  PhysActivity  Fruits  ...  AnyHealthcare  \\\n",
            "0            0         0             0       0  ...              1   \n",
            "1            0         0             1       0  ...              0   \n",
            "2            0         0             0       1  ...              1   \n",
            "3            0         0             1       1  ...              1   \n",
            "4            0         0             1       1  ...              1   \n",
            "...        ...       ...           ...     ...  ...            ...   \n",
            "253656       0         0             1       1  ...              1   \n",
            "253657       0         0             0       0  ...              1   \n",
            "253658       0         0             1       0  ...              1   \n",
            "253659       0         2             0       0  ...              1   \n",
            "253660       0         0             0       1  ...              1   \n",
            "\n",
            "        NoDocbcCost  GenHlth  MentHlth  PhysHlth  DiffWalk  Sex  Age  \\\n",
            "0                 0        5        18        15         1    0    9   \n",
            "1                 1        3         0         0         0    0    7   \n",
            "2                 1        5        30        30         1    0    9   \n",
            "3                 0        2         0         0         0    0   11   \n",
            "4                 0        2         3         0         0    0   11   \n",
            "...             ...      ...       ...       ...       ...  ...  ...   \n",
            "253656            0        1         0         0         0    0    4   \n",
            "253657            0        3         0         0         0    0    7   \n",
            "253658            1        2         0         0         0    0    3   \n",
            "253659            0        4         0         0         0    0    6   \n",
            "253660            0        3         0         2         1    0    7   \n",
            "\n",
            "        Education  Income  \n",
            "0               4       3  \n",
            "1               6       1  \n",
            "2               4       8  \n",
            "3               3       6  \n",
            "4               5       4  \n",
            "...           ...     ...  \n",
            "253656          6       8  \n",
            "253657          5       3  \n",
            "253658          6       5  \n",
            "253659          4       1  \n",
            "253660          4       3  \n",
            "\n",
            "[253661 rows x 22 columns]\n"
          ]
        }
      ]
    },
    {
      "cell_type": "code",
      "source": [
        "print(dataframe2.describe())"
      ],
      "metadata": {
        "colab": {
          "base_uri": "https://localhost:8080/"
        },
        "id": "n7SQTWQl-lb_",
        "outputId": "bf7a7535-bf46-42cf-ea2d-8e45937c832a"
      },
      "execution_count": null,
      "outputs": [
        {
          "output_type": "stream",
          "name": "stdout",
          "text": [
            "       HeartDiseaseorAttack         HighBP       HighChol      CholCheck  \\\n",
            "count         253661.000000  253661.000000  253661.000000  253661.000000   \n",
            "mean               0.094173       0.428990       0.424113       0.962667   \n",
            "std                0.292070       0.494933       0.494209       0.189578   \n",
            "min                0.000000       0.000000       0.000000       0.000000   \n",
            "25%                0.000000       0.000000       0.000000       1.000000   \n",
            "50%                0.000000       0.000000       0.000000       1.000000   \n",
            "75%                0.000000       1.000000       1.000000       1.000000   \n",
            "max                1.000000       1.000000       1.000000       1.000000   \n",
            "\n",
            "                 BMI         Smoker         Stroke       Diabetes  \\\n",
            "count  253661.000000  253661.000000  253661.000000  253661.000000   \n",
            "mean       28.382475       0.443186       0.040570       0.296904   \n",
            "std         6.608638       0.496763       0.197292       0.698147   \n",
            "min        12.000000       0.000000       0.000000       0.000000   \n",
            "25%        24.000000       0.000000       0.000000       0.000000   \n",
            "50%        27.000000       0.000000       0.000000       0.000000   \n",
            "75%        31.000000       1.000000       0.000000       0.000000   \n",
            "max        98.000000       1.000000       1.000000       2.000000   \n",
            "\n",
            "        PhysActivity         Fruits  ...  AnyHealthcare    NoDocbcCost  \\\n",
            "count  253661.000000  253661.000000  ...  253661.000000  253661.000000   \n",
            "mean        0.756577       0.634264  ...       0.951049       0.084164   \n",
            "std         0.429149       0.481637  ...       0.215766       0.277633   \n",
            "min         0.000000       0.000000  ...       0.000000       0.000000   \n",
            "25%         1.000000       0.000000  ...       1.000000       0.000000   \n",
            "50%         1.000000       1.000000  ...       1.000000       0.000000   \n",
            "75%         1.000000       1.000000  ...       1.000000       0.000000   \n",
            "max         1.000000       1.000000  ...       1.000000       1.000000   \n",
            "\n",
            "             GenHlth       MentHlth       PhysHlth       DiffWalk  \\\n",
            "count  253661.000000  253661.000000  253661.000000  253661.000000   \n",
            "mean        2.511379       3.184778       4.242028       0.168221   \n",
            "std         1.068472       7.412822       8.717905       0.374063   \n",
            "min         1.000000       0.000000       0.000000       0.000000   \n",
            "25%         2.000000       0.000000       0.000000       0.000000   \n",
            "50%         2.000000       0.000000       0.000000       0.000000   \n",
            "75%         3.000000       2.000000       3.000000       0.000000   \n",
            "max         5.000000      30.000000      30.000000       1.000000   \n",
            "\n",
            "                 Sex            Age      Education         Income  \n",
            "count  253661.000000  253661.000000  253661.000000  253661.000000  \n",
            "mean        0.440348       8.032197       5.050461       6.054052  \n",
            "std         0.496430       3.054203       0.985718       2.071036  \n",
            "min         0.000000       1.000000       1.000000       1.000000  \n",
            "25%         0.000000       6.000000       4.000000       5.000000  \n",
            "50%         0.000000       8.000000       5.000000       7.000000  \n",
            "75%         1.000000      10.000000       6.000000       8.000000  \n",
            "max         1.000000      13.000000       6.000000       8.000000  \n",
            "\n",
            "[8 rows x 22 columns]\n"
          ]
        }
      ]
    },
    {
      "cell_type": "markdown",
      "source": [
        "**No hay valores nulos en el dataset**"
      ],
      "metadata": {
        "id": "NVZZBvesA9tw"
      }
    },
    {
      "cell_type": "code",
      "source": [
        "data = dataframe2.values\n",
        "X2, y2 = data[:, 1:], data[:, 0]\n",
        "\n",
        "print(X2.shape)\n",
        "print(y2.shape)"
      ],
      "metadata": {
        "colab": {
          "base_uri": "https://localhost:8080/"
        },
        "id": "uxDLRSni8Tmg",
        "outputId": "bf33b3ad-139a-43bc-9616-115be31d0ce2"
      },
      "execution_count": null,
      "outputs": [
        {
          "output_type": "stream",
          "name": "stdout",
          "text": [
            "(253661, 21)\n",
            "(253661,)\n"
          ]
        }
      ]
    },
    {
      "cell_type": "markdown",
      "source": [
        "**Funcion sigmoidea**"
      ],
      "metadata": {
        "id": "PPiSFl_m8xyh"
      }
    },
    {
      "cell_type": "code",
      "source": [
        "def sigmoid(z2):\n",
        "    z2 = np.array(z2)\n",
        "\n",
        "    g2 = np.zeros(z2.shape)\n",
        "\n",
        "    g2 = 1 / (1 + np.exp(-z2))\n",
        "\n",
        "    return g2"
      ],
      "metadata": {
        "id": "n9bMAJUo812Z"
      },
      "execution_count": null,
      "outputs": []
    },
    {
      "cell_type": "code",
      "source": [
        "z2 = [0, 0.5, 1]\n",
        "g2 = sigmoid(z2)\n",
        "\n",
        "print('g(', z2, ') = ', g2)"
      ],
      "metadata": {
        "colab": {
          "base_uri": "https://localhost:8080/"
        },
        "id": "-YVsnHC19i83",
        "outputId": "dbfd6255-627e-4fd4-8047-844844dbfcda"
      },
      "execution_count": null,
      "outputs": [
        {
          "output_type": "stream",
          "name": "stdout",
          "text": [
            "g( [0, 0.5, 1] ) =  [0.5        0.62245933 0.73105858]\n"
          ]
        }
      ]
    },
    {
      "cell_type": "markdown",
      "source": [
        "**Separo el dataset en 2 805 para el entrenamiento y 20% para el test**"
      ],
      "metadata": {
        "id": "yoVEbIk9mJKp"
      }
    },
    {
      "cell_type": "code",
      "source": [
        "X_train2, X_test2, Y_train2, Y_test2 = train_test_split(X2, y2, test_size=0.2, random_state=50)\n",
        "\n",
        "scaler = StandardScaler()\n",
        "X_train2_scaled = scaler.fit_transform(X_train2)\n",
        "X_test2_scaled = scaler.transform(X_test2)\n",
        "print(X_test2.shape)\n",
        "print(X_train2.shape)"
      ],
      "metadata": {
        "colab": {
          "base_uri": "https://localhost:8080/"
        },
        "id": "foQ9e0Su_JrJ",
        "outputId": "ed6c4c8a-e4fe-46fb-81f5-1ee075033563"
      },
      "execution_count": null,
      "outputs": [
        {
          "output_type": "stream",
          "name": "stdout",
          "text": [
            "(50733, 22)\n",
            "(202928, 22)\n"
          ]
        }
      ]
    },
    {
      "cell_type": "markdown",
      "source": [
        "**Concateno una columna de unos**"
      ],
      "metadata": {
        "id": "ZZTJN-w2mYgt"
      }
    },
    {
      "cell_type": "code",
      "source": [
        "m2, n2 = X2.shape\n",
        "X2 = np.concatenate([np.ones((m2, 1)), X2], axis=1)"
      ],
      "metadata": {
        "id": "HIZcUHiubvLp"
      },
      "execution_count": null,
      "outputs": []
    },
    {
      "cell_type": "markdown",
      "source": [
        "****Defino la funcion calcularCosto con y sin regularización****"
      ],
      "metadata": {
        "id": "rIO2YqKWmehC"
      }
    },
    {
      "cell_type": "code",
      "source": [
        "def calcularCosto(theta2, X2, y2):\n",
        "    m2 = y2.size\n",
        "    J2 = 0\n",
        "    h2 = sigmoid(X2.dot(theta2.T))\n",
        "    J2 = (1 / m2) * np.sum(-y2.dot(np.log(h2)) - (1 - y2).dot(np.log(1 - h2)))\n",
        "\n",
        "    return J2\n"
      ],
      "metadata": {
        "id": "ijshHzwoCpR8"
      },
      "execution_count": null,
      "outputs": []
    },
    {
      "cell_type": "code",
      "source": [
        "def calcularCostoReg(theta2, X2, y2, lambda_2):\n",
        "    m2 = y2.size\n",
        "    J2 = 0\n",
        "    h2 = sigmoid(X2.dot(theta2.T))\n",
        "    temp = theta2.copy()\n",
        "    temp[0] = 0\n",
        "    J2 = (1 / m2) * np.sum(-y2.dot(np.log(h2)) - (1 - y2).dot(np.log(1 - h2))) + (lambda_2 / (2 * m2)) * np.sum(np.square(temp))\n",
        "\n",
        "    return J2\n"
      ],
      "metadata": {
        "id": "gILUum-DDx7O"
      },
      "execution_count": null,
      "outputs": []
    },
    {
      "cell_type": "markdown",
      "source": [
        "**Defino la funcion descensoGradiente con y sin regularización**"
      ],
      "metadata": {
        "id": "IVYARzSImiMf"
      }
    },
    {
      "cell_type": "code",
      "source": [
        "def descensoGradiente(theta2, X2, y2, alpha2, num_iters2):\n",
        "    m2 = y2.shape[0]\n",
        "    theta2 = theta2.copy()\n",
        "    J_history2 = []\n",
        "    for i in range(num_iters2):\n",
        "        h2 = sigmoid(X2.dot(theta2.T))\n",
        "        theta2 = theta2 - (alpha2 / m2) * (h2 - y2).dot(X2)\n",
        "\n",
        "        J_history2.append(calcularCosto(theta2, X2, y2))\n",
        "    return theta2, J_history2\n"
      ],
      "metadata": {
        "id": "vuA8qdqaDR54"
      },
      "execution_count": null,
      "outputs": []
    },
    {
      "cell_type": "code",
      "source": [
        "def descensoGradienteReg(theta2, X2, y2, alpha2, num_iters2, lambda_):\n",
        "    m2 = y2.shape[0]\n",
        "    theta2 = theta2.copy()\n",
        "    J_history2 = []\n",
        "    for i in range(num_iters2):\n",
        "        h2 = sigmoid(X2.dot(theta2.T))\n",
        "        temp2 = theta2.copy()\n",
        "        temp2[0] = 0\n",
        "        theta2 = theta2 - (alpha2 / m2) * ((h2 - y2).dot(X2) + lambda_ * temp2)\n",
        "\n",
        "        J_history2.append(calcularCostoReg(theta2, X2, y2, lambda_))\n",
        "    return theta2, J_history2\n"
      ],
      "metadata": {
        "id": "DXDgQkf4Dvm1"
      },
      "execution_count": null,
      "outputs": []
    },
    {
      "cell_type": "markdown",
      "source": [
        "**Calculo las thetas para ambos casos**"
      ],
      "metadata": {
        "id": "If_QyNwimmaD"
      }
    },
    {
      "cell_type": "code",
      "source": [
        "alpha2 = 0.001\n",
        "num_iters2 = 100\n",
        "lambda_2 = 0.1\n",
        "\n",
        "theta2 = np.zeros(22)\n",
        "theta2, J_history2 = descensoGradiente(theta2, X2, y2, alpha2, num_iters2)\n",
        "theta2reg, J_historyreg = descensoGradienteReg(theta2, X2, y2, alpha2, num_iters2, lambda_2)\n",
        "\n",
        "pyplot.plot(np.arange(len(J_historyreg)), J_historyreg, label='Sin Regularización')\n",
        "pyplot.plot(np.arange(len(J_historyreg)), J_historyreg, label='Con Regularización')\n",
        "pyplot.xlabel('Numero de iteraciones')\n",
        "pyplot.ylabel('Costo J')\n",
        "pyplot.show()\n",
        "\n",
        "print('theta calculado por el descenso por el gradiente sin regularización:', theta2)\n",
        "print('theta calculado por el descenso por el gradiente con regularización:', theta2reg)\n"
      ],
      "metadata": {
        "colab": {
          "base_uri": "https://localhost:8080/",
          "height": 668
        },
        "id": "ItCwkbDybz1V",
        "outputId": "6588b82e-d388-46d1-c0d8-270fc578d813"
      },
      "execution_count": null,
      "outputs": [
        {
          "output_type": "display_data",
          "data": {
            "text/plain": [
              "<Figure size 640x480 with 1 Axes>"
            ],
            "image/png": "[encoded data removed]"
          },
          "metadata": {}
        },
        {
          "output_type": "stream",
          "name": "stdout",
          "text": [
            "theta calculado por el descenso por el gradiente sin regularización: [-3.52878555e-03  1.85887601e-03  1.30423879e-03 -3.12367573e-03\n",
            " -6.92833805e-02  5.62157050e-05  1.00907072e-03  3.07352430e-03\n",
            " -3.85385833e-03 -2.60888124e-03 -3.33729866e-03 -4.24837981e-04\n",
            " -3.21711467e-03 -6.88873276e-05 -5.64889862e-04  1.87968703e-03\n",
            "  2.56189633e-02  1.77993483e-03 -1.42376816e-04 -8.18242337e-03\n",
            " -2.06220637e-02 -2.91084787e-02]\n",
            "theta calculado por el descenso por el gradiente con regularización: [-4.67130590e-03  4.47301180e-03  3.41790082e-03 -3.96730839e-03\n",
            " -7.18851081e-02  9.63465592e-04  2.02204770e-03  6.50863856e-03\n",
            " -5.62301429e-03 -3.63139410e-03 -4.64239035e-03 -6.98662437e-04\n",
            " -4.15384524e-03 -5.75222769e-05  3.22164899e-03  2.62530246e-03\n",
            "  3.87695707e-02  3.46507633e-03  8.33261978e-04  1.08409588e-03\n",
            " -2.85604063e-02 -4.16038359e-02]\n"
          ]
        }
      ]
    },
    {
      "cell_type": "markdown",
      "source": [
        "**Defino la función predict para hacer las predicciones**"
      ],
      "metadata": {
        "id": "T3fepH2XmrSr"
      }
    },
    {
      "cell_type": "code",
      "source": [
        "def predict(theta2, X2):\n",
        "    m2 = X2.shape[0]\n",
        "    p2 = np.zeros(m2)\n",
        "    p2 = np.round(sigmoid(X2.dot(theta2.T)))\n",
        "    return p2"
      ],
      "metadata": {
        "id": "Xs903Kz-cCU5"
      },
      "execution_count": null,
      "outputs": []
    },
    {
      "cell_type": "markdown",
      "source": [
        "**Calculamos la precisión con y sin regularización**\n",
        "\n",
        "Se obtuvo la misma precisión para ambos casos"
      ],
      "metadata": {
        "id": "sLh7Nbbdm1Tl"
      }
    },
    {
      "cell_type": "code",
      "source": [
        "p2reg = predict(theta2reg, X2)\n",
        "print('Precisión con regularizacion: {:.2f} %'.format(np.mean(p2reg == y2) * 100))\n",
        "p2 = predict(theta2, X2)\n",
        "print('Precisión sin regularizacion: {:.2f} %'.format(np.mean(p2 == y2) * 100))"
      ],
      "metadata": {
        "colab": {
          "base_uri": "https://localhost:8080/"
        },
        "id": "AYbvpNEJE6jw",
        "outputId": "0de384fb-83b1-4893-b411-541acb7bdefc"
      },
      "execution_count": null,
      "outputs": [
        {
          "output_type": "stream",
          "name": "stdout",
          "text": [
            "Precisión con regularizacion: 90.58 %\n",
            "Precisión sin regularizacion: 90.58 %\n"
          ]
        }
      ]
    },
    {
      "cell_type": "markdown",
      "source": [
        "**Hacemos las prediccion con y sin regularización**\n",
        "\n",
        "Hay una leve diferencia en los resultados siendo el resultado con regularización el mayor"
      ],
      "metadata": {
        "id": "9c976qatnE8l"
      }
    },
    {
      "cell_type": "code",
      "source": [
        "X2_array = [1,\t2,\t1,\t1,\t22,\t0\t,1,\t0,0,\t1,\t0,\t0,\t1\t,0,\t3\t,30\t,0,\t1,\t0,\t12,\t4\t,4]\n",
        "aprueba = sigmoid(np.dot(X2_array, theta2))\n",
        "\n",
        "print('Predicciones de muerte por ataque al corazon sin regularización:{:.4f}'.format(aprueba))\n",
        "\n",
        "aprueba = sigmoid(np.dot(X2_array, theta2reg))\n",
        "\n",
        "print('Predicciones de muerte por ataque al corazon con regularización:{:.4f}'.format(aprueba))"
      ],
      "metadata": {
        "colab": {
          "base_uri": "https://localhost:8080/"
        },
        "id": "WTQ4kfJgcMlQ",
        "outputId": "0e665494-3811-450b-c948-9ab44dec9c3e"
      },
      "execution_count": null,
      "outputs": [
        {
          "output_type": "stream",
          "name": "stdout",
          "text": [
            "Predicciones de muerte por ataque al corazon sin regularización:0.1454\n",
            "Predicciones de muerte por ataque al corazon con regularización:0.1469\n"
          ]
        }
      ]
    },
    {
      "cell_type": "markdown",
      "source": [
        "# **Dataset \"Letter Recognition\" para clasificación multiclase**\n",
        "\n",
        "Y = letter"
      ],
      "metadata": {
        "id": "16DUQ0jK9fpK"
      }
    },
    {
      "cell_type": "code",
      "source": [
        "url = \"/content/drive/MyDrive/SIS420/Lab4/letter-recognition.csv\"\n",
        "dataframe3 = pd.read_csv(url)\n",
        "print(dataframe3)"
      ],
      "metadata": {
        "colab": {
          "base_uri": "https://localhost:8080/"
        },
        "id": "ix7BOJfF96n5",
        "outputId": "fa25e3a2-2c17-494d-89fb-e3d9f515c968"
      },
      "execution_count": null,
      "outputs": [
        {
          "output_type": "stream",
          "name": "stdout",
          "text": [
            "      letter  xbox   ybox   width   height  onpix   xbar   ybar   x2bar  \\\n",
            "0          T      2      8       3       5       1      8     13      0   \n",
            "1          I      5     12       3       7       2     10      5      5   \n",
            "2          D      4     11       6       8       6     10      6      2   \n",
            "3          N      7     11       6       6       3      5      9      4   \n",
            "4          G      2      1       3       1       1      8      6      6   \n",
            "...      ...    ...    ...     ...     ...     ...    ...    ...    ...   \n",
            "19995      D      2      2       3       3       2      7      7      7   \n",
            "19996      C      7     10       8       8       4      4      8      6   \n",
            "19997      T      6      9       6       7       5      6     11      3   \n",
            "19998      S      2      3       4       2       1      8      7      2   \n",
            "19999      A      4      9       6       6       2      9      5      3   \n",
            "\n",
            "       y2bar   xybar   x2ybar  xy2bar  xedge   xedgey  yedge   yedgex  \n",
            "0           6       6      10       8       0       8       0       8  \n",
            "1           4      13       3       9       2       8       4      10  \n",
            "2           6      10       3       7       3       7       3       9  \n",
            "3           6       4       4      10       6      10       2       8  \n",
            "4           6       6       5       9       1       7       5      10  \n",
            "...       ...     ...     ...     ...     ...     ...     ...     ...  \n",
            "19995       6       6       6       4       2       8       3       7  \n",
            "19996       9      12       9      13       2       9       3       7  \n",
            "19997       7      11       9       5       2      12       2       4  \n",
            "19998       6      10       6       8       1       9       5       8  \n",
            "19999       1       8       1       8       2       7       2       8  \n",
            "\n",
            "[20000 rows x 17 columns]\n"
          ]
        }
      ]
    },
    {
      "cell_type": "code",
      "source": [
        "print(dataframe3.describe())"
      ],
      "metadata": {
        "colab": {
          "base_uri": "https://localhost:8080/"
        },
        "id": "0aQ9ZGoX-mKJ",
        "outputId": "d4c52ac3-aa51-4283-f266-39750f52b7ff"
      },
      "execution_count": null,
      "outputs": [
        {
          "output_type": "stream",
          "name": "stdout",
          "text": [
            "              xbox          ybox         width        height        onpix   \\\n",
            "count  20000.000000  20000.000000  20000.000000  20000.00000  20000.000000   \n",
            "mean       4.023550      7.035500      5.121850      5.37245      3.505850   \n",
            "std        1.913212      3.304555      2.014573      2.26139      2.190458   \n",
            "min        0.000000      0.000000      0.000000      0.00000      0.000000   \n",
            "25%        3.000000      5.000000      4.000000      4.00000      2.000000   \n",
            "50%        4.000000      7.000000      5.000000      6.00000      3.000000   \n",
            "75%        5.000000      9.000000      6.000000      7.00000      5.000000   \n",
            "max       15.000000     15.000000     15.000000     15.00000     15.000000   \n",
            "\n",
            "              xbar          ybar          x2bar        y2bar         xybar   \\\n",
            "count  20000.000000  20000.000000  20000.000000  20000.000000  20000.000000   \n",
            "mean       6.897600      7.500450      4.628600      5.178650      8.282050   \n",
            "std        2.026035      2.325354      2.699968      2.380823      2.488475   \n",
            "min        0.000000      0.000000      0.000000      0.000000      0.000000   \n",
            "25%        6.000000      6.000000      3.000000      4.000000      7.000000   \n",
            "50%        7.000000      7.000000      4.000000      5.000000      8.000000   \n",
            "75%        8.000000      9.000000      6.000000      7.000000     10.000000   \n",
            "max       15.000000     15.000000     15.000000     15.000000     15.000000   \n",
            "\n",
            "            x2ybar        xy2bar        xedge         xedgey        yedge   \\\n",
            "count  20000.00000  20000.000000  20000.000000  20000.000000  20000.000000   \n",
            "mean       6.45400      7.929000      3.046100      8.338850      3.691750   \n",
            "std        2.63107      2.080619      2.332541      1.546722      2.567073   \n",
            "min        0.00000      0.000000      0.000000      0.000000      0.000000   \n",
            "25%        5.00000      7.000000      1.000000      8.000000      2.000000   \n",
            "50%        6.00000      8.000000      3.000000      8.000000      3.000000   \n",
            "75%        8.00000      9.000000      4.000000      9.000000      5.000000   \n",
            "max       15.00000     15.000000     15.000000     15.000000     15.000000   \n",
            "\n",
            "            yedgex  \n",
            "count  20000.00000  \n",
            "mean       7.80120  \n",
            "std        1.61747  \n",
            "min        0.00000  \n",
            "25%        7.00000  \n",
            "50%        8.00000  \n",
            "75%        9.00000  \n",
            "max       15.00000  \n"
          ]
        }
      ]
    },
    {
      "cell_type": "markdown",
      "source": [
        "**No hay valores nulos en el dataset**"
      ],
      "metadata": {
        "id": "km9GowLJA_js"
      }
    },
    {
      "cell_type": "markdown",
      "source": [
        "**Modificación de valores**\n",
        "\n",
        "En mi dataset la primera columna \"letter\" tenia valores de texto desde la A - Z que no son compatibles con el modelo\n",
        "\n",
        "Modifico todas las letras cambiandolas por un valor numérico del 1 al 26 que representa el numero de clase"
      ],
      "metadata": {
        "id": "ShbEo_CIlO5_"
      }
    },
    {
      "cell_type": "code",
      "source": [
        "mapeo_letras = {'A': 1, 'B': 2, 'C': 3, 'D': 4, 'E': 5, 'F': 6, 'G': 7, 'H': 8, 'I': 9, 'J': 10,\n",
        "                'K': 11, 'L': 12, 'M': 13, 'N': 14, 'O': 15, 'P': 16, 'Q': 17, 'R': 18, 'S': 19,\n",
        "                'T': 20, 'U': 21, 'V': 22, 'W': 23, 'X': 24, 'Y': 25, 'Z': 26}\n",
        "dataframe3['letter'] = dataframe3['letter'].map(mapeo_letras)\n",
        "\n",
        "# Imprimo el DataFrame resultante con la columna 'letter' modificada\n",
        "print(dataframe3)"
      ],
      "metadata": {
        "colab": {
          "base_uri": "https://localhost:8080/"
        },
        "id": "YU7x82MxgmHc",
        "outputId": "b97c2971-4785-4fb1-bf52-a6e7148a2ac9"
      },
      "execution_count": null,
      "outputs": [
        {
          "output_type": "stream",
          "name": "stdout",
          "text": [
            "       letter  xbox   ybox   width   height  onpix   xbar   ybar   x2bar  \\\n",
            "0          20      2      8       3       5       1      8     13      0   \n",
            "1           9      5     12       3       7       2     10      5      5   \n",
            "2           4      4     11       6       8       6     10      6      2   \n",
            "3          14      7     11       6       6       3      5      9      4   \n",
            "4           7      2      1       3       1       1      8      6      6   \n",
            "...       ...    ...    ...     ...     ...     ...    ...    ...    ...   \n",
            "19995       4      2      2       3       3       2      7      7      7   \n",
            "19996       3      7     10       8       8       4      4      8      6   \n",
            "19997      20      6      9       6       7       5      6     11      3   \n",
            "19998      19      2      3       4       2       1      8      7      2   \n",
            "19999       1      4      9       6       6       2      9      5      3   \n",
            "\n",
            "       y2bar   xybar   x2ybar  xy2bar  xedge   xedgey  yedge   yedgex  \n",
            "0           6       6      10       8       0       8       0       8  \n",
            "1           4      13       3       9       2       8       4      10  \n",
            "2           6      10       3       7       3       7       3       9  \n",
            "3           6       4       4      10       6      10       2       8  \n",
            "4           6       6       5       9       1       7       5      10  \n",
            "...       ...     ...     ...     ...     ...     ...     ...     ...  \n",
            "19995       6       6       6       4       2       8       3       7  \n",
            "19996       9      12       9      13       2       9       3       7  \n",
            "19997       7      11       9       5       2      12       2       4  \n",
            "19998       6      10       6       8       1       9       5       8  \n",
            "19999       1       8       1       8       2       7       2       8  \n",
            "\n",
            "[20000 rows x 17 columns]\n"
          ]
        }
      ]
    },
    {
      "cell_type": "markdown",
      "source": [
        "**Convertir el dataset modificado en PANDAS**\n",
        "\n",
        "Usare la variable data para convertir el dataset a un array compatible con numpy que guarde solo los valore"
      ],
      "metadata": {
        "id": "k5AmhUoqlRHn"
      }
    },
    {
      "cell_type": "code",
      "source": [
        "data3 = dataframe3.values\n",
        "X3, y3 = data3[:, 1:], data3[:, 0]\n",
        "print(X3.shape)\n",
        "print(y3.shape)"
      ],
      "metadata": {
        "colab": {
          "base_uri": "https://localhost:8080/"
        },
        "id": "dPED11awgrSr",
        "outputId": "971db733-97af-4e11-82e1-6aba0c6c7623"
      },
      "execution_count": null,
      "outputs": [
        {
          "output_type": "stream",
          "name": "stdout",
          "text": [
            "(20000, 16)\n",
            "(20000,)\n"
          ]
        }
      ]
    },
    {
      "cell_type": "code",
      "source": [
        "print(y3)"
      ],
      "metadata": {
        "colab": {
          "base_uri": "https://localhost:8080/"
        },
        "id": "gdVrMBdug0q2",
        "outputId": "85a778ea-9f7e-46f3-f073-7ca0677ced3a"
      },
      "execution_count": null,
      "outputs": [
        {
          "output_type": "stream",
          "name": "stdout",
          "text": [
            "[20  9  4 ... 20 19  1]\n"
          ]
        }
      ]
    },
    {
      "cell_type": "markdown",
      "source": [
        "**Defino variables que coincidan con mi dataset para usarlas en las funciones**"
      ],
      "metadata": {
        "id": "Bql8BSkBlTZu"
      }
    },
    {
      "cell_type": "code",
      "source": [
        "input_layer_size  = 17\n",
        "num_labels3 = 26\n",
        "m3 = y3.size"
      ],
      "metadata": {
        "id": "xxraTLPig9OL"
      },
      "execution_count": null,
      "outputs": []
    },
    {
      "cell_type": "markdown",
      "source": [
        "**Separo el dataset en 2 805 para el entrenamiento y 20% para el test**"
      ],
      "metadata": {
        "id": "Sx7g4fHMmQV4"
      }
    },
    {
      "cell_type": "code",
      "source": [
        "X_train3, X_test3, y_train3, y_test3 = train_test_split(X3, y3, test_size=0.2, random_state=50)\n",
        "print(X_train3.shape)\n",
        "print(X_test3.shape)"
      ],
      "metadata": {
        "colab": {
          "base_uri": "https://localhost:8080/"
        },
        "id": "zhlP0H5DKd9v",
        "outputId": "e3886377-80f7-486d-cc67-a9ca3c6798fb"
      },
      "execution_count": null,
      "outputs": [
        {
          "output_type": "stream",
          "name": "stdout",
          "text": [
            "(16000, 16)\n",
            "(4000, 16)\n"
          ]
        }
      ]
    },
    {
      "cell_type": "markdown",
      "source": [
        "**Defino la funcion para calcular la sigmoide **"
      ],
      "metadata": {
        "id": "JEwjweETlV3v"
      }
    },
    {
      "cell_type": "code",
      "source": [
        "def calcularSigmoide(z3):\n",
        "    return 1.0 / (1.0 + np.exp(-z3))"
      ],
      "metadata": {
        "id": "nVS25VZFhBOz"
      },
      "execution_count": null,
      "outputs": []
    },
    {
      "cell_type": "markdown",
      "source": [
        "**Defino la funcion calcularCosto con y sin regularización**"
      ],
      "metadata": {
        "id": "NwOHrrxtkbam"
      }
    },
    {
      "cell_type": "code",
      "source": [
        "def calcularCostoReg(theta3, X3, y3, lambda_3):\n",
        "    m3 = y3.size\n",
        "\n",
        "    if y3.dtype == bool:\n",
        "        y3 = y3.astype(int)\n",
        "\n",
        "    J3 = 0\n",
        "    grad3 = np.zeros(theta3.shape)\n",
        "\n",
        "    h3 = calcularSigmoide(X3.dot(theta3.T))\n",
        "\n",
        "    temp = theta3\n",
        "    temp[0] = 0\n",
        "\n",
        "    J3 = (1 / m3) * np.sum(-y3.dot(np.log(h3)) - (1 - y3).dot(np.log(1 - h3))) + (lambda_3 / (2 * m3)) * np.sum(np.square(temp))\n",
        "\n",
        "    grad3 = (1 / m3) * (h3 - y3).dot(X3)\n",
        "\n",
        "    grad3 = grad3 + (lambda_3 / m3) * temp\n",
        "\n",
        "    return J3, grad3"
      ],
      "metadata": {
        "id": "oOrU_odXfOw7"
      },
      "execution_count": null,
      "outputs": []
    },
    {
      "cell_type": "code",
      "source": [
        "def calcularCosto(theta3, X3, y3):\n",
        "    m3 = y3.size\n",
        "\n",
        "    if y3.dtype == bool:\n",
        "        y3 = y3.astype(int)\n",
        "\n",
        "    J3 = 0\n",
        "    grad3 = np.zeros(theta3.shape)\n",
        "\n",
        "    h3 = calcularSigmoide(X3.dot(theta3.T))\n",
        "\n",
        "    J3 = (1 / m3) * np.sum(-y3.dot(np.log(h3)) - (1 - y3).dot(np.log(1 - h3)))\n",
        "\n",
        "    grad3 = (1 / m3) * (h3 - y3).dot(X3)\n",
        "\n",
        "    return J3, grad3"
      ],
      "metadata": {
        "id": "L6wv8AHhiwdi"
      },
      "execution_count": null,
      "outputs": []
    },
    {
      "cell_type": "markdown",
      "source": [
        "**Defino una theta de prueba**"
      ],
      "metadata": {
        "id": "Qu4BhZniljKi"
      }
    },
    {
      "cell_type": "code",
      "source": [
        "\n",
        "theta_t = np.array([0.5, 0.2, 0.8, 0.3, 0.1,0.4, 0.7, 0.1, 0.2, 0.5, 0.6, 0.6, 0.3, 0.7, 0.4, 0.8,0.9], dtype=float)\n",
        "\n",
        "X_t = np.concatenate((np.ones((15, 17)), np.arange(1, 16).reshape(15, 1, order='F')/10.0), axis=1)\n",
        "\n",
        "X_t = np.concatenate((np.ones((20000, 1)), np.random.rand(20000, 16)), axis=1)\n",
        "print(X_t)\n",
        "\n",
        "y_t = np.random.randint(0, 26, 20000)\n",
        "\n",
        "lambda_3 = 0.2"
      ],
      "metadata": {
        "colab": {
          "base_uri": "https://localhost:8080/"
        },
        "id": "9gUZEX7TfQKE",
        "outputId": "028a4cd3-949b-428c-8679-2c38e7935ba9"
      },
      "execution_count": null,
      "outputs": [
        {
          "output_type": "stream",
          "name": "stdout",
          "text": [
            "[[1.         0.54808371 0.0298568  ... 0.27941346 0.88363884 0.82062196]\n",
            " [1.         0.01418573 0.75137529 ... 0.46328996 0.36671866 0.75329962]\n",
            " [1.         0.45535917 0.78090019 ... 0.68718846 0.25117908 0.56979285]\n",
            " ...\n",
            " [1.         0.74376778 0.78130867 ... 0.28267516 0.82654125 0.20223707]\n",
            " [1.         0.29680453 0.03084294 ... 0.9640902  0.21420032 0.15289034]\n",
            " [1.         0.14703864 0.25520454 ... 0.9897025  0.66920596 0.7515609 ]]\n"
          ]
        }
      ]
    },
    {
      "cell_type": "code",
      "source": [
        "J3reg, grad3reg = calcularCostoReg(theta_t, X_t, y_t, lambda_3)\n",
        "J3, grad3 = calcularCosto(theta_t, X_t, y_t)\n",
        "print('Costo         : {:.6f}'.format(J3))\n",
        "print('Costo         : {:.6f}'.format(J3reg))\n",
        "print('-----------------------')\n",
        "print('Gradientes:')\n",
        "print(' [{:.6f}, {:.6f}, {:.6f}, {:.6f}]'.format(*grad3))\n",
        "print(' [{:.6f}, {:.6f}, {:.6f}, {:.6f}]'.format(*grad3reg))"
      ],
      "metadata": {
        "colab": {
          "base_uri": "https://localhost:8080/"
        },
        "id": "DteNSK19fRmy",
        "outputId": "8012f8ca-8667-4cd1-a287-e95823c7a411"
      },
      "execution_count": null,
      "outputs": [
        {
          "output_type": "stream",
          "name": "stdout",
          "text": [
            "Costo         : -43.541195\n",
            "Costo         : -49.264709\n",
            "-----------------------\n",
            "Gradientes:\n",
            " [-11.452416, -5.746086, -5.761740, -5.803620]\n",
            " [-11.442507, -5.741274, -5.757371, -5.798868]\n"
          ]
        }
      ]
    },
    {
      "cell_type": "markdown",
      "source": [
        "Se logra ver una leve diferencia con un theta de prueba"
      ],
      "metadata": {
        "id": "D9EPKsQ3kjc8"
      }
    },
    {
      "cell_type": "markdown",
      "source": [
        "**Defino la funcion oneVsAll con y sin regularizar**"
      ],
      "metadata": {
        "id": "7F8eIU3vlnix"
      }
    },
    {
      "cell_type": "code",
      "source": [
        "def oneVsAllReg(X3, y3, num_labels3, lambda_3):\n",
        "\n",
        "    m3, n3 = X3.shape\n",
        "    all_theta3 = np.zeros((num_labels3, n3 + 1))\n",
        "    X3 = np.concatenate([np.ones((m3, 1)), X3], axis=1)\n",
        "\n",
        "    for c in np.arange(num_labels3):\n",
        "        initial_theta3 = np.zeros(n3 + 1)\n",
        "        options = {'maxiter': 5000}\n",
        "        res3 = optimize.minimize(calcularCostoReg,\n",
        "                                initial_theta3,\n",
        "                                (X3, (y3 == (c + 1)), lambda_3),\n",
        "                                jac=True,\n",
        "                                method='BFGS',\n",
        "                                options=options)\n",
        "        all_theta3[c] = res3.x\n",
        "    return all_theta3\n"
      ],
      "metadata": {
        "id": "r67YBvaKfS5V"
      },
      "execution_count": null,
      "outputs": []
    },
    {
      "cell_type": "code",
      "source": [
        "def oneVsAll(X3, y3, num_labels3):\n",
        "\n",
        "    m3, n3 = X3.shape\n",
        "    all_theta3 = np.zeros((num_labels3, n3 + 1))\n",
        "    X3 = np.concatenate([np.ones((m3, 1)), X3], axis=1)\n",
        "\n",
        "    for c in np.arange(num_labels3):\n",
        "        initial_theta3 = np.zeros(n3 + 1)\n",
        "        options = {'maxiter': 5000}\n",
        "        res3 = optimize.minimize(calcularCosto,\n",
        "                                initial_theta3,\n",
        "                                (X3, (y3 == (c + 1))),\n",
        "                                jac=True,\n",
        "                                method='BFGS',\n",
        "                                options=options)\n",
        "        all_theta3[c] = res3.x\n",
        "    return all_theta3"
      ],
      "metadata": {
        "id": "f1QFsUuDjcth"
      },
      "execution_count": null,
      "outputs": []
    },
    {
      "cell_type": "markdown",
      "source": [
        "**Calculamos las thetas con y sin regularización**"
      ],
      "metadata": {
        "id": "XLEKbLM0lD3m"
      }
    },
    {
      "cell_type": "code",
      "source": [
        "lambda_3 = 0.2\n",
        "all_theta3 = oneVsAllReg(X3, y3, num_labels3, lambda_3)\n",
        "thetasinreg3 = oneVsAll(X3, y3, num_labels3)"
      ],
      "metadata": {
        "id": "HrX3G24MfUX0"
      },
      "execution_count": null,
      "outputs": []
    },
    {
      "cell_type": "markdown",
      "source": [
        "**Defino la funcion predictOneVsAll con y sin regularizar**"
      ],
      "metadata": {
        "id": "_aPwM0TgluxV"
      }
    },
    {
      "cell_type": "code",
      "source": [
        "def predictOneVsAllReg(all_theta3, X3):\n",
        "    m3 = X3.shape[0];\n",
        "    num_labels3 = all_theta3.shape[0]\n",
        "\n",
        "    p3 = np.zeros(m3)\n",
        "\n",
        "    # Add ones to the X data matrix\n",
        "    X3 = np.concatenate([np.ones((m3, 1)), X3], axis=1)\n",
        "    p3 = np.argmax(calcularSigmoide(X3.dot(all_theta3.T)), axis = 1)\n",
        "\n",
        "    return p3 + 1"
      ],
      "metadata": {
        "id": "BQ4mjxxjfWCd"
      },
      "execution_count": null,
      "outputs": []
    },
    {
      "cell_type": "code",
      "source": [
        "def predictOneVsAll(thetasinreg3, X3):\n",
        "    m3 = X3.shape[0];\n",
        "    num_labels3 = all_theta3.shape[0]\n",
        "\n",
        "    p3 = np.zeros(m3)\n",
        "\n",
        "    # Add ones to the X data matrix\n",
        "    X3 = np.concatenate([np.ones((m3, 1)), X3], axis=1)\n",
        "    p3 = np.argmax(calcularSigmoide(X3.dot(all_theta3.T)), axis = 1)\n",
        "\n",
        "    return p3 + 1"
      ],
      "metadata": {
        "id": "mB6_1qI-jyFA"
      },
      "execution_count": null,
      "outputs": []
    },
    {
      "cell_type": "markdown",
      "source": [
        "**Probamos la precision y hacemos predicciones**"
      ],
      "metadata": {
        "id": "3KQeC5WwkrQ-"
      }
    },
    {
      "cell_type": "code",
      "source": [
        "pred_train = predictOneVsAllReg(all_theta3, X_train3)\n",
        "pred_trainsinreg = predictOneVsAllReg(thetasinreg3, X_train3)\n",
        "#calculamos la precisión del entrenamiento (80%)\n",
        "precision_entrenamiento = np.mean(pred_train == y_train3) * 100\n",
        "precision_entrenamientosinreg = np.mean(pred_trainsinreg == y_train3) * 100\n",
        "print('Precisión del conjunto de entrenamiento con regularización: {:.2f}%'.format(precision_entrenamiento))\n",
        "print('Precisión del conjunto de entrenamiento sin regularización: {:.2f}%'.format(precision_entrenamientosinreg))\n",
        "\n",
        "XPrueba = X_test3[:100].copy()\n",
        "yPrueba = y_test3.copy()\n",
        "#concatenamos la columna de unos a XPrueba\n",
        "XPrueba = np.concatenate((np.ones((100, 1)), XPrueba), axis=1)\n",
        "print(XPrueba)\n",
        "#Hacemos las predicciones del test (20%)\n",
        "pred_prueba = np.argmax(calcularSigmoide(XPrueba.dot(all_theta3.T)), axis=1)\n",
        "pred_pruebasinreg = np.argmax(calcularSigmoide(XPrueba.dot(thetasinreg3.T)), axis=1)\n",
        "\n",
        "print('Predicciones en el conjunto de prueba con regularización:')\n",
        "print(pred_prueba + 1)\n",
        "print('Predicciones en el conjunto de prueba sin regularización:')\n",
        "print(pred_pruebasinreg + 1)"
      ],
      "metadata": {
        "colab": {
          "base_uri": "https://localhost:8080/"
        },
        "id": "J_e5OXYEfY6p",
        "outputId": "4d547ceb-f11b-4376-abd5-9b732aa731f3"
      },
      "execution_count": null,
      "outputs": [
        {
          "output_type": "stream",
          "name": "stdout",
          "text": [
            "Precisión del conjunto de entrenamiento con regularización: 73.12%\n",
            "Precisión del conjunto de entrenamiento sin regularización: 73.12%\n",
            "[[ 1.  3.  8. ...  8.  7.  7.]\n",
            " [ 1.  2.  7. ...  6.  0.  8.]\n",
            " [ 1.  2.  4. ... 10.  2.  5.]\n",
            " ...\n",
            " [ 1.  1.  3. ...  8.  1.  8.]\n",
            " [ 1.  2.  0. ...  8.  0.  8.]\n",
            " [ 1.  3.  6. ...  7.  7.  8.]]\n",
            "Predicciones en el conjunto de prueba con regularización:\n",
            "[ 5 10 20 22 12 15 14  6  7 10  4 11  2 19  3 23 21  9  7 14  5 22 24  7\n",
            " 25 21 12  8 16 13 13  6 11  8 17 14 19  1 20  3 16  3  2 25  7  9 17  2\n",
            "  3  3 20  7 20  3 26 21 11 18 13 20  3 17  8 24  4 13 21  8  3 11  9 18\n",
            " 15 11 26  1  3 21  9 20  4  3  1 10 12 23 22  3 25 25 17 13 26 23 21 23\n",
            " 11  9 12 18]\n",
            "Predicciones en el conjunto de prueba sin regularización:\n",
            "[ 5 10 20 22 12 15 14  6  7 10  4 11  2 19  3 23 21  9  7 14  5 22 24  7\n",
            " 25 21 12  8 16 13 13  6 11  8 17 14 19  1 20  3 16  3  2 25  7  9 17  2\n",
            "  3  3 20  7 20  3 26 21 11 18 13 20  3 17  8 24  4 13 21  8  3 11  9 18\n",
            " 15 11 26  1  3 21  9 20  4  3  1 10 12 23 22  3 25 25 17 13 26 23 21 23\n",
            " 11  9 12 18]\n"
          ]
        }
      ]
    },
    {
      "cell_type": "markdown",
      "source": [
        "**Con o sin regularización se consiguió la misma precisión y predicciones**"
      ],
      "metadata": {
        "id": "Ay7FvxpakyzX"
      }
    }
  ]
}