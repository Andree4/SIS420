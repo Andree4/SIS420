{
  "nbformat": 4,
  "nbformat_minor": 0,
  "metadata": {
    "colab": {
      "provenance": []
    },
    "kernelspec": {
      "name": "python3",
      "display_name": "Python 3"
    },
    "language_info": {
      "name": "python"
    }
  },
  "cells": [
    {
      "cell_type": "markdown",
      "source": [
        "**Primer Parcial Sis420**\n",
        "\n",
        "Arancibia Aguilar Daniel Andree\n",
        "\n",
        "En este cuadernillo haré el procesado en PANDAS de los datasets que me tocaron\n",
        "\n",
        "Dataset 1 = https://data.world/uci/adult\n",
        "\n",
        "Dataset 2 = https://www.kaggle.com/datasets/boyangs444/process-data-for-predictive-maintenance?select=manual_30min_norm.csv\n",
        "\n",
        "El primero según mi análisis corresponde a un modelo de regresión logística de clasificación binaria\n",
        "\n",
        "El segundo corresponde a un modelo de regresión polinomial"
      ],
      "metadata": {
        "id": "XgFE5yUbkp1n"
      }
    },
    {
      "cell_type": "code",
      "execution_count": 359,
      "metadata": {
        "colab": {
          "base_uri": "https://localhost:8080/"
        },
        "id": "yr9LSVmkWCz-",
        "outputId": "872816e5-785e-4133-e465-3657a3de879d"
      },
      "outputs": [
        {
          "output_type": "stream",
          "name": "stdout",
          "text": [
            "Drive already mounted at /content/drive; to attempt to forcibly remount, call drive.mount(\"/content/drive\", force_remount=True).\n"
          ]
        }
      ],
      "source": [
        "from google.colab import drive\n",
        "drive.mount('/content/drive')"
      ]
    },
    {
      "cell_type": "code",
      "source": [
        "#Se importan las librerías necesarias para los modelos\n",
        "import os\n",
        "import pandas as pd\n",
        "import numpy as np\n",
        "from sklearn.preprocessing import StandardScaler\n",
        "from sklearn.model_selection import train_test_split\n",
        "from matplotlib import pyplot\n",
        "%matplotlib inline"
      ],
      "metadata": {
        "id": "d1IvwtuaWgDF"
      },
      "execution_count": 406,
      "outputs": []
    },
    {
      "cell_type": "markdown",
      "source": [
        "# **DATASET 1 - Modelo Regresión Logística Clasificación Binaria**"
      ],
      "metadata": {
        "id": "A5oX7y00ewro"
      }
    },
    {
      "cell_type": "markdown",
      "source": [
        "Variables de entrada (X):\n",
        "\n",
        "age\n",
        "workclass\n",
        "fnlwgt\n",
        "education\n",
        "education-num\n",
        "marital-status\n",
        "occupation\n",
        "relationship\n",
        "race\n",
        "sex\n",
        "capital-gain\n",
        "capital-loss\n",
        "hours-per-week\n",
        "native-country\n",
        "\n",
        "Variable de salida (Y):\n",
        "\n",
        "annual income (Ingreso anual >50k, <=50k)"
      ],
      "metadata": {
        "id": "qi4de8NU2kPN"
      }
    },
    {
      "cell_type": "code",
      "source": [
        "url = \"/content/drive/MyDrive/SIS420/Primer Parcial SIS420/adult.data.csv\"\n",
        "dataframe = pd.read_csv(url)\n",
        "print(dataframe)"
      ],
      "metadata": {
        "colab": {
          "base_uri": "https://localhost:8080/"
        },
        "id": "eynW0VSMWdXo",
        "outputId": "8f64b85f-bbbc-4f52-8ad9-bc8ec178605f"
      },
      "execution_count": 361,
      "outputs": [
        {
          "output_type": "stream",
          "name": "stdout",
          "text": [
            "       age          workclass  fnlwgt    education  education-num  \\\n",
            "0       39          State-gov   77516    Bachelors             13   \n",
            "1       50   Self-emp-not-inc   83311    Bachelors             13   \n",
            "2       38            Private  215646      HS-grad              9   \n",
            "3       53            Private  234721         11th              7   \n",
            "4       28            Private  338409    Bachelors             13   \n",
            "...    ...                ...     ...          ...            ...   \n",
            "32556   27            Private  257302   Assoc-acdm             12   \n",
            "32557   40            Private  154374      HS-grad              9   \n",
            "32558   58            Private  151910      HS-grad              9   \n",
            "32559   22            Private  201490      HS-grad              9   \n",
            "32560   52       Self-emp-inc  287927      HS-grad              9   \n",
            "\n",
            "            marital-status          occupation    relationship    race  \\\n",
            "0            Never-married        Adm-clerical   Not-in-family   White   \n",
            "1       Married-civ-spouse     Exec-managerial         Husband   White   \n",
            "2                 Divorced   Handlers-cleaners   Not-in-family   White   \n",
            "3       Married-civ-spouse   Handlers-cleaners         Husband   Black   \n",
            "4       Married-civ-spouse      Prof-specialty            Wife   Black   \n",
            "...                    ...                 ...             ...     ...   \n",
            "32556   Married-civ-spouse        Tech-support            Wife   White   \n",
            "32557   Married-civ-spouse   Machine-op-inspct         Husband   White   \n",
            "32558              Widowed        Adm-clerical       Unmarried   White   \n",
            "32559        Never-married        Adm-clerical       Own-child   White   \n",
            "32560   Married-civ-spouse     Exec-managerial            Wife   White   \n",
            "\n",
            "           sex  capital-gain  capital-loss  hours-per-week  native-country  \\\n",
            "0         Male          2174             0              40   United-States   \n",
            "1         Male             0             0              13   United-States   \n",
            "2         Male             0             0              40   United-States   \n",
            "3         Male             0             0              40   United-States   \n",
            "4       Female             0             0              40            Cuba   \n",
            "...        ...           ...           ...             ...             ...   \n",
            "32556   Female             0             0              38   United-States   \n",
            "32557     Male             0             0              40   United-States   \n",
            "32558   Female             0             0              40   United-States   \n",
            "32559     Male             0             0              20   United-States   \n",
            "32560   Female         15024             0              40   United-States   \n",
            "\n",
            "      annual income  \n",
            "0             <=50K  \n",
            "1             <=50K  \n",
            "2             <=50K  \n",
            "3             <=50K  \n",
            "4             <=50K  \n",
            "...             ...  \n",
            "32556         <=50K  \n",
            "32557          >50K  \n",
            "32558         <=50K  \n",
            "32559         <=50K  \n",
            "32560          >50K  \n",
            "\n",
            "[32561 rows x 15 columns]\n"
          ]
        }
      ]
    },
    {
      "cell_type": "code",
      "source": [
        "# Convertir las columnas de texto a números\n",
        "dataframe['workclass'] = pd.factorize(dataframe['workclass'])[0]\n",
        "dataframe['education'] = pd.factorize(dataframe['education'])[0]\n",
        "dataframe['marital-status'] = pd.factorize(dataframe['marital-status'])[0]\n",
        "dataframe['occupation'] = pd.factorize(dataframe['occupation'])[0]\n",
        "dataframe['relationship'] = pd.factorize(dataframe['relationship'])[0]\n",
        "dataframe['race'] = pd.factorize(dataframe['race'])[0]\n",
        "dataframe['sex'] = pd.factorize(dataframe['sex'])[0]\n",
        "dataframe['native-country'] = pd.factorize(dataframe['native-country'])[0]\n",
        "dataframe['annual income'] = pd.factorize(dataframe['annual income'])[0]\n",
        "print(dataframe)"
      ],
      "metadata": {
        "id": "VbFIV6Ijb5rg",
        "colab": {
          "base_uri": "https://localhost:8080/"
        },
        "outputId": "585b0349-1331-4a3d-b582-1d1bc7eab47b"
      },
      "execution_count": 362,
      "outputs": [
        {
          "output_type": "stream",
          "name": "stdout",
          "text": [
            "       age  workclass  fnlwgt  education  education-num  marital-status  \\\n",
            "0       39          0   77516          0             13               0   \n",
            "1       50          1   83311          0             13               1   \n",
            "2       38          2  215646          1              9               2   \n",
            "3       53          2  234721          2              7               1   \n",
            "4       28          2  338409          0             13               1   \n",
            "...    ...        ...     ...        ...            ...             ...   \n",
            "32556   27          2  257302          6             12               1   \n",
            "32557   40          2  154374          1              9               1   \n",
            "32558   58          2  151910          1              9               6   \n",
            "32559   22          2  201490          1              9               0   \n",
            "32560   52          6  287927          1              9               1   \n",
            "\n",
            "       occupation  relationship  race  sex  capital-gain  capital-loss  \\\n",
            "0               0             0     0    0          2174             0   \n",
            "1               1             1     0    0             0             0   \n",
            "2               2             0     0    0             0             0   \n",
            "3               2             1     1    0             0             0   \n",
            "4               3             2     1    1             0             0   \n",
            "...           ...           ...   ...  ...           ...           ...   \n",
            "32556          10             2     0    1             0             0   \n",
            "32557           9             1     0    0             0             0   \n",
            "32558           0             4     0    1             0             0   \n",
            "32559           0             3     0    0             0             0   \n",
            "32560           1             2     0    1         15024             0   \n",
            "\n",
            "       hours-per-week  native-country  annual income  \n",
            "0                  40               0              0  \n",
            "1                  13               0              0  \n",
            "2                  40               0              0  \n",
            "3                  40               0              0  \n",
            "4                  40               1              0  \n",
            "...               ...             ...            ...  \n",
            "32556              38               0              0  \n",
            "32557              40               0              1  \n",
            "32558              40               0              0  \n",
            "32559              20               0              0  \n",
            "32560              40               0              1  \n",
            "\n",
            "[32561 rows x 15 columns]\n"
          ]
        }
      ]
    },
    {
      "cell_type": "code",
      "source": [
        "#Se imprime la descripción de las columnas para buscar valores nulos\n",
        "print(dataframe.describe())"
      ],
      "metadata": {
        "colab": {
          "base_uri": "https://localhost:8080/"
        },
        "id": "8dmKfs2weanI",
        "outputId": "34d48b59-a127-4a29-ae38-92f1ff71e77b"
      },
      "execution_count": 363,
      "outputs": [
        {
          "output_type": "stream",
          "name": "stdout",
          "text": [
            "                age     workclass        fnlwgt     education  education-num  \\\n",
            "count  32561.000000  32561.000000  3.256100e+04  32561.000000   32561.000000   \n",
            "mean      38.581647      2.309972  1.897784e+05      3.424465      10.080679   \n",
            "std       13.640433      1.225728  1.055500e+05      3.453582       2.572720   \n",
            "min       17.000000      0.000000  1.228500e+04      0.000000       1.000000   \n",
            "25%       28.000000      2.000000  1.178270e+05      1.000000       9.000000   \n",
            "50%       37.000000      2.000000  1.783560e+05      2.000000      10.000000   \n",
            "75%       48.000000      2.000000  2.370510e+05      5.000000      12.000000   \n",
            "max       90.000000      8.000000  1.484705e+06     15.000000      16.000000   \n",
            "\n",
            "       marital-status    occupation  relationship          race           sex  \\\n",
            "count    32561.000000  32561.000000  32561.000000  32561.000000  32561.000000   \n",
            "mean         1.083781      4.666411      1.542397      0.221707      0.330795   \n",
            "std          1.251381      3.386119      1.437431      0.627348      0.470506   \n",
            "min          0.000000      0.000000      0.000000      0.000000      0.000000   \n",
            "25%          0.000000      2.000000      0.000000      0.000000      0.000000   \n",
            "50%          1.000000      4.000000      1.000000      0.000000      0.000000   \n",
            "75%          1.000000      7.000000      3.000000      0.000000      1.000000   \n",
            "max          6.000000     14.000000      5.000000      4.000000      1.000000   \n",
            "\n",
            "       capital-gain  capital-loss  hours-per-week  native-country  \\\n",
            "count  32561.000000  32561.000000    32561.000000    32561.000000   \n",
            "mean    1077.648844     87.303830       40.437456        1.290317   \n",
            "std     7385.292085    402.960219       12.347429        5.045373   \n",
            "min        0.000000      0.000000        1.000000        0.000000   \n",
            "25%        0.000000      0.000000       40.000000        0.000000   \n",
            "50%        0.000000      0.000000       40.000000        0.000000   \n",
            "75%        0.000000      0.000000       45.000000        0.000000   \n",
            "max    99999.000000   4356.000000       99.000000       41.000000   \n",
            "\n",
            "       annual income  \n",
            "count   32561.000000  \n",
            "mean        0.240810  \n",
            "std         0.427581  \n",
            "min         0.000000  \n",
            "25%         0.000000  \n",
            "50%         0.000000  \n",
            "75%         0.000000  \n",
            "max         1.000000  \n"
          ]
        }
      ]
    },
    {
      "cell_type": "markdown",
      "source": [
        "**Ya que no se encontró valores nulos y se hizo la conversión de texto a números el dataset está listo para ser usado**"
      ],
      "metadata": {
        "id": "kv5VwDky3ZFQ"
      }
    },
    {
      "cell_type": "markdown",
      "source": [
        "**Separo el dataset 80% para entrenamiento y 20% para test**"
      ],
      "metadata": {
        "id": "L_I8RreXhqIl"
      }
    },
    {
      "cell_type": "code",
      "source": [
        "X = dataframe.drop(columns=['annual income'])\n",
        "Y = dataframe['annual income']\n",
        "print(X.shape)\n",
        "print(y.shape)\n",
        "X_train, X_test, Y_train, Y_test = train_test_split(X, Y, test_size=0.2, random_state=42)\n",
        "# Normalizar características solo en los conjuntos de entrenamiento y prueba\n",
        "scaler = StandardScaler()\n",
        "X_train_scaled = scaler.fit_transform(X_train)\n",
        "X_test_scaled = scaler.transform(X_test)"
      ],
      "metadata": {
        "colab": {
          "base_uri": "https://localhost:8080/"
        },
        "id": "3ER73tzSevI-",
        "outputId": "36a4711b-4be3-4ea6-9d7d-433cf220ab1d"
      },
      "execution_count": 364,
      "outputs": [
        {
          "output_type": "stream",
          "name": "stdout",
          "text": [
            "(32561, 14)\n",
            "(32561,)\n"
          ]
        }
      ]
    },
    {
      "cell_type": "code",
      "source": [
        "print(X_train_scaled.shape)\n",
        "print(X_test_scaled.shape)"
      ],
      "metadata": {
        "colab": {
          "base_uri": "https://localhost:8080/"
        },
        "id": "8ybZJzfxiZPZ",
        "outputId": "08a3f005-9eed-476a-d30c-227c9b1834fa"
      },
      "execution_count": 365,
      "outputs": [
        {
          "output_type": "stream",
          "name": "stdout",
          "text": [
            "(26048, 14)\n",
            "(6513, 14)\n"
          ]
        }
      ]
    },
    {
      "cell_type": "markdown",
      "source": [
        "Agregar el término de intercepción (bias) a nuestras características escaladas"
      ],
      "metadata": {
        "id": "FwR3sTgy4o_D"
      }
    },
    {
      "cell_type": "code",
      "source": [
        "m_tr, n_tr = X_train_scaled.shape\n",
        "\n",
        "X_trsccn = np.concatenate([np.ones((m_tr, 1)), X_train_scaled], axis=1)\n",
        "print(X_trsccn.shape)"
      ],
      "metadata": {
        "colab": {
          "base_uri": "https://localhost:8080/"
        },
        "id": "mQGG6uAQgf42",
        "outputId": "7444796a-f014-4cea-b050-56292c80c813"
      },
      "execution_count": 366,
      "outputs": [
        {
          "output_type": "stream",
          "name": "stdout",
          "text": [
            "(26048, 15)\n"
          ]
        }
      ]
    },
    {
      "cell_type": "markdown",
      "source": [
        "**Se define la funcion sigmoid**"
      ],
      "metadata": {
        "id": "Y4LXCGe23nJt"
      }
    },
    {
      "cell_type": "code",
      "source": [
        "def sigmoid(z):\n",
        "\n",
        "    z = np.array(z)\n",
        "\n",
        "    g = np.zeros(z.shape)\n",
        "\n",
        "    g = 1 / (1 + np.exp(-z))\n",
        "\n",
        "    return g"
      ],
      "metadata": {
        "id": "635T2sG-fRtb"
      },
      "execution_count": 367,
      "outputs": []
    },
    {
      "cell_type": "code",
      "source": [
        "# Prueba la implementacion de la funcion sigmoid\n",
        "z = [0, 0.5, 1]\n",
        "g = sigmoid(z)\n",
        "\n",
        "print('g(', z, ') = ', g)"
      ],
      "metadata": {
        "colab": {
          "base_uri": "https://localhost:8080/"
        },
        "id": "xnfsni_ygGMl",
        "outputId": "ac679649-1d17-4bf1-9775-c032a31cfe83"
      },
      "execution_count": 368,
      "outputs": [
        {
          "output_type": "stream",
          "name": "stdout",
          "text": [
            "g( [0, 0.5, 1] ) =  [0.5        0.62245933 0.73105858]\n"
          ]
        }
      ]
    },
    {
      "cell_type": "markdown",
      "source": [
        "**Defino las funciones de costo y descenso por el gradiente**"
      ],
      "metadata": {
        "id": "tvmOdpUa4yAl"
      }
    },
    {
      "cell_type": "code",
      "source": [
        "def calcularCosto(theta, X, y):\n",
        "    m = y.size\n",
        "    J = 0\n",
        "    h = sigmoid(X.dot(theta.T))\n",
        "    J = (1 / m) * np.sum(-y.dot(np.log(h)) - (1 - y).dot(np.log(1 - h)))\n",
        "\n",
        "    return J"
      ],
      "metadata": {
        "id": "Ouo4FP3OgtV4"
      },
      "execution_count": 369,
      "outputs": []
    },
    {
      "cell_type": "code",
      "source": [
        "def descensoGradiente(theta, X, y, alpha, num_iters):\n",
        "    m = y.shape[0]\n",
        "    theta = theta.copy()\n",
        "    J_history = []\n",
        "    for i in range(num_iters):\n",
        "        h = sigmoid(X.dot(theta.T))\n",
        "        theta = theta - (alpha / m) * (h - y).dot(X)\n",
        "\n",
        "        J_history.append(calcularCosto(theta, X, y))\n",
        "    return theta, J_history"
      ],
      "metadata": {
        "id": "q7bxwXtggumQ"
      },
      "execution_count": 370,
      "outputs": []
    },
    {
      "cell_type": "markdown",
      "source": [
        "**Hacemos el calculo de las thetas usando los valores de entrenamiento**"
      ],
      "metadata": {
        "id": "ASQUiuar45DI"
      }
    },
    {
      "cell_type": "code",
      "source": [
        "alpha = 0.001\n",
        "num_iters = 10000\n",
        "\n",
        "theta = np.zeros(X_trsccn.shape[1])\n",
        "theta, J_history = descensoGradiente(theta, X_trsccn, Y_train, alpha, num_iters)\n",
        "\n",
        "pyplot.plot(np.arange(len(J_history)), J_history, lw=2)\n",
        "pyplot.xlabel('Numero de iteraciones')\n",
        "pyplot.ylabel('Costo J')\n",
        "\n",
        "print('theta calculado por el descenso por el gradiente: {:s}'.format(str(theta)))"
      ],
      "metadata": {
        "colab": {
          "base_uri": "https://localhost:8080/",
          "height": 504
        },
        "id": "9bsiBaofgxyN",
        "outputId": "ecc5da02-5f2e-4e4c-a682-6e6ed8ace600"
      },
      "execution_count": 371,
      "outputs": [
        {
          "output_type": "stream",
          "name": "stdout",
          "text": [
            "theta calculado por el descenso por el gradiente: [-1.09362692  0.36713441  0.08363005  0.01972694  0.01161893  0.5222469\n",
            " -0.03128525 -0.14217455 -0.13179347 -0.07951931 -0.32308529  0.4298474\n",
            "  0.19718645  0.29142717 -0.01869753]\n"
          ]
        },
        {
          "output_type": "display_data",
          "data": {
            "text/plain": [
              "<Figure size 640x480 with 1 Axes>"
            ],
            "image/png": "[encoded data removed]"
          },
          "metadata": {}
        }
      ]
    },
    {
      "cell_type": "markdown",
      "source": [
        "**Creamos la funcion predict para hacer las predicciones**"
      ],
      "metadata": {
        "id": "nL8WM4rs5CUm"
      }
    },
    {
      "cell_type": "code",
      "source": [
        "def predict(theta, X_trsccn):\n",
        "    m = X_trsccn.shape[0]\n",
        "    p = np.zeros(m)\n",
        "    p = np.round(sigmoid(X_trsccn.dot(theta.T)))\n",
        "    return p\n"
      ],
      "metadata": {
        "id": "ZTvsF9Zpkftr"
      },
      "execution_count": 372,
      "outputs": []
    },
    {
      "cell_type": "markdown",
      "source": [
        "Hacemos la prediccion"
      ],
      "metadata": {
        "id": "gxXxFrKc5NYm"
      }
    },
    {
      "cell_type": "code",
      "source": [
        "p = predict(theta, X_trsccn)\n",
        "print(p)"
      ],
      "metadata": {
        "colab": {
          "base_uri": "https://localhost:8080/"
        },
        "id": "RhII2kkDkm_R",
        "outputId": "8eab3a51-c01b-43c5-923a-172890c32435"
      },
      "execution_count": 373,
      "outputs": [
        {
          "output_type": "stream",
          "name": "stdout",
          "text": [
            "[0. 1. 0. ... 0. 0. 1.]\n"
          ]
        }
      ]
    },
    {
      "cell_type": "markdown",
      "source": [
        "Comparando con las Y originales conseguimos un porcentaje de precisión 81.53 % en el entrenamiento"
      ],
      "metadata": {
        "id": "Y9FAp5DY5QQ6"
      }
    },
    {
      "cell_type": "code",
      "source": [
        "print('Precisión de entrenamiento: {:.2f} %'.format(np.mean(p == Y_train) * 100))"
      ],
      "metadata": {
        "colab": {
          "base_uri": "https://localhost:8080/"
        },
        "id": "HaGj7_s0lNWt",
        "outputId": "71610610-ab1a-485f-d1c2-07700a764637"
      },
      "execution_count": 374,
      "outputs": [
        {
          "output_type": "stream",
          "name": "stdout",
          "text": [
            "Precisión de entrenamiento: 81.53 %\n"
          ]
        }
      ]
    },
    {
      "cell_type": "markdown",
      "source": [
        "**Ahora repetimos el proceso de concatenación para el test**"
      ],
      "metadata": {
        "id": "-2F0NygG5X0l"
      }
    },
    {
      "cell_type": "code",
      "source": [
        "m_ts, n_ts = X_test_scaled.shape\n",
        "# Agregar el término de intercepción a X_train_scaled\n",
        "X_test_sccn = np.concatenate([np.ones((m_ts, 1)), X_test_scaled], axis=1)"
      ],
      "metadata": {
        "id": "MR1GEYplmBRk"
      },
      "execution_count": 375,
      "outputs": []
    },
    {
      "cell_type": "code",
      "source": [
        "p_test = predict(theta, X_test_sccn)\n",
        "print(p_test)"
      ],
      "metadata": {
        "colab": {
          "base_uri": "https://localhost:8080/"
        },
        "id": "11XrqxrVlwuz",
        "outputId": "8e8bd194-ad93-480c-f146-0ab98b192c89"
      },
      "execution_count": 376,
      "outputs": [
        {
          "output_type": "stream",
          "name": "stdout",
          "text": [
            "[0. 0. 0. ... 1. 0. 0.]\n"
          ]
        }
      ]
    },
    {
      "cell_type": "markdown",
      "source": [
        "Haciendo las comparaciones conseguimos un porcentaje de precisión de 81.68% en el test"
      ],
      "metadata": {
        "id": "yM2Ryk59oU-d"
      }
    },
    {
      "cell_type": "code",
      "source": [
        "print('Precisión de test: {:.2f} %'.format(np.mean(p_test == Y_test) * 100))"
      ],
      "metadata": {
        "colab": {
          "base_uri": "https://localhost:8080/"
        },
        "id": "UKFJO0FmmSsR",
        "outputId": "00cdf52a-2783-4a1e-f6c8-b01021c7fc5e"
      },
      "execution_count": 405,
      "outputs": [
        {
          "output_type": "stream",
          "name": "stdout",
          "text": [
            "Precisión de test: 81.68 %\n"
          ]
        }
      ]
    },
    {
      "cell_type": "markdown",
      "source": [
        "# **DATASET 2 - Modelo Regresión Polinómica**"
      ],
      "metadata": {
        "id": "lgqS128PoQIJ"
      }
    },
    {
      "cell_type": "markdown",
      "source": [
        "Variables de entrada (X):\n",
        "\n",
        "TIME\n",
        "FM1\n",
        "PE1\n",
        "PE2\n",
        "PE3\n",
        "PE4\n",
        "EPOCH\n",
        "\n",
        "Variables de salida (Y):\n",
        "\n",
        "TP1\t(Temperatura en el tanque de pintura)\n"
      ],
      "metadata": {
        "id": "ktLJbxMq5syu"
      }
    },
    {
      "cell_type": "code",
      "source": [
        "url = \"/content/drive/MyDrive/SIS420/Primer Parcial SIS420/manual_30min_norm.csv\"\n",
        "dataframe1 = pd.read_csv(url)\n",
        "print(dataframe1)"
      ],
      "metadata": {
        "colab": {
          "base_uri": "https://localhost:8080/"
        },
        "id": "z9GuOYfDoWA7",
        "outputId": "7d7a517f-35eb-415d-d57d-f07b857f1105"
      },
      "execution_count": 378,
      "outputs": [
        {
          "output_type": "stream",
          "name": "stdout",
          "text": [
            "                    TIME   FM1   PE1   PE2   PE3   PE4   TP1         EPOCH\n",
            "0       16/09/2013 00:00  1.00  0.54  0.54  0.12  0.12  0.14  1.379290e+09\n",
            "1       16/09/2013 00:30  1.00  0.54  0.54  0.12  0.12  0.14  1.379291e+09\n",
            "2       16/09/2013 01:00  1.00  0.54  0.54  0.12  0.12  0.14  1.379293e+09\n",
            "3       16/09/2013 01:30  1.00  0.54  0.54  0.12  0.12  0.15  1.379295e+09\n",
            "4       16/09/2013 02:00  1.00  0.54  0.54  0.12  0.12  0.15  1.379297e+09\n",
            "...                  ...   ...   ...   ...   ...   ...   ...           ...\n",
            "110636    7/1/2020 22:00  0.24  0.49  0.55  0.52  0.40  0.54  1.578434e+09\n",
            "110637    7/1/2020 22:30  0.24  0.49  0.55  0.52  0.40  0.54  1.578436e+09\n",
            "110638    7/1/2020 23:00  0.24  0.49  0.55  0.52  0.40  0.54  1.578438e+09\n",
            "110639    7/1/2020 23:30  0.24  0.49  0.55  0.52  0.40  0.54  1.578440e+09\n",
            "110640     8/1/2020 0:00  0.24  0.49  0.55  0.52  0.40  0.54  1.578442e+09\n",
            "\n",
            "[110641 rows x 8 columns]\n"
          ]
        }
      ]
    },
    {
      "cell_type": "markdown",
      "source": [
        "Modificamos la primera columna para volverla un valor numérico"
      ],
      "metadata": {
        "id": "V36Xum2u6dN2"
      }
    },
    {
      "cell_type": "code",
      "source": [
        "# Convertir la columna 'TIME' a tipo datetime\n",
        "dataframe1['TIME'] = pd.to_datetime(dataframe1['TIME'], format='%d/%m/%Y %H:%M')\n",
        "# Calcular la diferencia en minutos desde un punto de referencia\n",
        "referencia = dataframe1['TIME'].min()\n",
        "dataframe1['TIME'] = (dataframe1['TIME'] - referencia).dt.total_seconds() / 60.0\n",
        "\n",
        "print(dataframe1)\n"
      ],
      "metadata": {
        "colab": {
          "base_uri": "https://localhost:8080/"
        },
        "id": "5LcJFn3UrBIs",
        "outputId": "f57797f1-c80d-4afc-9d23-4199b85fa2ec"
      },
      "execution_count": 379,
      "outputs": [
        {
          "output_type": "stream",
          "name": "stdout",
          "text": [
            "             TIME   FM1   PE1   PE2   PE3   PE4   TP1         EPOCH\n",
            "0             0.0  1.00  0.54  0.54  0.12  0.12  0.14  1.379290e+09\n",
            "1            30.0  1.00  0.54  0.54  0.12  0.12  0.14  1.379291e+09\n",
            "2            60.0  1.00  0.54  0.54  0.12  0.12  0.14  1.379293e+09\n",
            "3            90.0  1.00  0.54  0.54  0.12  0.12  0.15  1.379295e+09\n",
            "4           120.0  1.00  0.54  0.54  0.12  0.12  0.15  1.379297e+09\n",
            "...           ...   ...   ...   ...   ...   ...   ...           ...\n",
            "110636  3319080.0  0.24  0.49  0.55  0.52  0.40  0.54  1.578434e+09\n",
            "110637  3319110.0  0.24  0.49  0.55  0.52  0.40  0.54  1.578436e+09\n",
            "110638  3319140.0  0.24  0.49  0.55  0.52  0.40  0.54  1.578438e+09\n",
            "110639  3319170.0  0.24  0.49  0.55  0.52  0.40  0.54  1.578440e+09\n",
            "110640  3319200.0  0.24  0.49  0.55  0.52  0.40  0.54  1.578442e+09\n",
            "\n",
            "[110641 rows x 8 columns]\n"
          ]
        }
      ]
    },
    {
      "cell_type": "code",
      "source": [
        "#Se imprime la descripción de las columnas para buscar valores nulos\n",
        "print(dataframe1.describe())"
      ],
      "metadata": {
        "colab": {
          "base_uri": "https://localhost:8080/"
        },
        "id": "e6PJFqFjqTf6",
        "outputId": "31ce8f41-f2bd-4739-c6d0-4b143e65e807"
      },
      "execution_count": 380,
      "outputs": [
        {
          "output_type": "stream",
          "name": "stdout",
          "text": [
            "               TIME            FM1            PE1            PE2  \\\n",
            "count  1.106410e+05  110641.000000  110641.000000  110641.000000   \n",
            "mean   1.659600e+06       0.468360       0.562330       0.585334   \n",
            "std    9.581835e+05       0.258899       0.061579       0.042080   \n",
            "min    0.000000e+00       0.000000       0.460000       0.140000   \n",
            "25%    8.298000e+05       0.260000       0.510000       0.550000   \n",
            "50%    1.659600e+06       0.410000       0.530000       0.600000   \n",
            "75%    2.489400e+06       0.630000       0.620000       0.620000   \n",
            "max    3.319200e+06       1.000000       1.000000       0.650000   \n",
            "\n",
            "                 PE3            PE4            TP1         EPOCH  \n",
            "count  110641.000000  110641.000000  110641.000000  1.106410e+05  \n",
            "mean        0.522831       0.399237       0.396455  1.478866e+09  \n",
            "std         0.125541       0.125405       0.080875  5.749101e+07  \n",
            "min         0.120000       0.000000       0.000000  1.379290e+09  \n",
            "25%         0.550000       0.370000       0.370000  1.429078e+09  \n",
            "50%         0.570000       0.440000       0.380000  1.478866e+09  \n",
            "75%         0.580000       0.480000       0.410000  1.528654e+09  \n",
            "max         0.680000       0.620000       1.000000  1.578442e+09  \n"
          ]
        }
      ]
    },
    {
      "cell_type": "markdown",
      "source": [
        "**No se encontró valores nulos asi que ya podemos usar el dataset**"
      ],
      "metadata": {
        "id": "NmEIeB2O6lZe"
      }
    },
    {
      "cell_type": "code",
      "source": [
        "#Separamos las caracteristicas de la variable de salida\n",
        "X1 = dataframe1.drop(columns=['TP1'])\n",
        "Y1 = dataframe1['TP1']\n",
        "print(X1.shape)\n",
        "print(Y1.shape)"
      ],
      "metadata": {
        "colab": {
          "base_uri": "https://localhost:8080/"
        },
        "id": "Z9HPa6KG0Jyf",
        "outputId": "21698137-74dd-4b1b-87f8-8113a311dca8"
      },
      "execution_count": 381,
      "outputs": [
        {
          "output_type": "stream",
          "name": "stdout",
          "text": [
            "(110641, 7)\n",
            "(110641,)\n"
          ]
        }
      ]
    },
    {
      "cell_type": "markdown",
      "source": [
        "**Separamos el dataset 80% para entrenamiento y 20% para el test**"
      ],
      "metadata": {
        "id": "RbFKrNML6wzD"
      }
    },
    {
      "cell_type": "code",
      "source": [
        "X1_train, X1_test, Y1_train, Y1_test = train_test_split(X1, Y1, test_size=0.2, random_state=42)\n",
        "print(X1_train.shape)\n",
        "print(Y1_train.shape)"
      ],
      "metadata": {
        "colab": {
          "base_uri": "https://localhost:8080/"
        },
        "id": "wqHq--wU3aWR",
        "outputId": "511fd775-7c0c-424e-efcb-4a140d0168d5"
      },
      "execution_count": 382,
      "outputs": [
        {
          "output_type": "stream",
          "name": "stdout",
          "text": [
            "(88512, 7)\n",
            "(88512,)\n"
          ]
        }
      ]
    },
    {
      "cell_type": "markdown",
      "source": [
        "Asignamos los valores del dataset a otra variable para su uso"
      ],
      "metadata": {
        "id": "rmOV3qwc65Nl"
      }
    },
    {
      "cell_type": "code",
      "source": [
        "X1_tr = X1_train.values\n",
        "Y1_tr = Y1_train.values\n",
        "m = Y1_tr.size\n",
        "n = X1_tr.shape[0]\n",
        "print(m,n)"
      ],
      "metadata": {
        "colab": {
          "base_uri": "https://localhost:8080/"
        },
        "id": "FLZzzMkR4sZf",
        "outputId": "e959d9f1-1895-46bb-bdf2-40efc445139c"
      },
      "execution_count": 383,
      "outputs": [
        {
          "output_type": "stream",
          "name": "stdout",
          "text": [
            "88512 88512\n"
          ]
        }
      ]
    },
    {
      "cell_type": "markdown",
      "source": [
        "**Esta funcion nos servira para hacer la multiplicación de pares para encontrar la nueva matriz**"
      ],
      "metadata": {
        "id": "jP22YF838Ldv"
      }
    },
    {
      "cell_type": "code",
      "source": [
        "def row_multiplications(row):\n",
        "    n = len(row)\n",
        "    result = [row[i] * row[j] for i in range(n) for j in range(i+1, n)]\n",
        "    return result"
      ],
      "metadata": {
        "id": "Ze-a0kI5tlt-"
      },
      "execution_count": 384,
      "outputs": []
    },
    {
      "cell_type": "code",
      "source": [
        "#Eleva la matriz inicial al cuadrado\n",
        "X1_trCuad = X1_tr**2"
      ],
      "metadata": {
        "id": "mNbsrFgUtKBP"
      },
      "execution_count": 385,
      "outputs": []
    },
    {
      "cell_type": "code",
      "source": [
        "# Aplicar la función a cada fila de la matriz original\n",
        "X1_trComb = np.array([row_multiplications(row) for row in X1_tr])"
      ],
      "metadata": {
        "id": "DgZBxT3itgHk"
      },
      "execution_count": 386,
      "outputs": []
    },
    {
      "cell_type": "code",
      "source": [
        "print(X1_trComb)"
      ],
      "metadata": {
        "colab": {
          "base_uri": "https://localhost:8080/"
        },
        "id": "kms5z25otsKt",
        "outputId": "f3b5bbc0-ed6a-465e-9958-b7199c26ea75"
      },
      "execution_count": 387,
      "outputs": [
        {
          "output_type": "stream",
          "name": "stdout",
          "text": [
            "[[3.92940000e+05 4.12920000e+05 3.99600000e+05 ... 2.90700000e-01\n",
            "  8.08972329e+08 7.23817347e+08]\n",
            " [6.29424000e+05 8.52345000e+05 8.26119000e+05 ... 2.88000000e-01\n",
            "  8.74780560e+08 6.99824448e+08]\n",
            " [1.09003440e+06 1.01217480e+06 1.07056950e+06 ... 2.85600000e-01\n",
            "  8.37804240e+08 7.63000290e+08]\n",
            " ...\n",
            " [7.46596800e+05 1.55541000e+06 1.67984280e+06 ... 2.21400000e-01\n",
            "  8.45606952e+08 6.42034908e+08]\n",
            " [1.98660000e+04 1.34160000e+04 1.34160000e+04 ... 1.05000000e-02\n",
            "  2.07125640e+08 9.66586320e+07]\n",
            " [6.63390000e+04 2.93787000e+05 2.84310000e+05 ... 2.96400000e-01\n",
            "  8.02400742e+08 7.32014712e+08]]\n"
          ]
        }
      ]
    },
    {
      "cell_type": "code",
      "source": [
        "#Unimos las 3 matrices conseguidas\n",
        "X1_trTot = np.concatenate([X1_tr, X1_trCuad,X1_trComb], axis=1)"
      ],
      "metadata": {
        "id": "FUbKdCwWt5HV"
      },
      "execution_count": 388,
      "outputs": []
    },
    {
      "cell_type": "markdown",
      "source": [
        "**Definimos la funcion para normalizar los datos**"
      ],
      "metadata": {
        "id": "8bJQM14X8qde"
      }
    },
    {
      "cell_type": "code",
      "source": [
        "def  featureNormalize(X):\n",
        "    X_norm = X.copy()\n",
        "    mu = np.zeros(X.shape[1])\n",
        "    sigma = np.zeros(X.shape[1])\n",
        "\n",
        "    mu = np.mean(X, axis = 0)\n",
        "    sigma = np.std(X, axis = 0)\n",
        "    X_norm = (X - mu) / sigma\n",
        "\n",
        "    return X_norm, mu, sigma"
      ],
      "metadata": {
        "id": "PPxTFiZy4Bg5"
      },
      "execution_count": 389,
      "outputs": []
    },
    {
      "cell_type": "markdown",
      "source": [
        "Normalizamos la matriz completa"
      ],
      "metadata": {
        "id": "OJEx3CiX81os"
      }
    },
    {
      "cell_type": "code",
      "source": [
        "X_norm, mu, sigma = featureNormalize(X1_trTot)\n",
        "\n",
        "print(X1_trTot)\n",
        "print('Media calculada:', mu)\n",
        "print('Desviación estandar calculada:', sigma)\n",
        "print(X_norm)"
      ],
      "metadata": {
        "colab": {
          "base_uri": "https://localhost:8080/"
        },
        "id": "rMLkJ7e24j5P",
        "outputId": "f07c298c-6864-4825-a048-36a9b8fe1f26"
      },
      "execution_count": 390,
      "outputs": [
        {
          "output_type": "stream",
          "name": "stdout",
          "text": [
            "[[6.66000000e+05 5.90000000e-01 6.20000000e-01 ... 2.90700000e-01\n",
            "  8.08972329e+08 7.23817347e+08]\n",
            " [1.31130000e+06 4.80000000e-01 6.50000000e-01 ... 2.88000000e-01\n",
            "  8.74780560e+08 6.99824448e+08]\n",
            " [1.94649000e+06 5.60000000e-01 5.20000000e-01 ... 2.85600000e-01\n",
            "  8.37804240e+08 7.63000290e+08]\n",
            " ...\n",
            " [3.11082000e+06 2.40000000e-01 5.00000000e-01 ... 2.21400000e-01\n",
            "  8.45606952e+08 6.42034908e+08]\n",
            " [2.58000000e+04 7.70000000e-01 5.20000000e-01 ... 1.05000000e-02\n",
            "  2.07125640e+08 9.66586320e+07]\n",
            " [4.73850000e+05 1.40000000e-01 6.20000000e-01 ... 2.96400000e-01\n",
            "  8.02400742e+08 7.32014712e+08]]\n",
            "Media calculada: [1.66102016e+06 4.67857466e-01 5.62326690e-01 5.85335548e-01\n",
            " 5.23061506e-01 3.99507185e-01 1.47895081e+09 3.67784865e+12\n",
            " 2.85771886e-01 3.20008243e-01 3.44396141e-01 2.89259698e-01\n",
            " 1.75274132e-01 2.19060340e+18 7.93652662e+05 8.93048106e+05\n",
            " 9.56573953e+05 9.28792152e+05 7.14579453e+05 2.51169875e+15\n",
            " 2.61617980e-01 2.73112137e-01 2.47221054e-01 1.90001840e-01\n",
            " 6.92930097e+08 3.30675652e-01 2.93087160e-01 2.23405987e-01\n",
            " 8.29194242e+08 3.07064390e-01 2.34472937e-01 8.64741671e+08\n",
            " 2.21539717e-01 7.77180824e+08 5.93910873e+08]\n",
            "Desviación estandar calculada: [9.58572214e+05 2.58614148e-01 6.16192866e-02 4.21715213e-02\n",
            " 1.25165328e-01 1.25172445e-01 5.75143329e+07 3.28799149e+12\n",
            " 2.87972698e-01 7.21505496e-02 4.64205615e-02 9.59571091e-02\n",
            " 7.96481685e-02 1.70145133e+17 6.80656327e+05 4.76292971e+05\n",
            " 5.29243445e+05 5.50160068e+05 4.33699089e+05 1.51397747e+15\n",
            " 1.46532779e-01 1.50394817e-01 1.52479876e-01 1.25388077e-01\n",
            " 3.84749953e+08 5.40820778e-02 7.83497184e-02 7.51110092e-02\n",
            " 7.35622657e+07 7.86273701e-02 7.68170980e-02 5.74427345e+07\n",
            " 8.40713987e-02 1.92911985e+08 1.88710308e+08]\n",
            "[[-1.03802316e+00  4.72296410e-01  9.35961986e-01 ...  8.22637478e-01\n",
            "   1.64797977e-01  6.88390978e-01]\n",
            " [-3.64834441e-01  4.69523182e-02  1.42282254e+00 ...  7.90521918e-01\n",
            "   5.05928836e-01  5.61249545e-01]\n",
            " [ 2.97807341e-01  3.56293476e-01 -6.86906528e-01 ...  7.61974754e-01\n",
            "   3.14254275e-01  8.96026392e-01]\n",
            " ...\n",
            " [ 1.51245761e+00 -8.81071155e-01 -1.01148023e+00 ... -1.66188086e-03\n",
            "   3.54701280e-01  2.55015400e-01]\n",
            " [-1.70589146e+00  1.16831402e+00 -6.86906528e-01 ... -2.51024391e+00\n",
            "  -2.95500140e+00 -2.63500307e+00]\n",
            " [-1.23847754e+00 -1.26774760e+00  9.35961986e-01 ...  8.90436992e-01\n",
            "   1.30732768e-01  7.31829861e-01]]\n"
          ]
        }
      ]
    },
    {
      "cell_type": "markdown",
      "source": [
        "Concatenamos el bias a la matriz completa"
      ],
      "metadata": {
        "id": "Bs2AExmH88S6"
      }
    },
    {
      "cell_type": "code",
      "source": [
        "X1_trTot = np.concatenate([np.ones((m, 1)), X_norm], axis=1)\n",
        "print(X1_trTot)"
      ],
      "metadata": {
        "colab": {
          "base_uri": "https://localhost:8080/"
        },
        "id": "MnPHa8AE5X-9",
        "outputId": "7d60f0f5-e2f0-4266-ed7d-b3ba269e0edc"
      },
      "execution_count": 391,
      "outputs": [
        {
          "output_type": "stream",
          "name": "stdout",
          "text": [
            "[[ 1.00000000e+00 -1.03802316e+00  4.72296410e-01 ...  8.22637478e-01\n",
            "   1.64797977e-01  6.88390978e-01]\n",
            " [ 1.00000000e+00 -3.64834441e-01  4.69523182e-02 ...  7.90521918e-01\n",
            "   5.05928836e-01  5.61249545e-01]\n",
            " [ 1.00000000e+00  2.97807341e-01  3.56293476e-01 ...  7.61974754e-01\n",
            "   3.14254275e-01  8.96026392e-01]\n",
            " ...\n",
            " [ 1.00000000e+00  1.51245761e+00 -8.81071155e-01 ... -1.66188086e-03\n",
            "   3.54701280e-01  2.55015400e-01]\n",
            " [ 1.00000000e+00 -1.70589146e+00  1.16831402e+00 ... -2.51024391e+00\n",
            "  -2.95500140e+00 -2.63500307e+00]\n",
            " [ 1.00000000e+00 -1.23847754e+00 -1.26774760e+00 ...  8.90436992e-01\n",
            "   1.30732768e-01  7.31829861e-01]]\n"
          ]
        }
      ]
    },
    {
      "cell_type": "markdown",
      "source": [
        "**Definimos las funciones de costo y gradiente para la regresión **"
      ],
      "metadata": {
        "id": "7sS2Sekm8_Yf"
      }
    },
    {
      "cell_type": "code",
      "source": [
        "def computeCostMulti(X1_trTot, Y1_tr, theta1):\n",
        "    m = Y1_tr.shape[0]\n",
        "    h = np.dot(X1_trTot, theta1)\n",
        "    J = (1 / (2 * m)) * np.sum(np.square(h - Y1_tr))\n",
        "    return J"
      ],
      "metadata": {
        "id": "vS1XyJ0zA8I7"
      },
      "execution_count": 392,
      "outputs": []
    },
    {
      "cell_type": "code",
      "source": [
        "def gradientDescentMulti(X, y, theta1, alpha, num_iters):\n",
        "    m = y.shape[0]\n",
        "    J_history = []\n",
        "    for i in range(num_iters):\n",
        "        h = np.dot(X, theta1)\n",
        "        theta1 = theta1 - (alpha / m) * (np.dot(X.T, (h - y)))\n",
        "        J_history.append(computeCostMulti(X, y, theta1))\n",
        "    return theta1, J_history"
      ],
      "metadata": {
        "id": "Kj-ApQiQA-B6"
      },
      "execution_count": 393,
      "outputs": []
    },
    {
      "cell_type": "markdown",
      "source": [
        "**Calculamos las thetas para hacer las predicciones**"
      ],
      "metadata": {
        "id": "G0xmmVqD9EQQ"
      }
    },
    {
      "cell_type": "code",
      "source": [
        "alpha = 0.003\n",
        "num_iters = 1000\n",
        "\n",
        "theta1 = np.zeros(X1_trTot.shape[1])\n",
        "\n",
        "theta1, J_history = gradientDescentMulti(X1_trTot, Y1_tr, theta1, alpha, num_iters)\n",
        "\n",
        "print('theta calculado sin regularizacion: {:s}'.format(str(theta1)))\n",
        "\n",
        "pyplot.plot(np.arange(len(J_history)), J_history, lw=2)\n",
        "pyplot.xlabel('Número de iteraciones')\n",
        "pyplot.ylabel('Costo J')"
      ],
      "metadata": {
        "colab": {
          "base_uri": "https://localhost:8080/",
          "height": 632
        },
        "id": "zv3lwkTT5wfv",
        "outputId": "ee44e669-1c52-4d50-8d0e-c6bc61c88811"
      },
      "execution_count": 404,
      "outputs": [
        {
          "output_type": "stream",
          "name": "stdout",
          "text": [
            "theta calculado sin regularizacion: [ 3.76738732e-01  4.50002429e-04 -5.23670379e-03  2.77771566e-03\n",
            " -1.64510677e-03 -5.27330896e-03 -1.68281957e-03  4.50002434e-04\n",
            "  1.12139167e-04  3.20696126e-03  2.63438137e-03 -7.95146009e-04\n",
            " -9.05544679e-04 -1.30763849e-03  4.27422047e-04  3.77200578e-03\n",
            "  3.86322969e-06 -5.97377856e-05  2.48100935e-04  1.23735749e-03\n",
            "  4.07597136e-04 -5.31996501e-03 -5.57669259e-03  3.58349887e-03\n",
            "  3.77622610e-03 -4.45459648e-03  1.46885290e-03 -3.81414139e-03\n",
            " -6.40298587e-04  3.21076016e-03 -4.63860279e-03 -1.31638302e-03\n",
            " -1.69886494e-03 -5.24410672e-04 -4.67669392e-03 -1.36897000e-03]\n"
          ]
        },
        {
          "output_type": "execute_result",
          "data": {
            "text/plain": [
              "Text(0, 0.5, 'Costo J')"
            ]
          },
          "metadata": {},
          "execution_count": 404
        },
        {
          "output_type": "display_data",
          "data": {
            "text/plain": [
              "<Figure size 640x480 with 1 Axes>"
            ],
            "image/png": "[encoded data removed]"
          },
          "metadata": {}
        }
      ]
    },
    {
      "cell_type": "markdown",
      "source": [
        "Hacemos nuevamente el proceso de concatenar matrices para los valores del test"
      ],
      "metadata": {
        "id": "KbF0l_gg9LCP"
      }
    },
    {
      "cell_type": "code",
      "source": [
        "X1_ts = X1_test.values\n",
        "Y1_ts = Y1_test.values\n",
        "mts = Y1_ts.size\n",
        "print(X1_ts.shape)\n",
        "print(Y1_ts.shape)"
      ],
      "metadata": {
        "colab": {
          "base_uri": "https://localhost:8080/"
        },
        "id": "J4x2zEor8NQE",
        "outputId": "028205e4-657d-4fd7-a1f8-75e0603894fb"
      },
      "execution_count": 395,
      "outputs": [
        {
          "output_type": "stream",
          "name": "stdout",
          "text": [
            "(22129, 7)\n",
            "(22129,)\n"
          ]
        }
      ]
    },
    {
      "cell_type": "markdown",
      "source": [
        "Elevamos al cuadrado y multiplicamos los elementos para cada fila"
      ],
      "metadata": {
        "id": "Vw6q-XER9QVU"
      }
    },
    {
      "cell_type": "code",
      "source": [
        "X1_tstCuad=X1_ts**2\n",
        "\n",
        "X1_tstComb = np.array([row_multiplications(row) for row in X1_ts])"
      ],
      "metadata": {
        "id": "q-GwSNsQwOHO"
      },
      "execution_count": 396,
      "outputs": []
    },
    {
      "cell_type": "markdown",
      "source": [
        "Unimos las 3 matrices en una sola"
      ],
      "metadata": {
        "id": "HA5o7g6a9VZy"
      }
    },
    {
      "cell_type": "code",
      "source": [
        "X1_tstTot = np.concatenate([X1_ts, X1_tstCuad,X1_tstComb], axis=1)"
      ],
      "metadata": {
        "id": "tE1y-qyiweNx"
      },
      "execution_count": 397,
      "outputs": []
    },
    {
      "cell_type": "markdown",
      "source": [
        "Defino una nueva funcion de normalización que elimina los valores de sigma=0 esto para evitar la división entre 0"
      ],
      "metadata": {
        "id": "Zw1tqcDl9XoK"
      }
    },
    {
      "cell_type": "code",
      "source": [
        "def featureNormalizeZ(X):\n",
        "    X_norm = X.copy()\n",
        "    mu = np.zeros(X.shape[1])\n",
        "    sigma = np.zeros(X.shape[1])\n",
        "\n",
        "    mu = np.mean(X, axis=0)\n",
        "    sigma = np.std(X, axis=0)\n",
        "\n",
        "    zero_std_indices = np.where(sigma == 0)[0]\n",
        "    X_norm = np.delete(X_norm, zero_std_indices, axis=1)\n",
        "    mu = np.delete(mu, zero_std_indices)\n",
        "    sigma = np.delete(sigma, zero_std_indices)\n",
        "\n",
        "    X_norm = (X_norm - mu) / sigma\n",
        "\n",
        "    return X_norm, mu, sigma"
      ],
      "metadata": {
        "id": "zSJx1bZvxluB"
      },
      "execution_count": 398,
      "outputs": []
    },
    {
      "cell_type": "markdown",
      "source": [
        "Normalizamos la matriz del test"
      ],
      "metadata": {
        "id": "asQCNsCZ9g0N"
      }
    },
    {
      "cell_type": "code",
      "source": [
        "X_normTs, mu, sigma = featureNormalizeZ(X1_tstTot)\n",
        "\n",
        "print(X1_tstTot)\n",
        "print('Media calculada:', mu)\n",
        "print('Desviación estandar calculada:', sigma)\n",
        "print(X_normTs)"
      ],
      "metadata": {
        "colab": {
          "base_uri": "https://localhost:8080/"
        },
        "id": "jx6mkeI2-OZ3",
        "outputId": "ea0c21e8-531a-4429-fbc5-02c1b9d210d9"
      },
      "execution_count": 399,
      "outputs": [
        {
          "output_type": "stream",
          "name": "stdout",
          "text": [
            "[[1.22934000e+06 2.40000000e-01 6.50000000e-01 ... 2.66800000e-01\n",
            "  8.42769000e+08 6.68403000e+08]\n",
            " [1.42854000e+06 6.00000000e-01 6.50000000e-01 ... 3.13200000e-01\n",
            "  8.49701160e+08 7.91101080e+08]\n",
            " [2.72412000e+06 5.30000000e-01 5.10000000e-01 ... 2.90000000e-01\n",
            "  8.94787344e+08 7.71368400e+08]\n",
            " ...\n",
            " [7.63410000e+05 3.30000000e-01 6.20000000e-01 ... 2.68800000e-01\n",
            "  7.98052696e+08 6.84045168e+08]\n",
            " [1.15050000e+05 5.00000000e-01 5.80000000e-01 ... 8.19000000e-02\n",
            "  5.40615114e+08 2.91100446e+08]\n",
            " [9.99000000e+04 4.90000000e-01 5.70000000e-01 ... 1.35300000e-01\n",
            "  5.67966276e+08 4.57143588e+08]]\n",
            "Media calculada: [1.65391963e+06 4.70371913e-01 5.62343531e-01 5.85328754e-01\n",
            " 5.21910163e-01 3.98158525e-01 1.47852478e+09 3.65050375e+12\n",
            " 2.88859153e-01 3.20002024e-01 3.44349713e-01 2.88526002e-01\n",
            " 1.74487817e-01 2.18932971e+18 7.96187924e+05 8.88917239e+05\n",
            " 9.52431126e+05 9.24959647e+05 7.11462591e+05 2.50026436e+15\n",
            " 2.62939954e-01 2.74460614e-01 2.47940564e-01 1.90346266e-01\n",
            " 6.96550363e+08 3.30701541e-01 2.92433549e-01 2.22634199e-01\n",
            " 8.28969618e+08 3.06379592e-01 2.33656528e-01 8.64483731e+08\n",
            " 2.20716431e-01 7.75362839e+08 5.91863668e+08]\n",
            "Desviación estandar calculada: [9.56584351e+05 2.60018109e-01 6.14147988e-02 4.17128594e-02\n",
            " 1.27026705e-01 1.26323418e-01 5.73950611e+07 3.27137373e+12\n",
            " 2.90723517e-01 7.17755847e-02 4.63127658e-02 9.72476534e-02\n",
            " 8.01466863e-02 1.69754711e+17 6.85832579e+05 4.73342719e+05\n",
            " 5.27969418e+05 5.49721347e+05 4.34093223e+05 1.51021294e+15\n",
            " 1.47117112e-01 1.50964160e-01 1.53480311e-01 1.26065136e-01\n",
            " 3.86929568e+08 5.39692339e-02 7.91912537e-02 7.56277063e-02\n",
            " 7.29207237e+07 7.96580342e-02 7.73922321e-02 5.67668319e+07\n",
            " 8.49134218e-02 1.95667646e+08 1.90547843e+08]\n",
            "[[-0.44384965 -0.88598411  1.42728578 ...  0.54271243  0.34449314\n",
            "   0.40168039]\n",
            " [-0.23560873  0.49853484  1.42728578 ...  1.08915136  0.37992137\n",
            "   1.04560308]\n",
            " [ 1.11877261  0.22932282 -0.85229508 ...  0.81593189  0.61034365\n",
            "   0.94204547]\n",
            " ...\n",
            " [-0.9309264  -0.53985437  0.93880417 ...  0.56626583  0.11596121\n",
            "   0.48377089]\n",
            " [-1.60871294  0.11394625  0.28749535 ... -1.63479963 -1.19972683\n",
            "  -1.57841316]\n",
            " [-1.62455054  0.07548739  0.12466814 ... -1.00592379 -1.05994306\n",
            "  -0.70701446]]\n"
          ]
        }
      ]
    },
    {
      "cell_type": "markdown",
      "source": [
        "Concatenamos el bias al test"
      ],
      "metadata": {
        "id": "V_uXZ-7X9jK3"
      }
    },
    {
      "cell_type": "code",
      "source": [
        "X1_tstTot = np.concatenate([np.ones((mts, 1)), X_normTs], axis=1)\n",
        "print(X1_ts.shape)"
      ],
      "metadata": {
        "colab": {
          "base_uri": "https://localhost:8080/"
        },
        "id": "VpbUWY5b893i",
        "outputId": "afc913b4-43fc-4807-924e-7673d760b493"
      },
      "execution_count": 400,
      "outputs": [
        {
          "output_type": "stream",
          "name": "stdout",
          "text": [
            "(22129, 7)\n"
          ]
        }
      ]
    },
    {
      "cell_type": "markdown",
      "source": [
        "Hacemos las predicciones"
      ],
      "metadata": {
        "id": "kqDo9gIP9lrG"
      }
    },
    {
      "cell_type": "code",
      "source": [
        "PredicTP1 = np.dot(X1_tstTot, theta1)"
      ],
      "metadata": {
        "id": "nwErzPOe9JDF"
      },
      "execution_count": 401,
      "outputs": []
    },
    {
      "cell_type": "markdown",
      "source": [
        "Comparamos las predicciones con las Y predichas del test, se puede ver que son similares entre si"
      ],
      "metadata": {
        "id": "H24mCVXy9nsx"
      }
    },
    {
      "cell_type": "code",
      "source": [
        "print(PredicTP1)\n",
        "print(Y1_ts)"
      ],
      "metadata": {
        "colab": {
          "base_uri": "https://localhost:8080/"
        },
        "id": "vSj8NyrJ9Umg",
        "outputId": "23f7366d-ac3f-4320-d4e3-be5ad2a2c327"
      },
      "execution_count": 402,
      "outputs": [
        {
          "output_type": "stream",
          "name": "stdout",
          "text": [
            "[0.37713333 0.35769837 0.36742323 ... 0.37072584 0.39444126 0.38817048]\n",
            "[0.33 0.37 0.54 ... 0.32 0.39 0.22]\n"
          ]
        }
      ]
    }
  ]
}